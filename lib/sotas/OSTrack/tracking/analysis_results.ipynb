{
 "cells": [
  {
   "cell_type": "code",
   "execution_count": 9,
   "metadata": {
    "collapsed": false,
    "pycharm": {
     "name": "#%%\n"
    }
   },
   "outputs": [
    {
     "name": "stdout",
     "output_type": "stream",
     "text": [
      "The autoreload extension is already loaded. To reload it, use:\n",
      "  %reload_ext autoreload\n"
     ]
    }
   ],
   "source": [
    "%load_ext autoreload\n",
    "%autoreload 2\n",
    "%matplotlib inline\n",
    "import os\n",
    "import sys\n",
    "import matplotlib.pyplot as plt\n",
    "plt.rcParams['figure.figsize'] = [14, 8]\n",
    "\n",
    "sys.path.append('/home/test4/code/EventBenchmark/lib/sotas/OSTrack')\n",
    "from lib.test.analysis.plot_results import plot_results, print_results, print_per_sequence_results, print_results_per_video\n",
    "from lib.test.evaluation import get_dataset, trackerlist"
   ]
  },
  {
   "cell_type": "code",
   "execution_count": 12,
   "metadata": {
    "collapsed": false,
    "pycharm": {
     "name": "#%%\n"
    }
   },
   "outputs": [
    {
     "name": "stdout",
     "output_type": "stream",
     "text": [
      "\n",
      "Reporting results over 21 / 21 sequences\n",
      "\n",
      "esot2_default         | AUC        | OP50       | OP75       | Precision    | Norm Precision    |\n",
      "OSTrack256            | 30.60      | 33.08      | 5.89       | 48.79        | 30.25             |\n",
      "OSTrack-trial4        | 47.36      | 57.96      | 36.94      | 67.66        | 56.41             |\n",
      "OSTrack-trial6        | 57.65      | 69.09      | 48.18      | 81.47        | 65.57             |\n",
      "OSTrack-trial8        | 50.52      | 61.16      | 39.90      | 68.72        | 60.88             |\n",
      "OSTrack-trial9        | 56.73      | 68.13      | 47.85      | 80.64        | 65.17             |\n",
      "OSTrack-baseline      | 54.35      | 65.89      | 43.06      | 78.46        | 62.67             |\n",
      "OSTrack-aug           | 54.39      | 66.01      | 42.95      | 78.87        | 63.04             |\n",
      "\n"
     ]
    }
   ],
   "source": [
    "# dataset_name = 'esot_20_20'\n",
    "dataset_name = 'esot2_default'\n",
    "\n",
    "trackers = []\n",
    "trackers.extend(trackerlist(name='ostrack', parameter_name='vitb_256_mae_ce_32x4_ep300', dataset_name=dataset_name,\n",
    "                            run_ids=None, display_name='OSTrack256'))\n",
    "trackers.extend(trackerlist(name='ostrack', parameter_name='trial4_vitb_256_mae_ce_32x4_aligned', dataset_name=dataset_name,\n",
    "                            run_ids=None, display_name='OSTrack-trial4'))\n",
    "trackers.extend(trackerlist(name='ostrack', parameter_name='trial6_ostrack256_aug1', dataset_name=dataset_name,\n",
    "                            run_ids=None, display_name='OSTrack-trial6'))\n",
    "trackers.extend(trackerlist(name='ostrack', parameter_name='trial8_ostrack256', dataset_name=dataset_name,\n",
    "                            run_ids=None, display_name='OSTrack-trial8'))\n",
    "trackers.extend(trackerlist(name='ostrack', parameter_name='trial9_ostrack256', dataset_name=dataset_name,\n",
    "                            run_ids=None, display_name='OSTrack-trial9'))\n",
    "trackers.extend(trackerlist(name='ostrack', parameter_name='baseline', dataset_name=dataset_name,\n",
    "                            run_ids=None, display_name='OSTrack-baseline'))\n",
    "trackers.extend(trackerlist(name='ostrack', parameter_name='aug', dataset_name=dataset_name,\n",
    "                            run_ids=None, display_name='OSTrack-aug'))\n",
    "# trackers.extend(trackerlist(name='ostrack', parameter_name='vitb_384_mae_ce_32x4_ep300', dataset_name=dataset_name,\n",
    "#                             run_ids=None, display_name='OSTrack384'))\n",
    "\n",
    "dataset = get_dataset(dataset_name)\n",
    "# plot_results(trackers, dataset, dataset_name, merge_results=True, plot_types=('success', 'prec'),\n",
    "#              skip_missing_seq=False, force_evaluation=True, plot_bin_gap=0.05, exclude_invalid_frames=False)\n",
    "print_results(trackers, dataset, dataset_name, merge_results=True, plot_types=('success', 'prec', 'norm_prec'))\n",
    "# print_results_per_video(trackers, dataset, dataset_name, merge_results=True, plot_types=('success', 'prec', 'norm_prec'),\n",
    "#                         per_video=True, force_evaluation=True)\n",
    "# print_per_sequence_results(trackers, dataset, dataset_name, merge_results=True, plot_types=('success', 'prec', 'norm_prec'))"
   ]
  }
 ],
 "metadata": {
  "kernelspec": {
   "display_name": "Python 3",
   "language": "python",
   "name": "python3"
  },
  "language_info": {
   "codemirror_mode": {
    "name": "ipython",
    "version": 3
   },
   "file_extension": ".py",
   "mimetype": "text/x-python",
   "name": "python",
   "nbconvert_exporter": "python",
   "pygments_lexer": "ipython3",
   "version": "3.8.13"
  }
 },
 "nbformat": 4,
 "nbformat_minor": 0
}
