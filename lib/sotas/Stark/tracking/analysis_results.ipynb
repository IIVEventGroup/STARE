{
 "cells": [
  {
   "cell_type": "code",
   "execution_count": 1,
   "metadata": {},
   "outputs": [
    {
     "name": "stderr",
     "output_type": "stream",
     "text": [
      "/usr/local/anaconda3/envs/ebench/lib/python3.8/site-packages/tqdm/auto.py:22: TqdmWarning: IProgress not found. Please update jupyter and ipywidgets. See https://ipywidgets.readthedocs.io/en/stable/user_install.html\n",
      "  from .autonotebook import tqdm as notebook_tqdm\n"
     ]
    }
   ],
   "source": [
    "import _init_paths\n",
    "import matplotlib.pyplot as plt\n",
    "import sys\n",
    "plt.rcParams['figure.figsize'] = [8, 8]\n",
    "\n",
    "sys.path.append('/home/test4/code/EventBenchmark/lib/sotas/Stark')\n",
    "from lib.test.analysis.plot_results import plot_results, print_results, print_per_sequence_results\n",
    "from lib.test.evaluation import get_dataset, trackerlist\n"
   ]
  },
  {
   "cell_type": "code",
   "execution_count": 2,
   "metadata": {},
   "outputs": [
    {
     "name": "stderr",
     "output_type": "stream",
     "text": [
      "100%|██████████| 21/21 [00:00<00:00, 221.83it/s]"
     ]
    },
    {
     "name": "stdout",
     "output_type": "stream",
     "text": [
      "\n",
      "\n",
      "Computed results over 21 / 21 sequences\n",
      "\n",
      "Reporting results over 21 / 21 sequences\n",
      "\n",
      "esot2_default      | AUC        | OP50       | OP75       | Precision    |\n",
      "stark_s            | 44.67      | 53.14      | 29.14      | 66.44        |\n",
      "\n"
     ]
    },
    {
     "name": "stderr",
     "output_type": "stream",
     "text": [
      "\n"
     ]
    }
   ],
   "source": [
    "dataset_name = 'esot2_default'\n",
    "\n",
    "trackers = []\n",
    "trackers.extend(trackerlist(name='stark_s', parameter_name='baseline', dataset_name=dataset_name,\n",
    "                            run_ids=None, display_name='stark_s'))\n",
    "\n",
    "# dataset = get_dataset(dataset_name)\n",
    "dataset = get_dataset(dataset_name)\n",
    "# plot_results(trackers, dataset, 'OTB2015', merge_results=True, plot_types=('success', 'norm_prec'),\n",
    "#              skip_missing_seq=False, force_evaluation=True, plot_bin_gap=0.05)\n",
    "print_results(trackers, dataset, dataset_name, merge_results=True, plot_types=('success', 'prec'))\n",
    "# print_results(trackers, dataset, 'UNO', merge_results=True, plot_types=('success', 'prec'))\n"
   ]
  }
 ],
 "metadata": {
  "kernelspec": {
   "display_name": "ebench",
   "language": "python",
   "name": "python3"
  },
  "language_info": {
   "codemirror_mode": {
    "name": "ipython",
    "version": 3
   },
   "file_extension": ".py",
   "mimetype": "text/x-python",
   "name": "python",
   "nbconvert_exporter": "python",
   "pygments_lexer": "ipython3",
   "version": "3.8.13"
  },
  "orig_nbformat": 4
 },
 "nbformat": 4,
 "nbformat_minor": 2
}
