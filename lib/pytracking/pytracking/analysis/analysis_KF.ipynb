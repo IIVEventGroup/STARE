{
 "cells": [
  {
   "cell_type": "code",
   "execution_count": 1,
   "metadata": {},
   "outputs": [
    {
     "name": "stderr",
     "output_type": "stream",
     "text": [
      "/usr/local/anaconda3/envs/ebench/lib/python3.8/site-packages/tqdm/auto.py:22: TqdmWarning: IProgress not found. Please update jupyter and ipywidgets. See https://ipywidgets.readthedocs.io/en/stable/user_install.html\n",
      "  from .autonotebook import tqdm as notebook_tqdm\n"
     ]
    }
   ],
   "source": [
    "%load_ext autoreload\n",
    "%autoreload 2\n",
    "%matplotlib inline\n",
    "import os\n",
    "import sys\n",
    "import matplotlib.pyplot as plt\n",
    "plt.rcParams['figure.figsize'] = [14, 8]\n",
    "\n",
    "sys.path.append('/home/test4/code/EventBenchmark/lib/pytracking')\n",
    "from pytracking.analysis.plot_results import plot_results, print_results, print_per_sequence_results\n",
    "from pytracking.evaluation import get_dataset, trackerlist"
   ]
  },
  {
   "cell_type": "code",
   "execution_count": 4,
   "metadata": {},
   "outputs": [
    {
     "name": "stderr",
     "output_type": "stream",
     "text": [
      "100%|██████████| 32/32 [00:21<00:00,  1.49it/s]"
     ]
    },
    {
     "name": "stdout",
     "output_type": "stream",
     "text": [
      "\n",
      "\n",
      "Computed results over 32 / 32 sequences\n",
      "\n",
      "Reporting results over 32 / 32 sequences\n",
      "\n",
      "esot500s                 | AUC        | OP50       | OP75       | Precision    | Norm Precision    |\n",
      "pred_esot500_bs4         | 2.83       | 1.24       | 0.08       | 1.27         | 2.62              |\n",
      "pred_esot500mix_bs4      | 5.71       | 2.56       | 0.56       | 2.27         | 3.36              |\n",
      "\n"
     ]
    },
    {
     "name": "stderr",
     "output_type": "stream",
     "text": [
      "\n"
     ]
    }
   ],
   "source": [
    "trackers = []\n",
    "trackers.extend(trackerlist(name='ostrack', parameter_name='pred_esot500_bs4', \n",
    "                            run_ids=None, display_name='pred_esot500_bs4'))\n",
    "trackers.extend(trackerlist(name='ostrack', parameter_name='pred_esot500mix_bs4', \n",
    "                            run_ids=None, display_name='pred_esot500mix_bs4'))                          \n",
    "stream_setting_id = 14\n",
    "dataset_name = 'esot500s'\n",
    "dataset = get_dataset(dataset_name)\n",
    "print_results(trackers, dataset, dataset_name, merge_results=False, plot_types=('success', 'prec', 'norm_prec'),force_evaluation=True, stream_id=stream_setting_id)"
   ]
  },
  {
   "cell_type": "code",
   "execution_count": 23,
   "metadata": {},
   "outputs": [
    {
     "name": "stderr",
     "output_type": "stream",
     "text": [
      "100%|██████████| 32/32 [00:01<00:00, 17.82it/s]\n"
     ]
    },
    {
     "name": "stdout",
     "output_type": "stream",
     "text": [
      "\n",
      "\n",
      "Computed results over 32 / 32 sequences\n",
      "\n",
      "Reporting results over 32 / 32 sequences\n",
      "\n",
      "esot500s              | AUC        | OP50       | OP75       | Precision    | Norm Precision    |\n",
      "ostrack-baseline      | 41.19      | 45.12      | 20.06      | 54.69        | 48.08             |\n",
      "ostrack-aug           | 52.64      | 60.48      | 32.55      | 66.81        | 60.64             |\n",
      "\n"
     ]
    },
    {
     "name": "stderr",
     "output_type": "stream",
     "text": [
      "100%|██████████| 21/21 [00:00<00:00, 349.97it/s]"
     ]
    },
    {
     "name": "stdout",
     "output_type": "stream",
     "text": [
      "\n",
      "\n",
      "Computed results over 21 / 21 sequences\n",
      "\n",
      "Reporting results over 21 / 21 sequences\n",
      "\n",
      "esot2s                | AUC        | OP50       | OP75       | Precision    | Norm Precision    |\n",
      "ostrack-baseline      | 38.81      | 45.85      | 24.16      | 59.74        | 46.55             |\n",
      "ostrack-aug           | 39.12      | 46.50      | 23.72      | 58.99        | 47.26             |\n",
      "\n"
     ]
    },
    {
     "name": "stderr",
     "output_type": "stream",
     "text": [
      "\n"
     ]
    }
   ],
   "source": [
    "trackers = []\n",
    "trackers.extend(trackerlist(name='ostrack', parameter_name='baseline', \n",
    "                            run_ids=None, display_name='ostrack-baseline'))\n",
    "trackers.extend(trackerlist(name='ostrack', parameter_name='aug', \n",
    "                            run_ids=None, display_name='ostrack-aug'))                          \n",
    "stream_setting_id = 18\n",
    "dataset_name = 'esot500s'\n",
    "dataset = get_dataset(dataset_name)\n",
    "print_results(trackers, dataset, dataset_name, merge_results=False, plot_types=('success', 'prec', 'norm_prec'),force_evaluation=True, stream_id=stream_setting_id)\n",
    "# print_per_sequence_results(trackers, dataset, dataset_name, merge_results=False,force_evaluation=True, stream_id=stream_setting_id)\n",
    "stream_setting_id = 18\n",
    "dataset_name = 'esot2s'\n",
    "dataset = get_dataset(dataset_name)\n",
    "print_results(trackers, dataset, dataset_name, merge_results=False, plot_types=('success', 'prec', 'norm_prec'),force_evaluation=True, stream_id=stream_setting_id)\n"
   ]
  },
  {
   "cell_type": "code",
   "execution_count": 25,
   "metadata": {},
   "outputs": [
    {
     "name": "stderr",
     "output_type": "stream",
     "text": [
      "100%|██████████| 32/32 [00:03<00:00,  8.51it/s]\n"
     ]
    },
    {
     "name": "stdout",
     "output_type": "stream",
     "text": [
      "\n",
      "\n",
      "Computed results over 32 / 32 sequences\n",
      "\n",
      "Reporting results over 32 / 32 sequences\n",
      "\n",
      "esot500s              | AUC        | OP50       | OP75       | Precision    | Norm Precision    |\n",
      "ostrack-baseline      | 39.89      | 42.88      | 21.05      | 51.62        | 46.52             |\n",
      "ostrack-aug           | 51.16      | 58.55      | 32.10      | 63.99        | 60.50             |\n",
      "\n"
     ]
    },
    {
     "name": "stderr",
     "output_type": "stream",
     "text": [
      "100%|██████████| 21/21 [00:00<00:00, 297.30it/s]"
     ]
    },
    {
     "name": "stdout",
     "output_type": "stream",
     "text": [
      "\n",
      "\n",
      "Computed results over 21 / 21 sequences\n",
      "\n",
      "Reporting results over 21 / 21 sequences\n",
      "\n",
      "esot2s                | AUC        | OP50       | OP75       | Precision    | Norm Precision    |\n",
      "ostrack-baseline      | 39.34      | 47.20      | 23.51      | 58.88        | 46.94             |\n",
      "ostrack-aug           | 38.34      | 45.63      | 23.23      | 57.97        | 46.11             |\n",
      "\n"
     ]
    },
    {
     "name": "stderr",
     "output_type": "stream",
     "text": [
      "\n"
     ]
    }
   ],
   "source": [
    "trackers = []\n",
    "trackers.extend(trackerlist(name='ostrack', parameter_name='baseline', \n",
    "                            run_ids=None, display_name='ostrack-baseline'))\n",
    "trackers.extend(trackerlist(name='ostrack', parameter_name='aug', \n",
    "                            run_ids=None, display_name='ostrack-aug'))                          \n",
    "stream_setting_id = '18-postKF'\n",
    "dataset_name = 'esot500s'\n",
    "dataset = get_dataset(dataset_name)\n",
    "print_results(trackers, dataset, dataset_name, merge_results=False, plot_types=('success', 'prec', 'norm_prec'),force_evaluation=True, stream_id=stream_setting_id)\n",
    "# print_per_sequence_results(trackers, dataset, dataset_name, merge_results=False,force_evaluation=True, stream_id=stream_setting_id)\n",
    "stream_setting_id = '18-postKF'\n",
    "dataset_name = 'esot2s'\n",
    "dataset = get_dataset(dataset_name)\n",
    "print_results(trackers, dataset, dataset_name, merge_results=False, plot_types=('success', 'prec', 'norm_prec'),force_evaluation=True, stream_id=stream_setting_id)"
   ]
  },
  {
   "cell_type": "code",
   "execution_count": 2,
   "metadata": {},
   "outputs": [
    {
     "name": "stderr",
     "output_type": "stream",
     "text": [
      "100%|██████████| 32/32 [00:02<00:00, 12.33it/s]\n"
     ]
    },
    {
     "name": "stdout",
     "output_type": "stream",
     "text": [
      "\n",
      "\n",
      "Computed results over 32 / 32 sequences\n",
      "\n",
      "Reporting results over 32 / 32 sequences\n",
      "\n",
      "esot500s              | AUC        | OP50       | OP75       | Precision    | Norm Precision    |\n",
      "ostrack-baseline      | 38.31      | 41.45      | 18.20      | 47.97        | 41.26             |\n",
      "ostrack-aug           | 54.01      | 61.65      | 35.13      | 68.09        | 59.77             |\n",
      "\n"
     ]
    },
    {
     "name": "stderr",
     "output_type": "stream",
     "text": [
      "100%|██████████| 21/21 [00:00<00:00, 216.68it/s]"
     ]
    },
    {
     "name": "stdout",
     "output_type": "stream",
     "text": [
      "\n",
      "\n",
      "Computed results over 21 / 21 sequences\n",
      "\n",
      "Reporting results over 21 / 21 sequences\n",
      "\n",
      "esot2s                | AUC        | OP50       | OP75       | Precision    | Norm Precision    |\n",
      "ostrack-baseline      | 37.20      | 45.80      | 23.83      | 56.09        | 44.38             |\n",
      "ostrack-aug           | 40.29      | 48.38      | 25.81      | 62.99        | 47.13             |\n",
      "\n"
     ]
    },
    {
     "name": "stderr",
     "output_type": "stream",
     "text": [
      "\n"
     ]
    }
   ],
   "source": [
    "trackers = []\n",
    "trackers.extend(trackerlist(name='ostrack', parameter_name='baseline', \n",
    "                            run_ids=None, display_name='ostrack-baseline'))\n",
    "trackers.extend(trackerlist(name='ostrack', parameter_name='aug', \n",
    "                            run_ids=None, display_name='ostrack-aug'))                          \n",
    "stream_setting_id = 19\n",
    "dataset_name = 'esot500s'\n",
    "dataset = get_dataset(dataset_name)\n",
    "print_results(trackers, dataset, dataset_name, merge_results=False, plot_types=('success', 'prec', 'norm_prec'),force_evaluation=True, stream_id=stream_setting_id)\n",
    "# print_per_sequence_results(trackers, dataset, dataset_name, merge_results=False,force_evaluation=True, stream_id=stream_setting_id)\n",
    "stream_setting_id = 19\n",
    "dataset_name = 'esot2s'\n",
    "dataset = get_dataset(dataset_name)\n",
    "print_results(trackers, dataset, dataset_name, merge_results=False, plot_types=('success', 'prec', 'norm_prec'),force_evaluation=True, stream_id=stream_setting_id)"
   ]
  },
  {
   "cell_type": "code",
   "execution_count": 4,
   "metadata": {},
   "outputs": [
    {
     "name": "stderr",
     "output_type": "stream",
     "text": [
      "100%|██████████| 32/32 [00:01<00:00, 16.29it/s]\n"
     ]
    },
    {
     "name": "stdout",
     "output_type": "stream",
     "text": [
      "\n",
      "\n",
      "Computed results over 32 / 32 sequences\n",
      "\n",
      "Reporting results over 32 / 32 sequences\n",
      "\n",
      "esot500s              | AUC        | OP50       | OP75       | Precision    | Norm Precision    |\n",
      "ostrack-baseline      | 38.48      | 41.99      | 19.74      | 48.56        | 43.28             |\n",
      "ostrack-aug           | 54.69      | 62.82      | 37.23      | 69.03        | 62.63             |\n",
      "\n"
     ]
    },
    {
     "name": "stderr",
     "output_type": "stream",
     "text": [
      "100%|██████████| 21/21 [00:00<00:00, 361.86it/s]"
     ]
    },
    {
     "name": "stdout",
     "output_type": "stream",
     "text": [
      "\n",
      "\n",
      "Computed results over 21 / 21 sequences\n",
      "\n",
      "Reporting results over 21 / 21 sequences\n",
      "\n",
      "esot2s                | AUC        | OP50       | OP75       | Precision    | Norm Precision    |\n",
      "ostrack-baseline      | 37.62      | 46.07      | 24.77      | 55.91        | 44.96             |\n",
      "ostrack-aug           | 40.23      | 48.29      | 25.84      | 62.75        | 47.43             |\n",
      "\n"
     ]
    },
    {
     "name": "stderr",
     "output_type": "stream",
     "text": [
      "\n"
     ]
    }
   ],
   "source": [
    "trackers = []\n",
    "trackers.extend(trackerlist(name='ostrack', parameter_name='baseline', \n",
    "                            run_ids=None, display_name='ostrack-baseline'))\n",
    "trackers.extend(trackerlist(name='ostrack', parameter_name='aug', \n",
    "                            run_ids=None, display_name='ostrack-aug'))                          \n",
    "stream_setting_id = '19-postKF'\n",
    "dataset_name = 'esot500s'\n",
    "dataset = get_dataset(dataset_name)\n",
    "print_results(trackers, dataset, dataset_name, merge_results=False, plot_types=('success', 'prec', 'norm_prec'),force_evaluation=True, stream_id=stream_setting_id)\n",
    "# print_per_sequence_results(trackers, dataset, dataset_name, merge_results=False,force_evaluation=True, stream_id=stream_setting_id)\n",
    "stream_setting_id = '19-postKF'\n",
    "dataset_name = 'esot2s'\n",
    "dataset = get_dataset(dataset_name)\n",
    "print_results(trackers, dataset, dataset_name, merge_results=False, plot_types=('success', 'prec', 'norm_prec'),force_evaluation=True, stream_id=stream_setting_id)"
   ]
  },
  {
   "cell_type": "code",
   "execution_count": 7,
   "metadata": {},
   "outputs": [
    {
     "name": "stderr",
     "output_type": "stream",
     "text": [
      "100%|██████████| 32/32 [00:01<00:00, 21.03it/s]\n"
     ]
    },
    {
     "name": "stdout",
     "output_type": "stream",
     "text": [
      "\n",
      "\n",
      "Computed results over 32 / 32 sequences\n",
      "\n",
      "Reporting results over 32 / 32 sequences\n",
      "\n",
      "esot500s              | AUC        | OP50       | OP75       | Precision    | Norm Precision    |\n",
      "ostrack-baseline      | 40.00      | 41.92      | 18.04      | 53.35        | 44.29             |\n",
      "ostrack-aug           | 51.85      | 57.21      | 30.31      | 66.22        | 56.61             |\n",
      "\n"
     ]
    },
    {
     "name": "stderr",
     "output_type": "stream",
     "text": [
      "100%|██████████| 21/21 [00:00<00:00, 368.60it/s]"
     ]
    },
    {
     "name": "stdout",
     "output_type": "stream",
     "text": [
      "\n",
      "\n",
      "Computed results over 21 / 21 sequences\n",
      "\n",
      "Reporting results over 21 / 21 sequences\n",
      "\n",
      "esot2s                | AUC        | OP50       | OP75       | Precision    | Norm Precision    |\n",
      "ostrack-baseline      | 39.32      | 46.30      | 21.25      | 62.31        | 46.12             |\n",
      "ostrack-aug           | 39.33      | 45.89      | 22.19      | 63.83        | 46.13             |\n",
      "\n"
     ]
    },
    {
     "name": "stderr",
     "output_type": "stream",
     "text": [
      "\n"
     ]
    }
   ],
   "source": [
    "trackers = []\n",
    "trackers.extend(trackerlist(name='ostrack', parameter_name='baseline', \n",
    "                            run_ids=None, display_name='ostrack-baseline'))\n",
    "trackers.extend(trackerlist(name='ostrack', parameter_name='aug', \n",
    "                            run_ids=None, display_name='ostrack-aug'))\n",
    "stream_setting_id = 14\n",
    "dataset_name = 'esot500s'\n",
    "dataset = get_dataset(dataset_name)\n",
    "print_results(trackers, dataset, dataset_name, merge_results=False, plot_types=('success', 'prec', 'norm_prec'),force_evaluation=True, stream_id=stream_setting_id)\n",
    "# print_per_sequence_results(trackers, dataset, dataset_name, merge_results=False,force_evaluation=True, stream_id=stream_setting_id)\n",
    "stream_setting_id = 14\n",
    "dataset_name = 'esot2s'\n",
    "dataset = get_dataset(dataset_name)\n",
    "print_results(trackers, dataset, dataset_name, merge_results=False, plot_types=('success', 'prec', 'norm_prec'),force_evaluation=True, stream_id=stream_setting_id)"
   ]
  },
  {
   "cell_type": "code",
   "execution_count": 8,
   "metadata": {},
   "outputs": [
    {
     "name": "stderr",
     "output_type": "stream",
     "text": [
      "100%|██████████| 32/32 [00:01<00:00, 21.14it/s]\n"
     ]
    },
    {
     "name": "stdout",
     "output_type": "stream",
     "text": [
      "\n",
      "\n",
      "Computed results over 32 / 32 sequences\n",
      "\n",
      "Reporting results over 32 / 32 sequences\n",
      "\n",
      "esot500s              | AUC        | OP50       | OP75       | Precision    | Norm Precision    |\n",
      "ostrack-baseline      | 40.66      | 44.02      | 20.01      | 53.73        | 46.85             |\n",
      "ostrack-aug           | 52.75      | 59.96      | 32.10      | 66.92        | 60.22             |\n",
      "\n"
     ]
    },
    {
     "name": "stderr",
     "output_type": "stream",
     "text": [
      "100%|██████████| 21/21 [00:00<00:00, 307.62it/s]"
     ]
    },
    {
     "name": "stdout",
     "output_type": "stream",
     "text": [
      "\n",
      "\n",
      "Computed results over 21 / 21 sequences\n",
      "\n",
      "Reporting results over 21 / 21 sequences\n",
      "\n",
      "esot2s                | AUC        | OP50       | OP75       | Precision    | Norm Precision    |\n",
      "ostrack-baseline      | 38.95      | 45.80      | 22.20      | 62.06        | 44.83             |\n",
      "ostrack-aug           | 38.37      | 43.44      | 22.43      | 63.17        | 43.18             |\n",
      "\n"
     ]
    },
    {
     "name": "stderr",
     "output_type": "stream",
     "text": [
      "\n"
     ]
    }
   ],
   "source": [
    "trackers = []\n",
    "trackers.extend(trackerlist(name='ostrack', parameter_name='baseline', \n",
    "                            run_ids=None, display_name='ostrack-baseline'))\n",
    "trackers.extend(trackerlist(name='ostrack', parameter_name='aug', \n",
    "                            run_ids=None, display_name='ostrack-aug'))\n",
    "stream_setting_id = '14-postKF'\n",
    "dataset_name = 'esot500s'\n",
    "dataset = get_dataset(dataset_name)\n",
    "print_results(trackers, dataset, dataset_name, merge_results=False, plot_types=('success', 'prec', 'norm_prec'),force_evaluation=True, stream_id=stream_setting_id)\n",
    "# print_per_sequence_results(trackers, dataset, dataset_name, merge_results=False,force_evaluation=True, stream_id=stream_setting_id)\n",
    "stream_setting_id = '14-postKF'\n",
    "dataset_name = 'esot2s'\n",
    "dataset = get_dataset(dataset_name)\n",
    "print_results(trackers, dataset, dataset_name, merge_results=False, plot_types=('success', 'prec', 'norm_prec'),force_evaluation=True, stream_id=stream_setting_id)"
   ]
  },
  {
   "cell_type": "code",
   "execution_count": 2,
   "metadata": {},
   "outputs": [
    {
     "name": "stderr",
     "output_type": "stream",
     "text": [
      "100%|██████████| 32/32 [00:03<00:00, 10.36it/s]\n"
     ]
    },
    {
     "name": "stdout",
     "output_type": "stream",
     "text": [
      "\n",
      "\n",
      "Computed results over 32 / 32 sequences\n",
      "\n",
      "Reporting results over 32 / 32 sequences\n",
      "\n",
      "esot500s              | AUC        | OP50       | OP75       | Precision    | Norm Precision    |\n",
      "ostrack-baseline      | 29.54      | 27.55      | 8.58       | 34.87        | 28.95             |\n",
      "ostrack-aug           | 35.97      | 36.50      | 15.27      | 39.98        | 34.72             |\n",
      "ostrack-aug_2x        | 34.03      | 33.31      | 6.12       | 37.72        | 27.37             |\n",
      "\n"
     ]
    },
    {
     "name": "stderr",
     "output_type": "stream",
     "text": [
      "100%|██████████| 21/21 [00:00<00:00, 227.19it/s]"
     ]
    },
    {
     "name": "stdout",
     "output_type": "stream",
     "text": [
      "\n",
      "\n",
      "Computed results over 21 / 21 sequences\n",
      "\n",
      "Reporting results over 21 / 21 sequences\n",
      "\n",
      "esot2s                | AUC        | OP50       | OP75       | Precision    | Norm Precision    |\n",
      "ostrack-baseline      | 29.72      | 31.39      | 7.12       | 51.80        | 25.97             |\n",
      "ostrack-aug           | 31.90      | 34.53      | 8.45       | 53.26        | 27.69             |\n",
      "ostrack-aug_2x        | 30.16      | 32.75      | 11.73      | 50.81        | 27.26             |\n",
      "\n"
     ]
    },
    {
     "name": "stderr",
     "output_type": "stream",
     "text": [
      "\n"
     ]
    }
   ],
   "source": [
    "trackers = []\n",
    "trackers.extend(trackerlist(name='ostrack', parameter_name='baseline', \n",
    "                            run_ids=None, display_name='ostrack-baseline'))\n",
    "trackers.extend(trackerlist(name='ostrack', parameter_name='aug', \n",
    "                            run_ids=None, display_name='ostrack-aug'))\n",
    "trackers.extend(trackerlist(name='ostrack', parameter_name='aug_2x', \n",
    "                            run_ids=None, display_name='ostrack-aug_2x'))\n",
    "stream_setting_id = 15\n",
    "dataset_name = 'esot500s'\n",
    "dataset = get_dataset(dataset_name)\n",
    "print_results(trackers, dataset, dataset_name, merge_results=False, plot_types=('success', 'prec', 'norm_prec'),force_evaluation=True, stream_id=stream_setting_id)\n",
    "# print_per_sequence_results(trackers, dataset, dataset_name, merge_results=False,force_evaluation=True, stream_id=stream_setting_id)\n",
    "stream_setting_id = 15\n",
    "dataset_name = 'esot2s'\n",
    "dataset = get_dataset(dataset_name)\n",
    "print_results(trackers, dataset, dataset_name, merge_results=False, plot_types=('success', 'prec', 'norm_prec'),force_evaluation=True, stream_id=stream_setting_id)\n"
   ]
  },
  {
   "cell_type": "code",
   "execution_count": 21,
   "metadata": {},
   "outputs": [
    {
     "name": "stderr",
     "output_type": "stream",
     "text": [
      "100%|██████████| 32/32 [00:02<00:00, 13.00it/s]\n"
     ]
    },
    {
     "name": "stdout",
     "output_type": "stream",
     "text": [
      "\n",
      "\n",
      "Computed results over 32 / 32 sequences\n",
      "\n",
      "Reporting results over 32 / 32 sequences\n",
      "\n",
      "esot500s              | AUC        | OP50       | OP75       | Precision    | Norm Precision    |\n",
      "ostrack-baseline      | 29.53      | 27.68      | 10.57      | 35.29        | 30.27             |\n",
      "ostrack-aug           | 36.22      | 37.35      | 16.16      | 41.33        | 36.98             |\n",
      "ostrack-aug_2x        | 33.56      | 33.41      | 6.28       | 37.18        | 28.06             |\n",
      "\n"
     ]
    },
    {
     "name": "stderr",
     "output_type": "stream",
     "text": [
      "100%|██████████| 21/21 [00:00<00:00, 257.76it/s]"
     ]
    },
    {
     "name": "stdout",
     "output_type": "stream",
     "text": [
      "\n",
      "\n",
      "Computed results over 21 / 21 sequences\n",
      "\n",
      "Reporting results over 21 / 21 sequences\n",
      "\n",
      "esot2s                | AUC        | OP50       | OP75       | Precision    | Norm Precision    |\n",
      "ostrack-baseline      | 33.25      | 39.59      | 13.15      | 55.08        | 35.65             |\n",
      "ostrack-aug           | 34.54      | 41.48      | 14.39      | 55.17        | 38.07             |\n",
      "ostrack-aug_2x        | 30.96      | 35.97      | 10.29      | 50.56        | 30.96             |\n",
      "\n"
     ]
    },
    {
     "name": "stderr",
     "output_type": "stream",
     "text": [
      "\n"
     ]
    }
   ],
   "source": [
    "trackers = []\n",
    "trackers.extend(trackerlist(name='ostrack', parameter_name='baseline', \n",
    "                            run_ids=None, display_name='ostrack-baseline'))\n",
    "trackers.extend(trackerlist(name='ostrack', parameter_name='aug', \n",
    "                            run_ids=None, display_name='ostrack-aug'))\n",
    "trackers.extend(trackerlist(name='ostrack', parameter_name='aug_2x', \n",
    "                            run_ids=None, display_name='ostrack-aug_2x'))\n",
    "stream_setting_id = '15-postKF'\n",
    "dataset_name = 'esot500s'\n",
    "dataset = get_dataset(dataset_name)\n",
    "print_results(trackers, dataset, dataset_name, merge_results=False, plot_types=('success', 'prec', 'norm_prec'),force_evaluation=True, stream_id=stream_setting_id)\n",
    "# print_per_sequence_results(trackers, dataset, dataset_name, merge_results=False,force_evaluation=True, stream_id=stream_setting_id)\n",
    "stream_setting_id = '15-postKF'\n",
    "dataset_name = 'esot2s'\n",
    "dataset = get_dataset(dataset_name)\n",
    "print_results(trackers, dataset, dataset_name, merge_results=False, plot_types=('success', 'prec', 'norm_prec'),force_evaluation=True, stream_id=stream_setting_id)"
   ]
  },
  {
   "cell_type": "code",
   "execution_count": 29,
   "metadata": {},
   "outputs": [
    {
     "name": "stderr",
     "output_type": "stream",
     "text": [
      "100%|██████████| 32/32 [00:02<00:00, 12.16it/s]\n"
     ]
    },
    {
     "name": "stdout",
     "output_type": "stream",
     "text": [
      "\n",
      "\n",
      "Computed results over 32 / 32 sequences\n",
      "\n",
      "Reporting results over 32 / 32 sequences\n",
      "\n",
      "esot500s              | AUC        | OP50       | OP75       | Precision    | Norm Precision    |\n",
      "ostrack-baseline      | 27.95      | 26.09      | 7.54       | 31.15        | 26.21             |\n",
      "ostrack-aug           | 38.93      | 40.37      | 18.35      | 43.35        | 38.15             |\n",
      "ostrack-aug_2x        | 35.19      | 36.05      | 6.49       | 39.43        | 28.64             |\n",
      "\n"
     ]
    },
    {
     "name": "stderr",
     "output_type": "stream",
     "text": [
      "100%|██████████| 21/21 [00:00<00:00, 252.86it/s]"
     ]
    },
    {
     "name": "stdout",
     "output_type": "stream",
     "text": [
      "\n",
      "\n",
      "Computed results over 21 / 21 sequences\n",
      "\n",
      "Reporting results over 21 / 21 sequences\n",
      "\n",
      "esot2s                | AUC        | OP50       | OP75       | Precision    | Norm Precision    |\n",
      "ostrack-baseline      | 28.18      | 29.51      | 6.94       | 50.66        | 23.29             |\n",
      "ostrack-aug           | 33.37      | 37.60      | 10.27      | 54.57        | 29.75             |\n",
      "ostrack-aug_2x        | 31.42      | 35.11      | 12.27      | 53.34        | 28.13             |\n",
      "\n"
     ]
    },
    {
     "name": "stderr",
     "output_type": "stream",
     "text": [
      "\n"
     ]
    }
   ],
   "source": [
    "trackers = []\n",
    "trackers.extend(trackerlist(name='ostrack', parameter_name='baseline', \n",
    "                            run_ids=None, display_name='ostrack-baseline'))\n",
    "trackers.extend(trackerlist(name='ostrack', parameter_name='aug', \n",
    "                            run_ids=None, display_name='ostrack-aug'))\n",
    "trackers.extend(trackerlist(name='ostrack', parameter_name='aug_2x', \n",
    "                            run_ids=None, display_name='ostrack-aug_2x'))\n",
    "stream_setting_id = 17\n",
    "dataset_name = 'esot500s'\n",
    "dataset = get_dataset(dataset_name)\n",
    "print_results(trackers, dataset, dataset_name, merge_results=False, plot_types=('success', 'prec', 'norm_prec'),force_evaluation=True, stream_id=stream_setting_id)\n",
    "# print_per_sequence_results(trackers, dataset, dataset_name, merge_results=False,force_evaluation=True, stream_id=stream_setting_id)\n",
    "stream_setting_id = 17\n",
    "dataset_name = 'esot2s'\n",
    "dataset = get_dataset(dataset_name)\n",
    "print_results(trackers, dataset, dataset_name, merge_results=False, plot_types=('success', 'prec', 'norm_prec'),force_evaluation=True, stream_id=stream_setting_id)"
   ]
  },
  {
   "cell_type": "code",
   "execution_count": 31,
   "metadata": {},
   "outputs": [
    {
     "name": "stderr",
     "output_type": "stream",
     "text": [
      "100%|██████████| 32/32 [00:02<00:00, 13.42it/s]\n"
     ]
    },
    {
     "name": "stdout",
     "output_type": "stream",
     "text": [
      "\n",
      "\n",
      "Computed results over 32 / 32 sequences\n",
      "\n",
      "Reporting results over 32 / 32 sequences\n",
      "\n",
      "esot500s              | AUC        | OP50       | OP75       | Precision    | Norm Precision    |\n",
      "ostrack-baseline      | 26.88      | 24.53      | 9.64       | 28.75        | 25.76             |\n",
      "ostrack-aug           | 37.01      | 38.17      | 19.49      | 40.33        | 37.21             |\n",
      "ostrack-aug_2x        | 33.07      | 33.85      | 6.17       | 35.41        | 26.77             |\n",
      "\n"
     ]
    },
    {
     "name": "stderr",
     "output_type": "stream",
     "text": [
      "100%|██████████| 21/21 [00:00<00:00, 252.75it/s]"
     ]
    },
    {
     "name": "stdout",
     "output_type": "stream",
     "text": [
      "\n",
      "\n",
      "Computed results over 21 / 21 sequences\n",
      "\n",
      "Reporting results over 21 / 21 sequences\n",
      "\n",
      "esot2s                | AUC        | OP50       | OP75       | Precision    | Norm Precision    |\n",
      "ostrack-baseline      | 32.14      | 38.19      | 13.08      | 53.13        | 33.58             |\n",
      "ostrack-aug           | 36.09      | 43.89      | 15.55      | 57.39        | 39.01             |\n",
      "ostrack-aug_2x        | 33.02      | 38.78      | 11.50      | 53.44        | 33.24             |\n",
      "\n"
     ]
    },
    {
     "name": "stderr",
     "output_type": "stream",
     "text": [
      "\n"
     ]
    }
   ],
   "source": [
    "trackers = []\n",
    "trackers.extend(trackerlist(name='ostrack', parameter_name='baseline', \n",
    "                            run_ids=None, display_name='ostrack-baseline'))\n",
    "trackers.extend(trackerlist(name='ostrack', parameter_name='aug', \n",
    "                            run_ids=None, display_name='ostrack-aug'))\n",
    "trackers.extend(trackerlist(name='ostrack', parameter_name='aug_2x', \n",
    "                            run_ids=None, display_name='ostrack-aug_2x'))\n",
    "stream_setting_id = '17-postKF'\n",
    "dataset_name = 'esot500s'\n",
    "dataset = get_dataset(dataset_name)\n",
    "print_results(trackers, dataset, dataset_name, merge_results=False, plot_types=('success', 'prec', 'norm_prec'),force_evaluation=True, stream_id=stream_setting_id)\n",
    "# print_per_sequence_results(trackers, dataset, dataset_name, merge_results=False,force_evaluation=True, stream_id=stream_setting_id)\n",
    "stream_setting_id = '17-postKF'\n",
    "dataset_name = 'esot2s'\n",
    "dataset = get_dataset(dataset_name)\n",
    "print_results(trackers, dataset, dataset_name, merge_results=False, plot_types=('success', 'prec', 'norm_prec'),force_evaluation=True, stream_id=stream_setting_id)"
   ]
  },
  {
   "cell_type": "code",
   "execution_count": 6,
   "metadata": {},
   "outputs": [
    {
     "name": "stderr",
     "output_type": "stream",
     "text": [
      "100%|██████████| 32/32 [00:01<00:00, 20.10it/s]\n"
     ]
    },
    {
     "name": "stdout",
     "output_type": "stream",
     "text": [
      "\n",
      "\n",
      "Computed results over 32 / 32 sequences\n",
      "\n",
      "Reporting results over 32 / 32 sequences\n",
      "\n",
      "esot500s              | AUC        | OP50       | OP75       | Precision    | Norm Precision    |\n",
      "ostrack-baseline      | 21.34      | 19.97      | 5.40       | 23.62        | 21.34             |\n",
      "ostrack-aug           | 25.77      | 25.45      | 7.68       | 27.47        | 24.76             |\n",
      "\n"
     ]
    },
    {
     "name": "stderr",
     "output_type": "stream",
     "text": [
      "100%|██████████| 21/21 [00:00<00:00, 385.58it/s]"
     ]
    },
    {
     "name": "stdout",
     "output_type": "stream",
     "text": [
      "\n",
      "\n",
      "Computed results over 21 / 21 sequences\n",
      "\n",
      "Reporting results over 21 / 21 sequences\n",
      "\n",
      "esot2s                | AUC        | OP50       | OP75       | Precision    | Norm Precision    |\n",
      "ostrack-baseline      | 25.94      | 25.65      | 4.69       | 45.67        | 22.13             |\n",
      "ostrack-aug           | 19.60      | 18.92      | 3.86       | 39.74        | 16.46             |\n",
      "\n"
     ]
    },
    {
     "name": "stderr",
     "output_type": "stream",
     "text": [
      "\n"
     ]
    }
   ],
   "source": [
    "trackers = []\n",
    "trackers.extend(trackerlist(name='ostrack', parameter_name='baseline', \n",
    "                            run_ids=None, display_name='ostrack-baseline'))\n",
    "trackers.extend(trackerlist(name='ostrack', parameter_name='aug', \n",
    "                            run_ids=None, display_name='ostrack-aug'))                          \n",
    "stream_setting_id = 16\n",
    "dataset_name = 'esot500s'\n",
    "dataset = get_dataset(dataset_name)\n",
    "print_results(trackers, dataset, dataset_name, merge_results=False, plot_types=('success', 'prec', 'norm_prec'),force_evaluation=True, stream_id=stream_setting_id)\n",
    "# print_per_sequence_results(trackers, dataset, dataset_name, merge_results=False,force_evaluation=True, stream_id=stream_setting_id)\n",
    "stream_setting_id = 16\n",
    "dataset_name = 'esot2s'\n",
    "dataset = get_dataset(dataset_name)\n",
    "print_results(trackers, dataset, dataset_name, merge_results=False, plot_types=('success', 'prec', 'norm_prec'),force_evaluation=True, stream_id=stream_setting_id)\n"
   ]
  }
 ],
 "metadata": {
  "kernelspec": {
   "display_name": "ebench",
   "language": "python",
   "name": "python3"
  },
  "language_info": {
   "codemirror_mode": {
    "name": "ipython",
    "version": 3
   },
   "file_extension": ".py",
   "mimetype": "text/x-python",
   "name": "python",
   "nbconvert_exporter": "python",
   "pygments_lexer": "ipython3",
   "version": "3.8.13"
  },
  "orig_nbformat": 4
 },
 "nbformat": 4,
 "nbformat_minor": 2
}
