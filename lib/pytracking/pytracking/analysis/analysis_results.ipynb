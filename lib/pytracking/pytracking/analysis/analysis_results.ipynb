{
 "cells": [
  {
   "cell_type": "code",
   "execution_count": 1,
   "metadata": {},
   "outputs": [
    {
     "name": "stderr",
     "output_type": "stream",
     "text": [
      "/usr/local/anaconda3/envs/ebench/lib/python3.8/site-packages/tqdm/auto.py:22: TqdmWarning: IProgress not found. Please update jupyter and ipywidgets. See https://ipywidgets.readthedocs.io/en/stable/user_install.html\n",
      "  from .autonotebook import tqdm as notebook_tqdm\n"
     ]
    }
   ],
   "source": [
    "%load_ext autoreload\n",
    "%autoreload 2\n",
    "%matplotlib inline\n",
    "import os\n",
    "import sys\n",
    "import matplotlib.pyplot as plt\n",
    "plt.rcParams['figure.figsize'] = [14, 8]\n",
    "\n",
    "sys.path.append('/home/test4/code/EventBenchmark/lib/pytracking')\n",
    "from pytracking.analysis.plot_results import plot_results, print_results, print_per_sequence_results\n",
    "from pytracking.evaluation import get_dataset, trackerlist"
   ]
  },
  {
   "cell_type": "code",
   "execution_count": 3,
   "metadata": {},
   "outputs": [
    {
     "name": "stdout",
     "output_type": "stream",
     "text": [
      "Using subset:500 fps , 2 ms window for testing\n"
     ]
    },
    {
     "name": "stderr",
     "output_type": "stream",
     "text": [
      "100%|██████████| 32/32 [00:08<00:00,  3.60it/s]"
     ]
    },
    {
     "name": "stdout",
     "output_type": "stream",
     "text": [
      "\n",
      "\n",
      "Computed results over 32 / 32 sequences\n",
      "\n",
      "Reporting results over 32 / 32 sequences\n",
      "\n",
      "esot500         | AUC        | OP50       | OP75       | Precision    | Norm Precision    |\n",
      "atom            | 35.84      | 39.43      | 22.68      | 43.62        | 41.19             |\n",
      "dimp18          | 45.07      | 50.60      | 26.22      | 56.87        | 50.93             |\n",
      "prdimp18        | 37.24      | 41.71      | 23.21      | 46.40        | 43.69             |\n",
      "kys             | 46.30      | 52.37      | 27.62      | 58.95        | 53.83             |\n",
      "rts50           | 40.38      | 44.40      | 21.79      | 50.41        | 43.96             |\n",
      "keep_track      | 47.05      | 53.39      | 26.32      | 59.05        | 53.45             |\n",
      "\n"
     ]
    },
    {
     "name": "stderr",
     "output_type": "stream",
     "text": [
      "\n"
     ]
    }
   ],
   "source": [
    "dataset_name = 'esot500'\n",
    "trackers = []\n",
    "trackers.extend(trackerlist(name='atom', parameter_name='default',\n",
    "                            run_ids=0, display_name='atom'))\n",
    "trackers.extend(trackerlist(name='dimp', parameter_name='dimp18', \n",
    "                            run_ids=0, display_name='dimp18'))\n",
    "trackers.extend(trackerlist(name='dimp', parameter_name='prdimp18', \n",
    "                            run_ids=0, display_name='prdimp18'))\n",
    "trackers.extend(trackerlist(name='kys', parameter_name='default', \n",
    "                            run_ids=0, display_name='kys'))\n",
    "trackers.extend(trackerlist(name='rts', parameter_name='rts50', \n",
    "                            run_ids=0, display_name='rts50'))\n",
    "trackers.extend(trackerlist(name='keep_track', parameter_name='default', \n",
    "                            run_ids=0, display_name='keep_track'))\n",
    "# trackers.extend(trackerlist(name='atom', parameter_name='esot500',\n",
    "#                             run_ids=0, display_name='atom'))\n",
    "dataset = get_dataset(dataset_name)\n",
    "print_results(trackers, dataset, dataset_name, merge_results=False, plot_types=('success', 'prec', 'norm_prec'),force_evaluation=True)"
   ]
  },
  {
   "cell_type": "code",
   "execution_count": 5,
   "metadata": {},
   "outputs": [
    {
     "name": "stdout",
     "output_type": "stream",
     "text": [
      "Using subset:500 fps , 2 ms window for testing\n"
     ]
    },
    {
     "name": "stderr",
     "output_type": "stream",
     "text": [
      "100%|██████████| 32/32 [00:10<00:00,  3.01it/s]"
     ]
    },
    {
     "name": "stdout",
     "output_type": "stream",
     "text": [
      "\n",
      "\n",
      "Computed results over 32 / 32 sequences\n",
      "tensor([0, 0, 0, 0, 0, 0], dtype=torch.uint8)\n",
      "tensor(0, dtype=torch.uint8)\n",
      "回回回\n",
      "tensor(0, dtype=torch.uint8)\n",
      "回回回\n",
      "tensor(0, dtype=torch.uint8)\n",
      "回回回\n",
      "tensor(0, dtype=torch.uint8)\n",
      "回回回\n",
      "tensor(0, dtype=torch.uint8)\n",
      "回回回\n",
      "tensor(0, dtype=torch.uint8)\n",
      "回回回\n",
      "\n",
      "Reporting results over 32 / 32 sequences\n",
      "\n",
      "esot500         | AUC        | OP50       | OP75       | Precision    | Norm Precision    |\n",
      "atom            | 35.84      | 39.43      | 22.68      | 43.62        | 41.19             |\n",
      "dimp18          | 45.07      | 50.60      | 26.22      | 56.87        | 50.93             |\n",
      "prdimp18        | 37.24      | 41.71      | 23.21      | 46.40        | 43.69             |\n",
      "kys             | 46.30      | 52.37      | 27.62      | 58.95        | 53.83             |\n",
      "rts50           | 40.38      | 44.40      | 21.79      | 50.41        | 43.96             |\n",
      "keep_track      | 47.05      | 53.39      | 26.32      | 59.05        | 53.45             |\n",
      "\n"
     ]
    },
    {
     "name": "stderr",
     "output_type": "stream",
     "text": [
      "\n"
     ]
    }
   ],
   "source": [
    "# Realtime\n",
    "# Mind that result_path is changed in local.py !!!\n",
    "dataset_name = 'esot500'\n",
    "trackers = []\n",
    "trackers.extend(trackerlist(name='atom', parameter_name='default',\n",
    "                            run_ids=0, display_name='atom'))\n",
    "trackers.extend(trackerlist(name='dimp', parameter_name='dimp18', \n",
    "                            run_ids=0, display_name='dimp18'))\n",
    "trackers.extend(trackerlist(name='dimp', parameter_name='prdimp18', \n",
    "                            run_ids=0, display_name='prdimp18'))\n",
    "trackers.extend(trackerlist(name='kys', parameter_name='default', \n",
    "                            run_ids=0, display_name='kys'))\n",
    "trackers.extend(trackerlist(name='rts', parameter_name='rts50', \n",
    "                            run_ids=0, display_name='rts50'))\n",
    "trackers.extend(trackerlist(name='keep_track', parameter_name='default', \n",
    "                            run_ids=0, display_name='keep_track'))\n",
    "# trackers.extend(trackerlist(name='atom', parameter_name='esot500',\n",
    "#                             run_ids=0, display_name='atom'))\n",
    "dataset = get_dataset(dataset_name)\n",
    "print_results(trackers, dataset, dataset_name, merge_results=True, plot_types=('success', 'prec', 'norm_prec'),force_evaluation=True)"
   ]
  },
  {
   "cell_type": "code",
   "execution_count": 5,
   "metadata": {},
   "outputs": [
    {
     "name": "stdout",
     "output_type": "stream",
     "text": [
      "Using subset:500 fps , 2 ms window for testing\n"
     ]
    },
    {
     "name": "stderr",
     "output_type": "stream",
     "text": [
      "100%|██████████| 32/32 [00:01<00:00, 17.90it/s]"
     ]
    },
    {
     "name": "stdout",
     "output_type": "stream",
     "text": [
      "\n",
      "\n",
      "Computed results over 32 / 32 sequences\n",
      "\n",
      "Reporting results over 32 / 32 sequences\n",
      "\n",
      "esot500         | AUC        | OP50       | OP75       | Precision    | Norm Precision    |\n",
      "keep_track      | 47.05      | 53.39      | 26.32      | 59.05        | 53.45             |\n",
      "\n"
     ]
    },
    {
     "name": "stderr",
     "output_type": "stream",
     "text": [
      "\n"
     ]
    }
   ],
   "source": [
    "# Realtime postKF forecaste results\n",
    "# Mind that result_path is changed in local.py !!!\n",
    "dataset_name = 'esot500'\n",
    "trackers = []\n",
    "# trackers.extend(trackerlist(name='atom', parameter_name='default',\n",
    "#                             run_ids=0, display_name='atom'))\n",
    "# trackers.extend(trackerlist(name='dimp', parameter_name='dimp18', \n",
    "#                             run_ids=0, display_name='dimp18'))\n",
    "# trackers.extend(trackerlist(name='dimp', parameter_name='prdimp18', \n",
    "#                             run_ids=0, display_name='prdimp18'))\n",
    "# trackers.extend(trackerlist(name='kys', parameter_name='default', \n",
    "#                             run_ids=0, display_name='kys'))\n",
    "# trackers.extend(trackerlist(name='rts', parameter_name='rts50', \n",
    "#                             run_ids=0, display_name='rts50'))\n",
    "trackers.extend(trackerlist(name='keep_track', parameter_name='default', \n",
    "                            run_ids=0, display_name='keep_track'))\n",
    "# trackers.extend(trackerlist(name='atom', parameter_name='esot500',\n",
    "#                             run_ids=0, display_name='atom'))\n",
    "dataset = get_dataset(dataset_name)\n",
    "print_results(trackers, dataset, dataset_name, merge_results=False, plot_types=('success', 'prec', 'norm_prec'),force_evaluation=True)"
   ]
  },
  {
   "cell_type": "code",
   "execution_count": 2,
   "metadata": {},
   "outputs": [
    {
     "name": "stdout",
     "output_type": "stream",
     "text": [
      "Using subset:VariableH for testing\n"
     ]
    },
    {
     "name": "stderr",
     "output_type": "stream",
     "text": [
      "  0%|          | 0/32 [00:00<?, ?it/s]\n"
     ]
    },
    {
     "ename": "Exception",
     "evalue": "Result not found. /home/test4/code/EventBenchmark/lib/pytracking/pytracking/output/tracking_results//dimp/prdimp18_099/airplane5_VariableH.txt",
     "output_type": "error",
     "traceback": [
      "\u001b[0;31m---------------------------------------------------------------------------\u001b[0m",
      "\u001b[0;31mException\u001b[0m                                 Traceback (most recent call last)",
      "\u001b[1;32m/home/test4/code/EventBenchmark/lib/pytracking/pytracking/analysis/analysis_results.ipynb Cell 5\u001b[0m line \u001b[0;36m1\n\u001b[1;32m     <a href='vscode-notebook-cell://ssh-remote%2B10.102.3.54/home/test4/code/EventBenchmark/lib/pytracking/pytracking/analysis/analysis_results.ipynb#W4sdnNjb2RlLXJlbW90ZQ%3D%3D?line=14'>15</a>\u001b[0m \u001b[39m# trackers.extend(trackerlist(name='atom', parameter_name='esot500',\u001b[39;00m\n\u001b[1;32m     <a href='vscode-notebook-cell://ssh-remote%2B10.102.3.54/home/test4/code/EventBenchmark/lib/pytracking/pytracking/analysis/analysis_results.ipynb#W4sdnNjb2RlLXJlbW90ZQ%3D%3D?line=15'>16</a>\u001b[0m \u001b[39m#                             run_ids=0, display_name='atom'))\u001b[39;00m\n\u001b[1;32m     <a href='vscode-notebook-cell://ssh-remote%2B10.102.3.54/home/test4/code/EventBenchmark/lib/pytracking/pytracking/analysis/analysis_results.ipynb#W4sdnNjb2RlLXJlbW90ZQ%3D%3D?line=16'>17</a>\u001b[0m dataset \u001b[39m=\u001b[39m get_dataset(dataset_name)\n\u001b[0;32m---> <a href='vscode-notebook-cell://ssh-remote%2B10.102.3.54/home/test4/code/EventBenchmark/lib/pytracking/pytracking/analysis/analysis_results.ipynb#W4sdnNjb2RlLXJlbW90ZQ%3D%3D?line=17'>18</a>\u001b[0m print_results(trackers, dataset, dataset_name, merge_results\u001b[39m=\u001b[39m\u001b[39mFalse\u001b[39;00m, plot_types\u001b[39m=\u001b[39m(\u001b[39m'\u001b[39m\u001b[39msuccess\u001b[39m\u001b[39m'\u001b[39m, \u001b[39m'\u001b[39m\u001b[39mprec\u001b[39m\u001b[39m'\u001b[39m, \u001b[39m'\u001b[39m\u001b[39mnorm_prec\u001b[39m\u001b[39m'\u001b[39m),force_evaluation\u001b[39m=\u001b[39m\u001b[39mTrue\u001b[39;00m)\n",
      "File \u001b[0;32m~/code/EventBenchmark/lib/pytracking/pytracking/analysis/plot_results.py:474\u001b[0m, in \u001b[0;36mprint_results\u001b[0;34m(trackers, dataset, report_name, merge_results, plot_types, **kwargs)\u001b[0m\n\u001b[1;32m    464\u001b[0m \u001b[39m\"\"\" Print the results for the given trackers in a formatted table\u001b[39;00m\n\u001b[1;32m    465\u001b[0m \u001b[39margs:\u001b[39;00m\n\u001b[1;32m    466\u001b[0m \u001b[39m    trackers - List of trackers to evaluate\u001b[39;00m\n\u001b[0;32m   (...)\u001b[0m\n\u001b[1;32m    471\u001b[0m \u001b[39m                'prec' (prints precision score), and 'norm_prec' (prints normalized precision score)\u001b[39;00m\n\u001b[1;32m    472\u001b[0m \u001b[39m\"\"\"\u001b[39;00m\n\u001b[1;32m    473\u001b[0m \u001b[39m# Load pre-computed results\u001b[39;00m\n\u001b[0;32m--> 474\u001b[0m eval_data \u001b[39m=\u001b[39m check_and_load_precomputed_results(trackers, dataset, report_name, \u001b[39m*\u001b[39;49m\u001b[39m*\u001b[39;49mkwargs)\n\u001b[1;32m    476\u001b[0m \u001b[39m# Merge results from multiple runs\u001b[39;00m\n\u001b[1;32m    477\u001b[0m \u001b[39mif\u001b[39;00m merge_results:\n",
      "File \u001b[0;32m~/code/EventBenchmark/lib/pytracking/pytracking/analysis/plot_results.py:182\u001b[0m, in \u001b[0;36mcheck_and_load_precomputed_results\u001b[0;34m(trackers, dataset, report_name, force_evaluation, **kwargs)\u001b[0m\n\u001b[1;32m    179\u001b[0m         eval_data \u001b[39m=\u001b[39m pickle\u001b[39m.\u001b[39mload(fh)\n\u001b[1;32m    180\u001b[0m \u001b[39melse\u001b[39;00m:\n\u001b[1;32m    181\u001b[0m     \u001b[39m# print('Pre-computed evaluation data not found. Computing results!')\u001b[39;00m\n\u001b[0;32m--> 182\u001b[0m     eval_data \u001b[39m=\u001b[39m extract_results(trackers, dataset, report_name, \u001b[39m*\u001b[39;49m\u001b[39m*\u001b[39;49mkwargs)\n\u001b[1;32m    184\u001b[0m \u001b[39mif\u001b[39;00m \u001b[39mnot\u001b[39;00m check_eval_data_is_valid(eval_data, trackers, dataset):\n\u001b[1;32m    185\u001b[0m     \u001b[39m# print('Pre-computed evaluation data invalid. Re-computing results!')\u001b[39;00m\n\u001b[1;32m    186\u001b[0m     eval_data \u001b[39m=\u001b[39m extract_results(trackers, dataset, report_name, \u001b[39m*\u001b[39m\u001b[39m*\u001b[39mkwargs)\n",
      "File \u001b[0;32m~/code/EventBenchmark/lib/pytracking/pytracking/analysis/extract_results.py:146\u001b[0m, in \u001b[0;36mextract_results\u001b[0;34m(trackers, dataset, report_name, skip_missing_seq, plot_bin_gap, exclude_invalid_frames, verbose, stream_id)\u001b[0m\n\u001b[1;32m    144\u001b[0m         \u001b[39mbreak\u001b[39;00m\n\u001b[1;32m    145\u001b[0m     \u001b[39melse\u001b[39;00m:\n\u001b[0;32m--> 146\u001b[0m         \u001b[39mraise\u001b[39;00m \u001b[39mException\u001b[39;00m(\u001b[39m'\u001b[39m\u001b[39mResult not found. \u001b[39m\u001b[39m{}\u001b[39;00m\u001b[39m'\u001b[39m\u001b[39m.\u001b[39mformat(results_path))\n\u001b[1;32m    148\u001b[0m \u001b[39m# Calculate measures\u001b[39;00m\n\u001b[1;32m    149\u001b[0m err_overlap, err_center, err_center_normalized, valid_frame \u001b[39m=\u001b[39m calc_seq_err_robust(\n\u001b[1;32m    150\u001b[0m     pred_bb, anno_bb, seq\u001b[39m.\u001b[39mdataset, target_visible)\n",
      "\u001b[0;31mException\u001b[0m: Result not found. /home/test4/code/EventBenchmark/lib/pytracking/pytracking/output/tracking_results//dimp/prdimp18_099/airplane5_VariableH.txt"
     ]
    }
   ],
   "source": [
    "\n",
    "dataset_name = 'esoth'\n",
    "trackers = []\n",
    "trackers.extend(trackerlist(name='atom', parameter_name='default',\n",
    "                            run_ids=99, display_name='atom'))\n",
    "trackers.extend(trackerlist(name='dimp', parameter_name='dimp18', \n",
    "                            run_ids=99, display_name='dimp18'))\n",
    "trackers.extend(trackerlist(name='dimp', parameter_name='prdimp18', \n",
    "                            run_ids=99, display_name='prdimp18'))\n",
    "trackers.extend(trackerlist(name='kys', parameter_name='default', \n",
    "                            run_ids=99, display_name='kys'))\n",
    "trackers.extend(trackerlist(name='rts', parameter_name='rts50', \n",
    "                            run_ids=99, display_name='rts50'))\n",
    "trackers.extend(trackerlist(name='keep_track', parameter_name='default', \n",
    "                            run_ids=99, display_name='keep_track'))\n",
    "# trackers.extend(trackerlist(name='atom', parameter_name='esot500',\n",
    "#                             run_ids=0, display_name='atom'))\n",
    "dataset = get_dataset(dataset_name)\n",
    "print_results(trackers, dataset, dataset_name, merge_results=False, plot_types=('success', 'prec', 'norm_prec'),force_evaluation=True)"
   ]
  },
  {
   "cell_type": "code",
   "execution_count": 7,
   "metadata": {},
   "outputs": [
    {
     "name": "stdout",
     "output_type": "stream",
     "text": [
      "Using subset:VariableM for testing\n"
     ]
    },
    {
     "name": "stderr",
     "output_type": "stream",
     "text": [
      "  0%|          | 0/32 [00:00<?, ?it/s]\n"
     ]
    },
    {
     "ename": "Exception",
     "evalue": "Result not found. /home/test4/code/EventBenchmark/lib/pytracking/pytracking/output/tracking_results//atom/default_066/airplane5_VariableM.txt",
     "output_type": "error",
     "traceback": [
      "\u001b[0;31m---------------------------------------------------------------------------\u001b[0m",
      "\u001b[0;31mException\u001b[0m                                 Traceback (most recent call last)",
      "\u001b[1;32m/home/test4/code/EventBenchmark/lib/pytracking/pytracking/analysis/analysis_results.ipynb Cell 6\u001b[0m line \u001b[0;36m1\n\u001b[1;32m     <a href='vscode-notebook-cell://ssh-remote%2B10.102.3.54/home/test4/code/EventBenchmark/lib/pytracking/pytracking/analysis/analysis_results.ipynb#W5sdnNjb2RlLXJlbW90ZQ%3D%3D?line=14'>15</a>\u001b[0m \u001b[39m# trackers.extend(trackerlist(name='atom', parameter_name='esot500',\u001b[39;00m\n\u001b[1;32m     <a href='vscode-notebook-cell://ssh-remote%2B10.102.3.54/home/test4/code/EventBenchmark/lib/pytracking/pytracking/analysis/analysis_results.ipynb#W5sdnNjb2RlLXJlbW90ZQ%3D%3D?line=15'>16</a>\u001b[0m \u001b[39m#                             run_ids=0, display_name='atom'))\u001b[39;00m\n\u001b[1;32m     <a href='vscode-notebook-cell://ssh-remote%2B10.102.3.54/home/test4/code/EventBenchmark/lib/pytracking/pytracking/analysis/analysis_results.ipynb#W5sdnNjb2RlLXJlbW90ZQ%3D%3D?line=16'>17</a>\u001b[0m dataset \u001b[39m=\u001b[39m get_dataset(dataset_name)\n\u001b[0;32m---> <a href='vscode-notebook-cell://ssh-remote%2B10.102.3.54/home/test4/code/EventBenchmark/lib/pytracking/pytracking/analysis/analysis_results.ipynb#W5sdnNjb2RlLXJlbW90ZQ%3D%3D?line=17'>18</a>\u001b[0m print_results(trackers, dataset, dataset_name, merge_results\u001b[39m=\u001b[39m\u001b[39mFalse\u001b[39;00m, plot_types\u001b[39m=\u001b[39m(\u001b[39m'\u001b[39m\u001b[39msuccess\u001b[39m\u001b[39m'\u001b[39m, \u001b[39m'\u001b[39m\u001b[39mprec\u001b[39m\u001b[39m'\u001b[39m, \u001b[39m'\u001b[39m\u001b[39mnorm_prec\u001b[39m\u001b[39m'\u001b[39m),force_evaluation\u001b[39m=\u001b[39m\u001b[39mTrue\u001b[39;00m)\n",
      "File \u001b[0;32m~/code/EventBenchmark/lib/pytracking/pytracking/analysis/plot_results.py:474\u001b[0m, in \u001b[0;36mprint_results\u001b[0;34m(trackers, dataset, report_name, merge_results, plot_types, **kwargs)\u001b[0m\n\u001b[1;32m    464\u001b[0m \u001b[39m\"\"\" Print the results for the given trackers in a formatted table\u001b[39;00m\n\u001b[1;32m    465\u001b[0m \u001b[39margs:\u001b[39;00m\n\u001b[1;32m    466\u001b[0m \u001b[39m    trackers - List of trackers to evaluate\u001b[39;00m\n\u001b[0;32m   (...)\u001b[0m\n\u001b[1;32m    471\u001b[0m \u001b[39m                'prec' (prints precision score), and 'norm_prec' (prints normalized precision score)\u001b[39;00m\n\u001b[1;32m    472\u001b[0m \u001b[39m\"\"\"\u001b[39;00m\n\u001b[1;32m    473\u001b[0m \u001b[39m# Load pre-computed results\u001b[39;00m\n\u001b[0;32m--> 474\u001b[0m eval_data \u001b[39m=\u001b[39m check_and_load_precomputed_results(trackers, dataset, report_name, \u001b[39m*\u001b[39;49m\u001b[39m*\u001b[39;49mkwargs)\n\u001b[1;32m    476\u001b[0m \u001b[39m# Merge results from multiple runs\u001b[39;00m\n\u001b[1;32m    477\u001b[0m \u001b[39mif\u001b[39;00m merge_results:\n",
      "File \u001b[0;32m~/code/EventBenchmark/lib/pytracking/pytracking/analysis/plot_results.py:182\u001b[0m, in \u001b[0;36mcheck_and_load_precomputed_results\u001b[0;34m(trackers, dataset, report_name, force_evaluation, **kwargs)\u001b[0m\n\u001b[1;32m    179\u001b[0m         eval_data \u001b[39m=\u001b[39m pickle\u001b[39m.\u001b[39mload(fh)\n\u001b[1;32m    180\u001b[0m \u001b[39melse\u001b[39;00m:\n\u001b[1;32m    181\u001b[0m     \u001b[39m# print('Pre-computed evaluation data not found. Computing results!')\u001b[39;00m\n\u001b[0;32m--> 182\u001b[0m     eval_data \u001b[39m=\u001b[39m extract_results(trackers, dataset, report_name, \u001b[39m*\u001b[39;49m\u001b[39m*\u001b[39;49mkwargs)\n\u001b[1;32m    184\u001b[0m \u001b[39mif\u001b[39;00m \u001b[39mnot\u001b[39;00m check_eval_data_is_valid(eval_data, trackers, dataset):\n\u001b[1;32m    185\u001b[0m     \u001b[39m# print('Pre-computed evaluation data invalid. Re-computing results!')\u001b[39;00m\n\u001b[1;32m    186\u001b[0m     eval_data \u001b[39m=\u001b[39m extract_results(trackers, dataset, report_name, \u001b[39m*\u001b[39m\u001b[39m*\u001b[39mkwargs)\n",
      "File \u001b[0;32m~/code/EventBenchmark/lib/pytracking/pytracking/analysis/extract_results.py:146\u001b[0m, in \u001b[0;36mextract_results\u001b[0;34m(trackers, dataset, report_name, skip_missing_seq, plot_bin_gap, exclude_invalid_frames, verbose, stream_id)\u001b[0m\n\u001b[1;32m    144\u001b[0m         \u001b[39mbreak\u001b[39;00m\n\u001b[1;32m    145\u001b[0m     \u001b[39melse\u001b[39;00m:\n\u001b[0;32m--> 146\u001b[0m         \u001b[39mraise\u001b[39;00m \u001b[39mException\u001b[39;00m(\u001b[39m'\u001b[39m\u001b[39mResult not found. \u001b[39m\u001b[39m{}\u001b[39;00m\u001b[39m'\u001b[39m\u001b[39m.\u001b[39mformat(results_path))\n\u001b[1;32m    148\u001b[0m \u001b[39m# Calculate measures\u001b[39;00m\n\u001b[1;32m    149\u001b[0m err_overlap, err_center, err_center_normalized, valid_frame \u001b[39m=\u001b[39m calc_seq_err_robust(\n\u001b[1;32m    150\u001b[0m     pred_bb, anno_bb, seq\u001b[39m.\u001b[39mdataset, target_visible)\n",
      "\u001b[0;31mException\u001b[0m: Result not found. /home/test4/code/EventBenchmark/lib/pytracking/pytracking/output/tracking_results//atom/default_066/airplane5_VariableM.txt"
     ]
    }
   ],
   "source": [
    "\n",
    "dataset_name = 'esotm'\n",
    "trackers = []\n",
    "trackers.extend(trackerlist(name='atom', parameter_name='default',\n",
    "                            run_ids=66, display_name='atom'))\n",
    "trackers.extend(trackerlist(name='dimp', parameter_name='dimp18', \n",
    "                            run_ids=66, display_name='dimp18'))\n",
    "trackers.extend(trackerlist(name='dimp', parameter_name='prdimp18', \n",
    "                            run_ids=66, display_name='prdimp18'))\n",
    "trackers.extend(trackerlist(name='kys', parameter_name='default', \n",
    "                            run_ids=66, display_name='kys'))\n",
    "trackers.extend(trackerlist(name='rts', parameter_name='rts50', \n",
    "                            run_ids=66, display_name='rts50'))\n",
    "trackers.extend(trackerlist(name='keep_track', parameter_name='default', \n",
    "                            run_ids=66, display_name='keep_track'))\n",
    "# trackers.extend(trackerlist(name='atom', parameter_name='esot500',\n",
    "#                             run_ids=0, display_name='atom'))\n",
    "dataset = get_dataset(dataset_name)\n",
    "print_results(trackers, dataset, dataset_name, merge_results=False, plot_types=('success', 'prec', 'norm_prec'),force_evaluation=True)"
   ]
  },
  {
   "cell_type": "code",
   "execution_count": 8,
   "metadata": {},
   "outputs": [
    {
     "name": "stdout",
     "output_type": "stream",
     "text": [
      "Using subset:VariableL for testing\n"
     ]
    },
    {
     "name": "stderr",
     "output_type": "stream",
     "text": [
      "  0%|          | 0/32 [00:00<?, ?it/s]\n"
     ]
    },
    {
     "ename": "Exception",
     "evalue": "Result not found. /home/test4/code/EventBenchmark/lib/pytracking/pytracking/output/tracking_results//atom/default_033/airplane5_VariableL.txt",
     "output_type": "error",
     "traceback": [
      "\u001b[0;31m---------------------------------------------------------------------------\u001b[0m",
      "\u001b[0;31mException\u001b[0m                                 Traceback (most recent call last)",
      "\u001b[1;32m/home/test4/code/EventBenchmark/lib/pytracking/pytracking/analysis/analysis_results.ipynb Cell 7\u001b[0m line \u001b[0;36m1\n\u001b[1;32m     <a href='vscode-notebook-cell://ssh-remote%2B10.102.3.54/home/test4/code/EventBenchmark/lib/pytracking/pytracking/analysis/analysis_results.ipynb#W6sdnNjb2RlLXJlbW90ZQ%3D%3D?line=14'>15</a>\u001b[0m \u001b[39m# trackers.extend(trackerlist(name='atom', parameter_name='esot500',\u001b[39;00m\n\u001b[1;32m     <a href='vscode-notebook-cell://ssh-remote%2B10.102.3.54/home/test4/code/EventBenchmark/lib/pytracking/pytracking/analysis/analysis_results.ipynb#W6sdnNjb2RlLXJlbW90ZQ%3D%3D?line=15'>16</a>\u001b[0m \u001b[39m#                             run_ids=0, display_name='atom'))\u001b[39;00m\n\u001b[1;32m     <a href='vscode-notebook-cell://ssh-remote%2B10.102.3.54/home/test4/code/EventBenchmark/lib/pytracking/pytracking/analysis/analysis_results.ipynb#W6sdnNjb2RlLXJlbW90ZQ%3D%3D?line=16'>17</a>\u001b[0m dataset \u001b[39m=\u001b[39m get_dataset(dataset_name)\n\u001b[0;32m---> <a href='vscode-notebook-cell://ssh-remote%2B10.102.3.54/home/test4/code/EventBenchmark/lib/pytracking/pytracking/analysis/analysis_results.ipynb#W6sdnNjb2RlLXJlbW90ZQ%3D%3D?line=17'>18</a>\u001b[0m print_results(trackers, dataset, dataset_name, merge_results\u001b[39m=\u001b[39m\u001b[39mFalse\u001b[39;00m, plot_types\u001b[39m=\u001b[39m(\u001b[39m'\u001b[39m\u001b[39msuccess\u001b[39m\u001b[39m'\u001b[39m, \u001b[39m'\u001b[39m\u001b[39mprec\u001b[39m\u001b[39m'\u001b[39m, \u001b[39m'\u001b[39m\u001b[39mnorm_prec\u001b[39m\u001b[39m'\u001b[39m),force_evaluation\u001b[39m=\u001b[39m\u001b[39mTrue\u001b[39;00m)\n",
      "File \u001b[0;32m~/code/EventBenchmark/lib/pytracking/pytracking/analysis/plot_results.py:474\u001b[0m, in \u001b[0;36mprint_results\u001b[0;34m(trackers, dataset, report_name, merge_results, plot_types, **kwargs)\u001b[0m\n\u001b[1;32m    464\u001b[0m \u001b[39m\"\"\" Print the results for the given trackers in a formatted table\u001b[39;00m\n\u001b[1;32m    465\u001b[0m \u001b[39margs:\u001b[39;00m\n\u001b[1;32m    466\u001b[0m \u001b[39m    trackers - List of trackers to evaluate\u001b[39;00m\n\u001b[0;32m   (...)\u001b[0m\n\u001b[1;32m    471\u001b[0m \u001b[39m                'prec' (prints precision score), and 'norm_prec' (prints normalized precision score)\u001b[39;00m\n\u001b[1;32m    472\u001b[0m \u001b[39m\"\"\"\u001b[39;00m\n\u001b[1;32m    473\u001b[0m \u001b[39m# Load pre-computed results\u001b[39;00m\n\u001b[0;32m--> 474\u001b[0m eval_data \u001b[39m=\u001b[39m check_and_load_precomputed_results(trackers, dataset, report_name, \u001b[39m*\u001b[39;49m\u001b[39m*\u001b[39;49mkwargs)\n\u001b[1;32m    476\u001b[0m \u001b[39m# Merge results from multiple runs\u001b[39;00m\n\u001b[1;32m    477\u001b[0m \u001b[39mif\u001b[39;00m merge_results:\n",
      "File \u001b[0;32m~/code/EventBenchmark/lib/pytracking/pytracking/analysis/plot_results.py:182\u001b[0m, in \u001b[0;36mcheck_and_load_precomputed_results\u001b[0;34m(trackers, dataset, report_name, force_evaluation, **kwargs)\u001b[0m\n\u001b[1;32m    179\u001b[0m         eval_data \u001b[39m=\u001b[39m pickle\u001b[39m.\u001b[39mload(fh)\n\u001b[1;32m    180\u001b[0m \u001b[39melse\u001b[39;00m:\n\u001b[1;32m    181\u001b[0m     \u001b[39m# print('Pre-computed evaluation data not found. Computing results!')\u001b[39;00m\n\u001b[0;32m--> 182\u001b[0m     eval_data \u001b[39m=\u001b[39m extract_results(trackers, dataset, report_name, \u001b[39m*\u001b[39;49m\u001b[39m*\u001b[39;49mkwargs)\n\u001b[1;32m    184\u001b[0m \u001b[39mif\u001b[39;00m \u001b[39mnot\u001b[39;00m check_eval_data_is_valid(eval_data, trackers, dataset):\n\u001b[1;32m    185\u001b[0m     \u001b[39m# print('Pre-computed evaluation data invalid. Re-computing results!')\u001b[39;00m\n\u001b[1;32m    186\u001b[0m     eval_data \u001b[39m=\u001b[39m extract_results(trackers, dataset, report_name, \u001b[39m*\u001b[39m\u001b[39m*\u001b[39mkwargs)\n",
      "File \u001b[0;32m~/code/EventBenchmark/lib/pytracking/pytracking/analysis/extract_results.py:146\u001b[0m, in \u001b[0;36mextract_results\u001b[0;34m(trackers, dataset, report_name, skip_missing_seq, plot_bin_gap, exclude_invalid_frames, verbose, stream_id)\u001b[0m\n\u001b[1;32m    144\u001b[0m         \u001b[39mbreak\u001b[39;00m\n\u001b[1;32m    145\u001b[0m     \u001b[39melse\u001b[39;00m:\n\u001b[0;32m--> 146\u001b[0m         \u001b[39mraise\u001b[39;00m \u001b[39mException\u001b[39;00m(\u001b[39m'\u001b[39m\u001b[39mResult not found. \u001b[39m\u001b[39m{}\u001b[39;00m\u001b[39m'\u001b[39m\u001b[39m.\u001b[39mformat(results_path))\n\u001b[1;32m    148\u001b[0m \u001b[39m# Calculate measures\u001b[39;00m\n\u001b[1;32m    149\u001b[0m err_overlap, err_center, err_center_normalized, valid_frame \u001b[39m=\u001b[39m calc_seq_err_robust(\n\u001b[1;32m    150\u001b[0m     pred_bb, anno_bb, seq\u001b[39m.\u001b[39mdataset, target_visible)\n",
      "\u001b[0;31mException\u001b[0m: Result not found. /home/test4/code/EventBenchmark/lib/pytracking/pytracking/output/tracking_results//atom/default_033/airplane5_VariableL.txt"
     ]
    }
   ],
   "source": [
    "\n",
    "dataset_name = 'esotl'\n",
    "trackers = []\n",
    "trackers.extend(trackerlist(name='atom', parameter_name='default',\n",
    "                            run_ids=33, display_name='atom'))\n",
    "trackers.extend(trackerlist(name='dimp', parameter_name='dimp18', \n",
    "                            run_ids=33, display_name='dimp18'))\n",
    "trackers.extend(trackerlist(name='dimp', parameter_name='prdimp18', \n",
    "                            run_ids=33, display_name='prdimp18'))\n",
    "trackers.extend(trackerlist(name='kys', parameter_name='default', \n",
    "                            run_ids=33, display_name='kys'))\n",
    "trackers.extend(trackerlist(name='rts', parameter_name='rts50', \n",
    "                            run_ids=33, display_name='rts50'))\n",
    "trackers.extend(trackerlist(name='keep_track', parameter_name='default', \n",
    "                            run_ids=33, display_name='keep_track'))\n",
    "# trackers.extend(trackerlist(name='atom', parameter_name='esot500',\n",
    "#                             run_ids=0, display_name='atom'))\n",
    "dataset = get_dataset(dataset_name)\n",
    "print_results(trackers, dataset, dataset_name, merge_results=False, plot_types=('success', 'prec', 'norm_prec'),force_evaluation=True)"
   ]
  },
  {
   "cell_type": "markdown",
   "metadata": {},
   "source": [
    "### FPS"
   ]
  },
  {
   "cell_type": "code",
   "execution_count": 9,
   "metadata": {},
   "outputs": [
    {
     "name": "stdout",
     "output_type": "stream",
     "text": [
      "Using subset:500 fps , 2 ms window for testing\n"
     ]
    },
    {
     "name": "stderr",
     "output_type": "stream",
     "text": [
      "100%|██████████| 32/32 [00:13<00:00,  2.37it/s]\n"
     ]
    },
    {
     "name": "stdout",
     "output_type": "stream",
     "text": [
      "\n",
      "\n",
      "Computed results over 32 / 32 sequences\n",
      "\n",
      "Reporting results over 32 / 32 sequences\n",
      "\n",
      "esot_500_2      | AUC        | OP50       | OP75       | Precision    | Norm Precision    |\n",
      "atom            | 35.84      | 39.43      | 22.68      | 43.62        | 41.19             |\n",
      "dimp18          | 45.07      | 50.60      | 26.22      | 56.87        | 50.93             |\n",
      "prdimp18        | 37.24      | 41.71      | 23.21      | 46.40        | 43.69             |\n",
      "kys             | 46.30      | 52.37      | 27.62      | 58.95        | 53.83             |\n",
      "rts50           | 40.38      | 44.40      | 21.79      | 50.41        | 43.96             |\n",
      "keep_track      | 47.05      | 53.39      | 26.32      | 59.05        | 53.45             |\n",
      "\n",
      "Using subset:250 fps , 2 ms window for testing\n"
     ]
    },
    {
     "name": "stderr",
     "output_type": "stream",
     "text": [
      "100%|██████████| 32/32 [00:07<00:00,  4.19it/s]\n"
     ]
    },
    {
     "name": "stdout",
     "output_type": "stream",
     "text": [
      "\n",
      "\n",
      "Computed results over 32 / 32 sequences\n",
      "\n",
      "Reporting results over 32 / 32 sequences\n",
      "\n",
      "esot_250_2      | AUC        | OP50       | OP75       | Precision    | Norm Precision    |\n",
      "atom            | 36.55      | 41.66      | 22.79      | 45.55        | 42.95             |\n",
      "dimp18          | 47.00      | 53.45      | 27.34      | 59.78        | 55.29             |\n",
      "prdimp18        | 38.60      | 42.75      | 22.98      | 48.09        | 44.70             |\n",
      "kys             | 48.22      | 53.86      | 28.59      | 61.57        | 56.09             |\n",
      "rts50           | 41.13      | 44.72      | 23.46      | 50.44        | 44.61             |\n",
      "keep_track      | 48.50      | 55.93      | 27.34      | 60.55        | 55.39             |\n",
      "\n",
      "Using subset:20 fps , 2 ms window for testing\n"
     ]
    },
    {
     "name": "stderr",
     "output_type": "stream",
     "text": [
      "100%|██████████| 32/32 [00:00<00:00, 92.89it/s]"
     ]
    },
    {
     "name": "stdout",
     "output_type": "stream",
     "text": [
      "\n",
      "\n",
      "Computed results over 32 / 32 sequences\n",
      "\n",
      "Reporting results over 32 / 32 sequences\n",
      "\n",
      "esot_20_2       | AUC        | OP50       | OP75       | Precision    | Norm Precision    |\n",
      "atom            | 42.26      | 47.37      | 24.70      | 52.80        | 47.84             |\n",
      "dimp18          | 48.19      | 56.04      | 27.65      | 61.29        | 56.15             |\n",
      "prdimp18        | 42.28      | 45.61      | 25.52      | 50.56        | 47.01             |\n",
      "kys             | 50.21      | 55.14      | 29.24      | 64.04        | 56.68             |\n",
      "rts50           | 43.44      | 47.02      | 24.83      | 50.79        | 45.22             |\n",
      "keep_track      | 45.22      | 49.76      | 25.31      | 55.66        | 50.19             |\n",
      "\n"
     ]
    },
    {
     "name": "stderr",
     "output_type": "stream",
     "text": [
      "\n"
     ]
    }
   ],
   "source": [
    "# 2ms\n",
    "trackers = []\n",
    "trackers.extend(trackerlist(name='atom', parameter_name='default',\n",
    "                            run_ids=0, display_name='atom'))\n",
    "trackers.extend(trackerlist(name='dimp', parameter_name='dimp18', \n",
    "                            run_ids=0, display_name='dimp18'))\n",
    "trackers.extend(trackerlist(name='dimp', parameter_name='prdimp18', \n",
    "                            run_ids=0, display_name='prdimp18'))\n",
    "trackers.extend(trackerlist(name='kys', parameter_name='default', \n",
    "                            run_ids=0, display_name='kys'))\n",
    "trackers.extend(trackerlist(name='rts', parameter_name='rts50', \n",
    "                            run_ids=0, display_name='rts50'))\n",
    "trackers.extend(trackerlist(name='keep_track', parameter_name='default', \n",
    "                            run_ids=0, display_name='keep_track'))\n",
    "# trackers.extend(trackerlist(name='atom', parameter_name='esot500',\n",
    "#                             run_ids=0, display_name='atom'))\n",
    "dataset_name = ('esot_500_2')\n",
    "dataset = get_dataset(dataset_name)\n",
    "print_results(trackers, dataset, dataset_name, merge_results=False, plot_types=('success', 'prec', 'norm_prec'),force_evaluation=False)\n",
    "dataset_name = ('esot_250_2')\n",
    "dataset = get_dataset(dataset_name)\n",
    "print_results(trackers, dataset, dataset_name, merge_results=False, plot_types=('success', 'prec', 'norm_prec'),force_evaluation=False)\n",
    "dataset_name = ('esot_20_2')\n",
    "dataset = get_dataset(dataset_name)\n",
    "print_results(trackers, dataset, dataset_name, merge_results=False, plot_types=('success', 'prec', 'norm_prec'),force_evaluation=False)"
   ]
  },
  {
   "cell_type": "code",
   "execution_count": 10,
   "metadata": {},
   "outputs": [
    {
     "name": "stdout",
     "output_type": "stream",
     "text": [
      "Using subset:500 fps , 8 ms window for testing\n"
     ]
    },
    {
     "name": "stderr",
     "output_type": "stream",
     "text": [
      "100%|██████████| 32/32 [00:14<00:00,  2.15it/s]\n"
     ]
    },
    {
     "name": "stdout",
     "output_type": "stream",
     "text": [
      "\n",
      "\n",
      "Computed results over 32 / 32 sequences\n",
      "\n",
      "Reporting results over 32 / 32 sequences\n",
      "\n",
      "esot_500_8      | AUC        | OP50       | OP75       | Precision    | Norm Precision    |\n",
      "atom            | 41.35      | 49.10      | 26.61      | 52.65        | 49.74             |\n",
      "dimp18          | 54.88      | 63.69      | 34.55      | 70.35        | 64.94             |\n",
      "prdimp18        | 47.86      | 54.42      | 34.90      | 60.41        | 56.73             |\n",
      "kys             | 53.89      | 62.86      | 36.65      | 68.18        | 63.79             |\n",
      "rts50           | 50.74      | 57.22      | 34.09      | 61.30        | 55.20             |\n",
      "keep_track      | 61.14      | 72.65      | 41.44      | 77.46        | 70.77             |\n",
      "\n",
      "Using subset:250 fps , 8 ms window for testing\n"
     ]
    },
    {
     "name": "stderr",
     "output_type": "stream",
     "text": [
      "100%|██████████| 32/32 [00:09<00:00,  3.51it/s]\n"
     ]
    },
    {
     "name": "stdout",
     "output_type": "stream",
     "text": [
      "\n",
      "\n",
      "Computed results over 32 / 32 sequences\n",
      "\n",
      "Reporting results over 32 / 32 sequences\n",
      "\n",
      "esot_250_8      | AUC        | OP50       | OP75       | Precision    | Norm Precision    |\n",
      "atom            | 44.97      | 52.18      | 28.85      | 55.71        | 52.65             |\n",
      "dimp18          | 52.64      | 60.58      | 33.32      | 67.31        | 61.76             |\n",
      "prdimp18        | 50.77      | 58.41      | 36.19      | 64.96        | 60.49             |\n",
      "kys             | 56.16      | 65.58      | 37.89      | 72.43        | 66.73             |\n",
      "rts50           | 50.48      | 56.32      | 34.03      | 60.91        | 54.75             |\n",
      "keep_track      | 61.14      | 72.44      | 41.75      | 77.43        | 70.44             |\n",
      "\n",
      "Using subset:20 fps , 8 ms window for testing\n"
     ]
    },
    {
     "name": "stderr",
     "output_type": "stream",
     "text": [
      "100%|██████████| 32/32 [00:00<00:00, 99.03it/s]"
     ]
    },
    {
     "name": "stdout",
     "output_type": "stream",
     "text": [
      "\n",
      "\n",
      "Computed results over 32 / 32 sequences\n",
      "\n",
      "Reporting results over 32 / 32 sequences\n",
      "\n",
      "esot_20_8       | AUC        | OP50       | OP75       | Precision    | Norm Precision    |\n",
      "atom            | 50.59      | 59.11      | 31.64      | 64.87        | 58.12             |\n",
      "dimp18          | 57.36      | 67.17      | 36.60      | 73.85        | 67.53             |\n",
      "prdimp18        | 51.49      | 59.02      | 37.36      | 63.84        | 59.47             |\n",
      "kys             | 59.84      | 71.13      | 40.76      | 78.39        | 72.25             |\n",
      "rts50           | 53.86      | 59.86      | 34.12      | 62.98        | 56.28             |\n",
      "keep_track      | 56.60      | 66.30      | 39.34      | 69.19        | 63.03             |\n",
      "\n"
     ]
    },
    {
     "name": "stderr",
     "output_type": "stream",
     "text": [
      "\n"
     ]
    }
   ],
   "source": [
    "# 8ms\n",
    "trackers = []\n",
    "trackers.extend(trackerlist(name='atom', parameter_name='default',\n",
    "                            run_ids=0, display_name='atom'))\n",
    "trackers.extend(trackerlist(name='dimp', parameter_name='dimp18', \n",
    "                            run_ids=0, display_name='dimp18'))\n",
    "trackers.extend(trackerlist(name='dimp', parameter_name='prdimp18', \n",
    "                            run_ids=0, display_name='prdimp18'))\n",
    "trackers.extend(trackerlist(name='kys', parameter_name='default', \n",
    "                            run_ids=0, display_name='kys'))\n",
    "trackers.extend(trackerlist(name='rts', parameter_name='rts50', \n",
    "                            run_ids=0, display_name='rts50'))\n",
    "trackers.extend(trackerlist(name='keep_track', parameter_name='default', \n",
    "                            run_ids=0, display_name='keep_track'))\n",
    "# trackers.extend(trackerlist(name='atom', parameter_name='esot500',\n",
    "#                             run_ids=0, display_name='atom'))\n",
    "dataset_name = ('esot_500_8')\n",
    "dataset = get_dataset(dataset_name)\n",
    "print_results(trackers, dataset, dataset_name, merge_results=False, plot_types=('success', 'prec', 'norm_prec'),force_evaluation=False)\n",
    "dataset_name = ('esot_250_8')\n",
    "dataset = get_dataset(dataset_name)\n",
    "print_results(trackers, dataset, dataset_name, merge_results=False, plot_types=('success', 'prec', 'norm_prec'),force_evaluation=False)\n",
    "dataset_name = ('esot_20_8')\n",
    "dataset = get_dataset(dataset_name)\n",
    "print_results(trackers, dataset, dataset_name, merge_results=False, plot_types=('success', 'prec', 'norm_prec'),force_evaluation=False)"
   ]
  },
  {
   "cell_type": "code",
   "execution_count": 11,
   "metadata": {},
   "outputs": [
    {
     "name": "stdout",
     "output_type": "stream",
     "text": [
      "Using subset:500 fps , 20 ms window for testing\n"
     ]
    },
    {
     "name": "stderr",
     "output_type": "stream",
     "text": [
      "100%|██████████| 32/32 [00:13<00:00,  2.41it/s]\n"
     ]
    },
    {
     "name": "stdout",
     "output_type": "stream",
     "text": [
      "\n",
      "\n",
      "Computed results over 32 / 32 sequences\n",
      "\n",
      "Reporting results over 32 / 32 sequences\n",
      "\n",
      "esot_500_20      | AUC        | OP50       | OP75       | Precision    | Norm Precision    |\n",
      "atom             | 40.00      | 47.19      | 23.66      | 51.35        | 47.79             |\n",
      "dimp18           | 57.13      | 69.73      | 36.89      | 74.33        | 70.44             |\n",
      "prdimp18         | 58.27      | 69.05      | 42.25      | 74.87        | 70.57             |\n",
      "kys              | 57.79      | 69.86      | 38.96      | 75.43        | 70.98             |\n",
      "rts50            | 52.43      | 58.69      | 32.22      | 62.19        | 56.73             |\n",
      "keep_track       | 65.03      | 79.20      | 45.42      | 86.42        | 80.41             |\n",
      "\n",
      "Using subset:250 fps , 20 ms window for testing\n"
     ]
    },
    {
     "name": "stderr",
     "output_type": "stream",
     "text": [
      "100%|██████████| 32/32 [00:08<00:00,  3.66it/s]\n"
     ]
    },
    {
     "name": "stdout",
     "output_type": "stream",
     "text": [
      "\n",
      "\n",
      "Computed results over 32 / 32 sequences\n",
      "\n",
      "Reporting results over 32 / 32 sequences\n",
      "\n",
      "esot_250_20      | AUC        | OP50       | OP75       | Precision    | Norm Precision    |\n",
      "atom             | 47.85      | 57.03      | 28.46      | 62.48        | 58.16             |\n",
      "dimp18           | 58.96      | 71.47      | 37.65      | 77.62        | 72.26             |\n",
      "prdimp18         | 59.92      | 71.12      | 42.67      | 77.40        | 72.17             |\n",
      "kys              | 60.99      | 74.53      | 41.61      | 80.71        | 75.54             |\n",
      "rts50            | 49.45      | 53.93      | 28.99      | 58.99        | 51.48             |\n",
      "keep_track       | 65.37      | 80.28      | 45.93      | 86.37        | 80.77             |\n",
      "\n",
      "Using subset:20 fps , 20 ms window for testing\n"
     ]
    },
    {
     "name": "stderr",
     "output_type": "stream",
     "text": [
      "100%|██████████| 32/32 [00:00<00:00, 93.48it/s] "
     ]
    },
    {
     "name": "stdout",
     "output_type": "stream",
     "text": [
      "\n",
      "\n",
      "Computed results over 32 / 32 sequences\n",
      "\n",
      "Reporting results over 32 / 32 sequences\n",
      "\n",
      "esot_20_20      | AUC        | OP50       | OP75       | Precision    | Norm Precision    |\n",
      "atom            | 54.98      | 66.15      | 33.07      | 71.45        | 65.56             |\n",
      "dimp18          | 60.70      | 75.08      | 38.21      | 79.66        | 73.90             |\n",
      "prdimp18        | 58.78      | 68.58      | 42.78      | 75.02        | 69.49             |\n",
      "kys             | 60.79      | 73.87      | 40.45      | 80.08        | 73.52             |\n",
      "rts50           | 50.67      | 56.45      | 31.48      | 58.94        | 52.67             |\n",
      "keep_track      | 62.87      | 76.27      | 46.34      | 80.35        | 74.36             |\n",
      "\n"
     ]
    },
    {
     "name": "stderr",
     "output_type": "stream",
     "text": [
      "\n"
     ]
    }
   ],
   "source": [
    "# 20ms \n",
    "trackers = []\n",
    "trackers.extend(trackerlist(name='atom', parameter_name='default',\n",
    "                            run_ids=0, display_name='atom'))\n",
    "trackers.extend(trackerlist(name='dimp', parameter_name='dimp18', \n",
    "                            run_ids=0, display_name='dimp18'))\n",
    "trackers.extend(trackerlist(name='dimp', parameter_name='prdimp18', \n",
    "                            run_ids=0, display_name='prdimp18'))\n",
    "trackers.extend(trackerlist(name='kys', parameter_name='default', \n",
    "                            run_ids=0, display_name='kys'))\n",
    "trackers.extend(trackerlist(name='rts', parameter_name='rts50', \n",
    "                            run_ids=0, display_name='rts50'))\n",
    "trackers.extend(trackerlist(name='keep_track', parameter_name='default', \n",
    "                            run_ids=0, display_name='keep_track'))\n",
    "# trackers.extend(trackerlist(name='atom', parameter_name='esot500',\n",
    "#                             run_ids=0, display_name='atom'))\n",
    "dataset_name = ('esot_500_20')\n",
    "dataset = get_dataset(dataset_name)\n",
    "print_results(trackers, dataset, dataset_name, merge_results=False, plot_types=('success', 'prec', 'norm_prec'),force_evaluation=False)\n",
    "dataset_name = ('esot_250_20')\n",
    "dataset = get_dataset(dataset_name)\n",
    "print_results(trackers, dataset, dataset_name, merge_results=False, plot_types=('success', 'prec', 'norm_prec'),force_evaluation=False)\n",
    "dataset_name = ('esot_20_20')\n",
    "dataset = get_dataset(dataset_name)\n",
    "print_results(trackers, dataset, dataset_name, merge_results=False, plot_types=('success', 'prec', 'norm_prec'),force_evaluation=False)"
   ]
  },
  {
   "cell_type": "code",
   "execution_count": 12,
   "metadata": {},
   "outputs": [
    {
     "name": "stdout",
     "output_type": "stream",
     "text": [
      "Using subset:20 fps , 2 ms window for testing\n",
      "\n",
      "Reporting results over 32 / 32 sequences\n",
      "\n",
      "esot_20_2       | AUC        | OP50       | OP75       | Precision    | Norm Precision    |\n",
      "atom            | 42.26      | 47.37      | 24.70      | 52.80        | 47.84             |\n",
      "dimp18          | 48.19      | 56.04      | 27.65      | 61.29        | 56.15             |\n",
      "prdimp18        | 42.28      | 45.61      | 25.52      | 50.56        | 47.01             |\n",
      "kys             | 50.21      | 55.14      | 29.24      | 64.04        | 56.68             |\n",
      "rts50           | 43.44      | 47.02      | 24.83      | 50.79        | 45.22             |\n",
      "keep_track      | 45.22      | 49.76      | 25.31      | 55.66        | 50.19             |\n",
      "\n",
      "Using subset:20 fps , 8 ms window for testing\n",
      "\n",
      "Reporting results over 32 / 32 sequences\n",
      "\n",
      "esot_20_8       | AUC        | OP50       | OP75       | Precision    | Norm Precision    |\n",
      "atom            | 50.59      | 59.11      | 31.64      | 64.87        | 58.12             |\n",
      "dimp18          | 57.36      | 67.17      | 36.60      | 73.85        | 67.53             |\n",
      "prdimp18        | 51.49      | 59.02      | 37.36      | 63.84        | 59.47             |\n",
      "kys             | 59.84      | 71.13      | 40.76      | 78.39        | 72.25             |\n",
      "rts50           | 53.86      | 59.86      | 34.12      | 62.98        | 56.28             |\n",
      "keep_track      | 56.60      | 66.30      | 39.34      | 69.19        | 63.03             |\n",
      "\n",
      "Using subset:20 fps , 20 ms window for testing\n",
      "\n",
      "Reporting results over 32 / 32 sequences\n",
      "\n",
      "esot_20_20      | AUC        | OP50       | OP75       | Precision    | Norm Precision    |\n",
      "atom            | 54.98      | 66.15      | 33.07      | 71.45        | 65.56             |\n",
      "dimp18          | 60.70      | 75.08      | 38.21      | 79.66        | 73.90             |\n",
      "prdimp18        | 58.78      | 68.58      | 42.78      | 75.02        | 69.49             |\n",
      "kys             | 60.79      | 73.87      | 40.45      | 80.08        | 73.52             |\n",
      "rts50           | 50.67      | 56.45      | 31.48      | 58.94        | 52.67             |\n",
      "keep_track      | 62.87      | 76.27      | 46.34      | 80.35        | 74.36             |\n",
      "\n"
     ]
    }
   ],
   "source": [
    "# 20 FPS \n",
    "trackers = []\n",
    "trackers.extend(trackerlist(name='atom', parameter_name='default',\n",
    "                            run_ids=0, display_name='atom'))\n",
    "trackers.extend(trackerlist(name='dimp', parameter_name='dimp18', \n",
    "                            run_ids=0, display_name='dimp18'))\n",
    "trackers.extend(trackerlist(name='dimp', parameter_name='prdimp18', \n",
    "                            run_ids=0, display_name='prdimp18'))\n",
    "trackers.extend(trackerlist(name='kys', parameter_name='default', \n",
    "                            run_ids=0, display_name='kys'))\n",
    "trackers.extend(trackerlist(name='rts', parameter_name='rts50', \n",
    "                            run_ids=0, display_name='rts50'))\n",
    "trackers.extend(trackerlist(name='keep_track', parameter_name='default', \n",
    "                            run_ids=0, display_name='keep_track'))\n",
    "# trackers.extend(trackerlist(name='atom', parameter_name='esot500',\n",
    "#                             run_ids=0, display_name='atom'))\n",
    "dataset_name = ('esot_20_2')\n",
    "dataset = get_dataset(dataset_name)\n",
    "print_results(trackers, dataset, dataset_name, merge_results=False, plot_types=('success', 'prec', 'norm_prec'),force_evaluation=False)\n",
    "dataset_name = ('esot_20_8')\n",
    "dataset = get_dataset(dataset_name)\n",
    "print_results(trackers, dataset, dataset_name, merge_results=False, plot_types=('success', 'prec', 'norm_prec'),force_evaluation=False)\n",
    "dataset_name = ('esot_20_20')\n",
    "dataset = get_dataset(dataset_name)\n",
    "print_results(trackers, dataset, dataset_name, merge_results=False, plot_types=('success', 'prec', 'norm_prec'),force_evaluation=False)"
   ]
  },
  {
   "cell_type": "code",
   "execution_count": 13,
   "metadata": {},
   "outputs": [
    {
     "name": "stdout",
     "output_type": "stream",
     "text": [
      "Using subset:500 fps , 8 ms window for testing\n"
     ]
    },
    {
     "name": "stderr",
     "output_type": "stream",
     "text": [
      "100%|██████████| 32/32 [00:27<00:00,  1.14it/s]\n"
     ]
    },
    {
     "name": "stdout",
     "output_type": "stream",
     "text": [
      "\n",
      "\n",
      "Computed results over 32 / 32 sequences\n",
      "\n",
      "Reporting results over 32 / 32 sequences\n",
      "\n",
      "esot_500_8       | AUC        | OP50       | OP75       | Precision    | Norm Precision    |\n",
      "atom_fe          | 46.36      | 55.07      | 24.05      | 58.82        | 53.32             |\n",
      "dimp18_fe        | 35.32      | 35.22      | 10.31      | 41.91        | 35.04             |\n",
      "prdimp18_fe      | 26.14      | 21.30      | 4.21       | 29.51        | 25.13             |\n",
      "kys_fe           | 54.16      | 63.74      | 37.25      | 68.80        | 64.69             |\n",
      "\n",
      "Using subset:250 fps , 8 ms window for testing\n"
     ]
    },
    {
     "name": "stderr",
     "output_type": "stream",
     "text": [
      "100%|██████████| 32/32 [00:17<00:00,  1.85it/s]\n"
     ]
    },
    {
     "name": "stdout",
     "output_type": "stream",
     "text": [
      "\n",
      "\n",
      "Computed results over 32 / 32 sequences\n",
      "\n",
      "Reporting results over 32 / 32 sequences\n",
      "\n",
      "esot_250_8       | AUC        | OP50       | OP75       | Precision    | Norm Precision    |\n",
      "atom_fe          | 45.59      | 54.31      | 24.10      | 58.22        | 52.87             |\n",
      "dimp18_fe        | 37.42      | 37.79      | 11.13      | 44.09        | 36.79             |\n",
      "prdimp18_fe      | 26.97      | 21.52      | 4.12       | 30.40        | 25.17             |\n",
      "kys_fe           | 55.65      | 65.67      | 38.00      | 71.25        | 66.38             |\n",
      "\n",
      "Using subset:20 fps , 8 ms window for testing\n"
     ]
    },
    {
     "name": "stderr",
     "output_type": "stream",
     "text": [
      "100%|██████████| 32/32 [00:00<00:00, 41.80it/s]\n"
     ]
    },
    {
     "name": "stdout",
     "output_type": "stream",
     "text": [
      "\n",
      "\n",
      "Computed results over 32 / 32 sequences\n",
      "\n",
      "Reporting results over 32 / 32 sequences\n",
      "\n",
      "esot_20_8        | AUC        | OP50       | OP75       | Precision    | Norm Precision    |\n",
      "atom_fe          | 49.40      | 58.94      | 26.54      | 63.24        | 57.00             |\n",
      "dimp18_fe        | 38.22      | 39.08      | 11.36      | 43.89        | 38.02             |\n",
      "prdimp18_fe      | 24.45      | 19.52      | 3.78       | 24.70        | 20.93             |\n",
      "kys_fe           | 59.19      | 71.02      | 39.85      | 76.89        | 70.80             |\n",
      "\n",
      "Using subset:500 fps , 2 ms window for testing\n"
     ]
    },
    {
     "name": "stderr",
     "output_type": "stream",
     "text": [
      "100%|██████████| 32/32 [00:26<00:00,  1.20it/s]\n"
     ]
    },
    {
     "name": "stdout",
     "output_type": "stream",
     "text": [
      "\n",
      "\n",
      "Computed results over 32 / 32 sequences\n",
      "\n",
      "Reporting results over 32 / 32 sequences\n",
      "\n",
      "esot_500_2       | AUC        | OP50       | OP75       | Precision    | Norm Precision    |\n",
      "atom_fe          | 40.64      | 46.02      | 21.06      | 49.77        | 46.62             |\n",
      "dimp18_fe        | 23.60      | 20.95      | 5.48       | 20.44        | 18.86             |\n",
      "prdimp18_fe      | 20.28      | 16.98      | 3.97       | 14.87        | 14.80             |\n",
      "kys_fe           | 46.81      | 51.40      | 27.95      | 59.58        | 54.34             |\n",
      "\n",
      "Using subset:250 fps , 2 ms window for testing\n"
     ]
    },
    {
     "name": "stderr",
     "output_type": "stream",
     "text": [
      "100%|██████████| 32/32 [00:13<00:00,  2.33it/s]\n"
     ]
    },
    {
     "name": "stdout",
     "output_type": "stream",
     "text": [
      "\n",
      "\n",
      "Computed results over 32 / 32 sequences\n",
      "\n",
      "Reporting results over 32 / 32 sequences\n",
      "\n",
      "esot_250_2       | AUC        | OP50       | OP75       | Precision    | Norm Precision    |\n",
      "atom_fe          | 40.71      | 45.92      | 19.97      | 50.85        | 46.26             |\n",
      "dimp18_fe        | 23.93      | 21.04      | 5.46       | 20.68        | 18.95             |\n",
      "prdimp18_fe      | 20.27      | 16.95      | 3.98       | 14.94        | 14.85             |\n",
      "kys_fe           | 49.85      | 55.77      | 30.02      | 64.33        | 58.52             |\n",
      "\n",
      "Using subset:20 fps , 2 ms window for testing\n"
     ]
    },
    {
     "name": "stderr",
     "output_type": "stream",
     "text": [
      "100%|██████████| 32/32 [00:00<00:00, 40.65it/s]"
     ]
    },
    {
     "name": "stdout",
     "output_type": "stream",
     "text": [
      "\n",
      "\n",
      "Computed results over 32 / 32 sequences\n",
      "\n",
      "Reporting results over 32 / 32 sequences\n",
      "\n",
      "esot_20_2        | AUC        | OP50       | OP75       | Precision    | Norm Precision    |\n",
      "atom_fe          | 41.82      | 46.81      | 20.74      | 51.06        | 46.22             |\n",
      "dimp18_fe        | 23.72      | 20.60      | 5.32       | 19.94        | 18.35             |\n",
      "prdimp18_fe      | 20.34      | 16.80      | 4.07       | 14.45        | 14.35             |\n",
      "kys_fe           | 49.69      | 56.63      | 30.15      | 63.11        | 57.60             |\n",
      "\n"
     ]
    },
    {
     "name": "stderr",
     "output_type": "stream",
     "text": [
      "\n"
     ]
    }
   ],
   "source": [
    "# FE re-train\n",
    "# 8 ms, 2ms\n",
    "# 20 ms ongoing\n",
    "trackers = []\n",
    "trackers.extend(trackerlist(name='atom', parameter_name='fe240',\n",
    "                            run_ids=range(3), display_name='atom_fe'))\n",
    "trackers.extend(trackerlist(name='dimp', parameter_name='dimp18_fe240', \n",
    "                            run_ids=range(3), display_name='dimp18_fe'))\n",
    "trackers.extend(trackerlist(name='dimp', parameter_name='prdimp18_fe240', \n",
    "                            run_ids=range(3), display_name='prdimp18_fe'))\n",
    "trackers.extend(trackerlist(name='kys', parameter_name='fe240', \n",
    "                            run_ids=range(3), display_name='kys_fe'))\n",
    "# trackers.extend(trackerlist(name='tomp', parameter_name='tomp_fe240', \n",
    "#                             run_ids=0, display_name='tomp_fe'))\n",
    "# trackers.extend(trackerlist(name='atom', parameter_name='esot500',\n",
    "#                             run_ids=0, display_name='atom'))\n",
    "dataset_name = ('esot_500_8')\n",
    "dataset = get_dataset(dataset_name)\n",
    "print_results(trackers, dataset, dataset_name, merge_results=True, plot_types=('success', 'prec', 'norm_prec'),force_evaluation=False)\n",
    "dataset_name = ('esot_250_8')\n",
    "dataset = get_dataset(dataset_name)\n",
    "print_results(trackers, dataset, dataset_name, merge_results=True, plot_types=('success', 'prec', 'norm_prec'),force_evaluation=False)\n",
    "dataset_name = ('esot_20_8')\n",
    "dataset = get_dataset(dataset_name)\n",
    "print_results(trackers, dataset, dataset_name, merge_results=True, plot_types=('success', 'prec', 'norm_prec'),force_evaluation=False)\n",
    "dataset_name = ('esot_500_2')\n",
    "dataset = get_dataset(dataset_name)\n",
    "print_results(trackers, dataset, dataset_name, merge_results=True, plot_types=('success', 'prec', 'norm_prec'),force_evaluation=False)\n",
    "dataset_name = ('esot_250_2')\n",
    "dataset = get_dataset(dataset_name)\n",
    "print_results(trackers, dataset, dataset_name, merge_results=True, plot_types=('success', 'prec', 'norm_prec'),force_evaluation=False)\n",
    "dataset_name = ('esot_20_2')\n",
    "dataset = get_dataset(dataset_name)\n",
    "print_results(trackers, dataset, dataset_name, merge_results=True, plot_types=('success', 'prec', 'norm_prec'),force_evaluation=False)"
   ]
  },
  {
   "cell_type": "markdown",
   "metadata": {},
   "source": [
    "### ESOT2\n"
   ]
  },
  {
   "cell_type": "code",
   "execution_count": 14,
   "metadata": {},
   "outputs": [
    {
     "name": "stderr",
     "output_type": "stream",
     "text": [
      "100%|██████████| 21/21 [00:00<00:00, 59.62it/s]\n"
     ]
    },
    {
     "name": "stdout",
     "output_type": "stream",
     "text": [
      "\n",
      "\n",
      "Computed results over 21 / 21 sequences\n",
      "\n",
      "Reporting results over 21 / 21 sequences\n",
      "\n",
      "esot2_default      | AUC        | OP50       | OP75       | Precision    | Norm Precision    |\n",
      "atom               | 39.42      | 45.48      | 19.07      | 67.18        | 48.63             |\n",
      "dimp18             | 39.88      | 47.90      | 21.54      | 63.04        | 49.15             |\n",
      "prdimp18           | 38.90      | 44.32      | 19.45      | 64.43        | 48.67             |\n",
      "kys                | 49.27      | 59.70      | 25.98      | 76.44        | 60.45             |\n",
      "rts50              | 41.93      | 46.91      | 26.66      | 60.16        | 46.74             |\n",
      "keep_track         | 43.21      | 52.60      | 26.36      | 62.97        | 53.75             |\n",
      "\n"
     ]
    },
    {
     "name": "stderr",
     "output_type": "stream",
     "text": [
      "100%|██████████| 21/21 [00:00<00:00, 26.66it/s]\n"
     ]
    },
    {
     "name": "stdout",
     "output_type": "stream",
     "text": [
      "\n",
      "\n",
      "Computed results over 21 / 21 sequences\n",
      "\n",
      "Reporting results over 21 / 21 sequences\n",
      "\n",
      "esot2_2_20      | AUC        | OP50       | OP75       | Precision    | Norm Precision    |\n",
      "atom            | 39.69      | 46.89      | 18.18      | 66.13        | 148.55            |\n",
      "dimp18          | 45.96      | 53.43      | 20.99      | 73.56        | 153.74            |\n",
      "prdimp18        | 38.13      | 44.99      | 17.89      | 64.97        | 147.64            |\n",
      "kys             | 47.15      | 55.87      | 24.14      | 76.40        | 156.42            |\n",
      "rts50           | 39.13      | 43.90      | 19.75      | 62.69        | 143.42            |\n",
      "keep_track      | 41.71      | 50.75      | 23.83      | 66.43        | 151.32            |\n",
      "\n"
     ]
    },
    {
     "name": "stderr",
     "output_type": "stream",
     "text": [
      "100%|██████████| 21/21 [00:01<00:00, 11.22it/s]\n"
     ]
    },
    {
     "name": "stdout",
     "output_type": "stream",
     "text": [
      "\n",
      "\n",
      "Computed results over 21 / 21 sequences\n",
      "\n",
      "Reporting results over 21 / 21 sequences\n",
      "\n",
      "esot2_5_20      | AUC        | OP50       | OP75       | Precision    | Norm Precision    |\n",
      "atom            | 34.92      | 41.22      | 15.80      | 56.90        | 442.22            |\n",
      "dimp18          | 43.09      | 52.56      | 21.14      | 66.82        | 452.01            |\n",
      "prdimp18        | 39.82      | 46.88      | 17.87      | 66.45        | 448.26            |\n",
      "kys             | 49.01      | 58.01      | 24.14      | 81.37        | 457.90            |\n",
      "rts50           | 39.37      | 43.13      | 19.32      | 62.37        | 442.71            |\n",
      "keep_track      | 41.89      | 51.78      | 23.83      | 64.10        | 452.90            |\n",
      "\n"
     ]
    },
    {
     "name": "stderr",
     "output_type": "stream",
     "text": [
      "100%|██████████| 21/21 [00:03<00:00,  6.22it/s]"
     ]
    },
    {
     "name": "stdout",
     "output_type": "stream",
     "text": [
      "\n",
      "\n",
      "Computed results over 21 / 21 sequences\n",
      "\n",
      "Reporting results over 21 / 21 sequences\n",
      "\n",
      "esot2_10_20      | AUC        | OP50       | OP75       | Precision    | Norm Precision    |\n",
      "atom             | 35.69      | 41.81      | 16.45      | 55.00        | 939.51            |\n",
      "dimp18           | 47.23      | 55.46      | 21.05      | 75.85        | 951.62            |\n",
      "prdimp18         | 38.32      | 46.69      | 17.85      | 60.53        | 944.11            |\n",
      "kys              | 48.21      | 54.56      | 23.75      | 81.74        | 954.30            |\n",
      "rts50            | 38.54      | 41.93      | 18.85      | 63.31        | 938.89            |\n",
      "keep_track       | 43.33      | 51.92      | 23.03      | 71.88        | 950.25            |\n",
      "\n"
     ]
    },
    {
     "name": "stderr",
     "output_type": "stream",
     "text": [
      "\n"
     ]
    }
   ],
   "source": [
    "# Awaiting results\n",
    "trackers = []\n",
    "trackers.extend(trackerlist(name='atom', parameter_name='default',\n",
    "                            run_ids=0, display_name='atom'))\n",
    "trackers.extend(trackerlist(name='dimp', parameter_name='dimp18', \n",
    "                            run_ids=0, display_name='dimp18'))\n",
    "trackers.extend(trackerlist(name='dimp', parameter_name='prdimp18', \n",
    "                            run_ids=0, display_name='prdimp18'))\n",
    "trackers.extend(trackerlist(name='kys', parameter_name='default', \n",
    "                            run_ids=0, display_name='kys'))\n",
    "trackers.extend(trackerlist(name='rts', parameter_name='rts50', \n",
    "                            run_ids=0, display_name='rts50'))\n",
    "trackers.extend(trackerlist(name='keep_track', parameter_name='default', \n",
    "                            run_ids=0, display_name='keep_track'))\n",
    "# trackers.extend(trackerlist(name='atom', parameter_name='esot500',\n",
    "#                             run_ids=0, display_name='atom'))\n",
    "dataset_name = ('esot2_default')\n",
    "dataset = get_dataset(dataset_name)\n",
    "print_results(trackers, dataset, dataset_name, merge_results=False, plot_types=('success', 'prec', 'norm_prec'),force_evaluation=True, exclude_invalid_frames=True)\n",
    "dataset_name = ('esot2_2_20')\n",
    "dataset = get_dataset(dataset_name)\n",
    "print_results(trackers, dataset, dataset_name, merge_results=False, plot_types=('success', 'prec', 'norm_prec'),force_evaluation=True, exclude_invalid_frames=True)\n",
    "dataset_name = ('esot2_5_20')\n",
    "dataset = get_dataset(dataset_name)\n",
    "print_results(trackers, dataset, dataset_name, merge_results=False, plot_types=('success', 'prec', 'norm_prec'),force_evaluation=True, exclude_invalid_frames=True)\n",
    "dataset_name = ('esot2_10_20')\n",
    "dataset = get_dataset(dataset_name)\n",
    "print_results(trackers, dataset, dataset_name, merge_results=False, plot_types=('success', 'prec', 'norm_prec'),force_evaluation=True, exclude_invalid_frames=True)"
   ]
  },
  {
   "cell_type": "code",
   "execution_count": 15,
   "metadata": {},
   "outputs": [
    {
     "ename": "OSError",
     "evalue": "/home/test4/code/EventBenchmark/lib/pytracking/pytracking/tracking_results_rt_final/atom/default_000/airplane5.txt not found.",
     "output_type": "error",
     "traceback": [
      "\u001b[0;31m---------------------------------------------------------------------------\u001b[0m",
      "\u001b[0;31mOSError\u001b[0m                                   Traceback (most recent call last)",
      "\u001b[1;32m/home/test4/code/EventBenchmark/lib/pytracking/pytracking/analysis/analysis_results.ipynb Cell 16\u001b[0m line \u001b[0;36m4\n\u001b[1;32m      <a href='vscode-notebook-cell://ssh-remote%2B10.102.3.54/home/test4/code/EventBenchmark/lib/pytracking/pytracking/analysis/analysis_results.ipynb#X21sdnNjb2RlLXJlbW90ZQ%3D%3D?line=1'>2</a>\u001b[0m os\u001b[39m.\u001b[39mpath\u001b[39m.\u001b[39mexists(\u001b[39m'\u001b[39m\u001b[39m/home/test4/code/EventBenchmark/lib/pytracking/pytracking/tracking_results_rt_final/atom/default_000/airplane5.txt\u001b[39m\u001b[39m'\u001b[39m)\n\u001b[1;32m      <a href='vscode-notebook-cell://ssh-remote%2B10.102.3.54/home/test4/code/EventBenchmark/lib/pytracking/pytracking/analysis/analysis_results.ipynb#X21sdnNjb2RlLXJlbW90ZQ%3D%3D?line=2'>3</a>\u001b[0m \u001b[39mimport\u001b[39;00m \u001b[39mnumpy\u001b[39;00m \u001b[39mas\u001b[39;00m \u001b[39mnp\u001b[39;00m\n\u001b[0;32m----> <a href='vscode-notebook-cell://ssh-remote%2B10.102.3.54/home/test4/code/EventBenchmark/lib/pytracking/pytracking/analysis/analysis_results.ipynb#X21sdnNjb2RlLXJlbW90ZQ%3D%3D?line=3'>4</a>\u001b[0m txt \u001b[39m=\u001b[39m np\u001b[39m.\u001b[39mloadtxt(\u001b[39m'\u001b[39m\u001b[39m/home/test4/code/EventBenchmark/lib/pytracking/pytracking/tracking_results_rt_final/atom/default_000/airplane5.txt\u001b[39m\u001b[39m'\u001b[39m)\n",
      "File \u001b[0;32m/usr/local/anaconda3/envs/ebench/lib/python3.8/site-packages/numpy/lib/npyio.py:1067\u001b[0m, in \u001b[0;36mloadtxt\u001b[0;34m(fname, dtype, comments, delimiter, converters, skiprows, usecols, unpack, ndmin, encoding, max_rows, like)\u001b[0m\n\u001b[1;32m   1065\u001b[0m     fname \u001b[39m=\u001b[39m os_fspath(fname)\n\u001b[1;32m   1066\u001b[0m \u001b[39mif\u001b[39;00m _is_string_like(fname):\n\u001b[0;32m-> 1067\u001b[0m     fh \u001b[39m=\u001b[39m np\u001b[39m.\u001b[39;49mlib\u001b[39m.\u001b[39;49m_datasource\u001b[39m.\u001b[39;49mopen(fname, \u001b[39m'\u001b[39;49m\u001b[39mrt\u001b[39;49m\u001b[39m'\u001b[39;49m, encoding\u001b[39m=\u001b[39;49mencoding)\n\u001b[1;32m   1068\u001b[0m     fencoding \u001b[39m=\u001b[39m \u001b[39mgetattr\u001b[39m(fh, \u001b[39m'\u001b[39m\u001b[39mencoding\u001b[39m\u001b[39m'\u001b[39m, \u001b[39m'\u001b[39m\u001b[39mlatin1\u001b[39m\u001b[39m'\u001b[39m)\n\u001b[1;32m   1069\u001b[0m     fh \u001b[39m=\u001b[39m \u001b[39miter\u001b[39m(fh)\n",
      "File \u001b[0;32m/usr/local/anaconda3/envs/ebench/lib/python3.8/site-packages/numpy/lib/_datasource.py:193\u001b[0m, in \u001b[0;36mopen\u001b[0;34m(path, mode, destpath, encoding, newline)\u001b[0m\n\u001b[1;32m    156\u001b[0m \u001b[39m\"\"\"\u001b[39;00m\n\u001b[1;32m    157\u001b[0m \u001b[39mOpen `path` with `mode` and return the file object.\u001b[39;00m\n\u001b[1;32m    158\u001b[0m \n\u001b[0;32m   (...)\u001b[0m\n\u001b[1;32m    189\u001b[0m \n\u001b[1;32m    190\u001b[0m \u001b[39m\"\"\"\u001b[39;00m\n\u001b[1;32m    192\u001b[0m ds \u001b[39m=\u001b[39m DataSource(destpath)\n\u001b[0;32m--> 193\u001b[0m \u001b[39mreturn\u001b[39;00m ds\u001b[39m.\u001b[39;49mopen(path, mode, encoding\u001b[39m=\u001b[39;49mencoding, newline\u001b[39m=\u001b[39;49mnewline)\n",
      "File \u001b[0;32m/usr/local/anaconda3/envs/ebench/lib/python3.8/site-packages/numpy/lib/_datasource.py:533\u001b[0m, in \u001b[0;36mDataSource.open\u001b[0;34m(self, path, mode, encoding, newline)\u001b[0m\n\u001b[1;32m    530\u001b[0m     \u001b[39mreturn\u001b[39;00m _file_openers[ext](found, mode\u001b[39m=\u001b[39mmode,\n\u001b[1;32m    531\u001b[0m                               encoding\u001b[39m=\u001b[39mencoding, newline\u001b[39m=\u001b[39mnewline)\n\u001b[1;32m    532\u001b[0m \u001b[39melse\u001b[39;00m:\n\u001b[0;32m--> 533\u001b[0m     \u001b[39mraise\u001b[39;00m \u001b[39mIOError\u001b[39;00m(\u001b[39m\"\u001b[39m\u001b[39m%s\u001b[39;00m\u001b[39m not found.\u001b[39m\u001b[39m\"\u001b[39m \u001b[39m%\u001b[39m path)\n",
      "\u001b[0;31mOSError\u001b[0m: /home/test4/code/EventBenchmark/lib/pytracking/pytracking/tracking_results_rt_final/atom/default_000/airplane5.txt not found."
     ]
    }
   ],
   "source": [
    "import os\n",
    "os.path.exists('/home/test4/code/EventBenchmark/lib/pytracking/pytracking/tracking_results_rt_final/atom/default_000/airplane5.txt')\n",
    "import numpy as np\n",
    "txt = np.loadtxt('/home/test4/code/EventBenchmark/lib/pytracking/pytracking/tracking_results_rt_final/atom/default_000/airplane5.txt')"
   ]
  },
  {
   "cell_type": "code",
   "execution_count": 1,
   "metadata": {},
   "outputs": [
    {
     "ename": "NameError",
     "evalue": "name 'trackerlist' is not defined",
     "output_type": "error",
     "traceback": [
      "\u001b[0;31m---------------------------------------------------------------------------\u001b[0m",
      "\u001b[0;31mNameError\u001b[0m                                 Traceback (most recent call last)",
      "\u001b[1;32m/home/test4/code/EventBenchmark/lib/pytracking/pytracking/analysis/analysis_results.ipynb Cell 17\u001b[0m line \u001b[0;36m3\n\u001b[1;32m      <a href='vscode-notebook-cell://ssh-remote%2B10.102.3.54/home/test4/code/EventBenchmark/lib/pytracking/pytracking/analysis/analysis_results.ipynb#X22sdnNjb2RlLXJlbW90ZQ%3D%3D?line=0'>1</a>\u001b[0m dataset_name \u001b[39m=\u001b[39m \u001b[39m'\u001b[39m\u001b[39mfe240\u001b[39m\u001b[39m'\u001b[39m\n\u001b[1;32m      <a href='vscode-notebook-cell://ssh-remote%2B10.102.3.54/home/test4/code/EventBenchmark/lib/pytracking/pytracking/analysis/analysis_results.ipynb#X22sdnNjb2RlLXJlbW90ZQ%3D%3D?line=1'>2</a>\u001b[0m trackers \u001b[39m=\u001b[39m []\n\u001b[0;32m----> <a href='vscode-notebook-cell://ssh-remote%2B10.102.3.54/home/test4/code/EventBenchmark/lib/pytracking/pytracking/analysis/analysis_results.ipynb#X22sdnNjb2RlLXJlbW90ZQ%3D%3D?line=2'>3</a>\u001b[0m trackers\u001b[39m.\u001b[39mextend(trackerlist(name\u001b[39m=\u001b[39m\u001b[39m'\u001b[39m\u001b[39matom\u001b[39m\u001b[39m'\u001b[39m, parameter_name\u001b[39m=\u001b[39m\u001b[39m'\u001b[39m\u001b[39mdefault\u001b[39m\u001b[39m'\u001b[39m,\n\u001b[1;32m      <a href='vscode-notebook-cell://ssh-remote%2B10.102.3.54/home/test4/code/EventBenchmark/lib/pytracking/pytracking/analysis/analysis_results.ipynb#X22sdnNjb2RlLXJlbW90ZQ%3D%3D?line=3'>4</a>\u001b[0m                             run_ids\u001b[39m=\u001b[39m\u001b[39m0\u001b[39m, display_name\u001b[39m=\u001b[39m\u001b[39m'\u001b[39m\u001b[39matom\u001b[39m\u001b[39m'\u001b[39m))\n\u001b[1;32m      <a href='vscode-notebook-cell://ssh-remote%2B10.102.3.54/home/test4/code/EventBenchmark/lib/pytracking/pytracking/analysis/analysis_results.ipynb#X22sdnNjb2RlLXJlbW90ZQ%3D%3D?line=4'>5</a>\u001b[0m trackers\u001b[39m.\u001b[39mextend(trackerlist(name\u001b[39m=\u001b[39m\u001b[39m'\u001b[39m\u001b[39mdimp\u001b[39m\u001b[39m'\u001b[39m, parameter_name\u001b[39m=\u001b[39m\u001b[39m'\u001b[39m\u001b[39mdimp18\u001b[39m\u001b[39m'\u001b[39m, \n\u001b[1;32m      <a href='vscode-notebook-cell://ssh-remote%2B10.102.3.54/home/test4/code/EventBenchmark/lib/pytracking/pytracking/analysis/analysis_results.ipynb#X22sdnNjb2RlLXJlbW90ZQ%3D%3D?line=5'>6</a>\u001b[0m                             run_ids\u001b[39m=\u001b[39m\u001b[39m0\u001b[39m, display_name\u001b[39m=\u001b[39m\u001b[39m'\u001b[39m\u001b[39mdimp18\u001b[39m\u001b[39m'\u001b[39m))\n\u001b[1;32m      <a href='vscode-notebook-cell://ssh-remote%2B10.102.3.54/home/test4/code/EventBenchmark/lib/pytracking/pytracking/analysis/analysis_results.ipynb#X22sdnNjb2RlLXJlbW90ZQ%3D%3D?line=6'>7</a>\u001b[0m trackers\u001b[39m.\u001b[39mextend(trackerlist(name\u001b[39m=\u001b[39m\u001b[39m'\u001b[39m\u001b[39mdimp\u001b[39m\u001b[39m'\u001b[39m, parameter_name\u001b[39m=\u001b[39m\u001b[39m'\u001b[39m\u001b[39mprdimp18\u001b[39m\u001b[39m'\u001b[39m, \n\u001b[1;32m      <a href='vscode-notebook-cell://ssh-remote%2B10.102.3.54/home/test4/code/EventBenchmark/lib/pytracking/pytracking/analysis/analysis_results.ipynb#X22sdnNjb2RlLXJlbW90ZQ%3D%3D?line=7'>8</a>\u001b[0m                             run_ids\u001b[39m=\u001b[39m\u001b[39m0\u001b[39m, display_name\u001b[39m=\u001b[39m\u001b[39m'\u001b[39m\u001b[39mprdimp18\u001b[39m\u001b[39m'\u001b[39m))\n",
      "\u001b[0;31mNameError\u001b[0m: name 'trackerlist' is not defined"
     ]
    }
   ],
   "source": [
    "dataset_name = 'fe240'\n",
    "trackers = []\n",
    "trackers.extend(trackerlist(name='atom', parameter_name='default',\n",
    "                            run_ids=0, display_name='atom'))\n",
    "trackers.extend(trackerlist(name='dimp', parameter_name='dimp18', \n",
    "                            run_ids=0, display_name='dimp18'))\n",
    "trackers.extend(trackerlist(name='dimp', parameter_name='prdimp18', \n",
    "                            run_ids=0, display_name='prdimp18'))\n",
    "trackers.extend(trackerlist(name='kys', parameter_name='default', \n",
    "                            run_ids=0, display_name='kys'))\n",
    "trackers.extend(trackerlist(name='rts', parameter_name='rts50', \n",
    "                            run_ids=0, display_name='rts50'))\n",
    "trackers.extend(trackerlist(name='keep_track', parameter_name='default', \n",
    "                            run_ids=0, display_name='keep_track'))\n",
    "dataset = get_dataset(dataset_name)\n",
    "print_results(trackers, dataset, dataset_name, merge_results=True, plot_types=('success', 'prec', 'norm_prec'))"
   ]
  }
 ],
 "metadata": {
  "kernelspec": {
   "display_name": "Python 3 (ipykernel)",
   "language": "python",
   "name": "python3"
  },
  "language_info": {
   "codemirror_mode": {
    "name": "ipython",
    "version": 3
   },
   "file_extension": ".py",
   "mimetype": "text/x-python",
   "name": "python",
   "nbconvert_exporter": "python",
   "pygments_lexer": "ipython3",
   "version": "3.8.13"
  },
  "vscode": {
   "interpreter": {
    "hash": "17f5b4477bd794ec570b380a01920209adc96d3aecac4e031f99f3d2b867f343"
   }
  }
 },
 "nbformat": 4,
 "nbformat_minor": 2
}
