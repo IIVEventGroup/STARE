{
 "cells": [
  {
   "cell_type": "code",
   "execution_count": 1,
   "metadata": {},
   "outputs": [
    {
     "name": "stderr",
     "output_type": "stream",
     "text": [
      "/usr/local/anaconda3/envs/ebench/lib/python3.8/site-packages/tqdm/auto.py:22: TqdmWarning: IProgress not found. Please update jupyter and ipywidgets. See https://ipywidgets.readthedocs.io/en/stable/user_install.html\n",
      "  from .autonotebook import tqdm as notebook_tqdm\n"
     ]
    }
   ],
   "source": [
    "%load_ext autoreload\n",
    "%autoreload 2\n",
    "%matplotlib inline\n",
    "import os\n",
    "import sys\n",
    "import matplotlib.pyplot as plt\n",
    "plt.rcParams['figure.figsize'] = [14, 8]\n",
    "\n",
    "sys.path.append('/home/test4/code/EventBenchmark/lib/pytracking')\n",
    "from pytracking.analysis.plot_results import plot_results, print_results, print_per_sequence_results\n",
    "from pytracking.evaluation import get_dataset, trackerlist"
   ]
  },
  {
   "cell_type": "code",
   "execution_count": null,
   "metadata": {},
   "outputs": [],
   "source": [
    "dataset_name = 'esot500'\n",
    "trackers = []\n",
    "trackers.extend(trackerlist(name='atom', parameter_name='default',\n",
    "                            run_ids=0, display_name='atom'))\n",
    "trackers.extend(trackerlist(name='dimp', parameter_name='dimp18', \n",
    "                            run_ids=0, display_name='dimp18'))\n",
    "trackers.extend(trackerlist(name='dimp', parameter_name='prdimp18', \n",
    "                            run_ids=0, display_name='prdimp18'))\n",
    "trackers.extend(trackerlist(name='kys', parameter_name='default', \n",
    "                            run_ids=0, display_name='kys'))\n",
    "trackers.extend(trackerlist(name='rts', parameter_name='rts50', \n",
    "                            run_ids=0, display_name='rts50'))\n",
    "trackers.extend(trackerlist(name='keep_track', parameter_name='default', \n",
    "                            run_ids=0, display_name='keep_track'))\n",
    "# trackers.extend(trackerlist(name='atom', parameter_name='esot500',\n",
    "#                             run_ids=0, display_name='atom'))\n",
    "dataset = get_dataset(dataset_name)\n",
    "print_results(trackers, dataset, dataset_name, merge_results=False, plot_types=('success', 'prec', 'norm_prec'),force_evaluation=True)"
   ]
  },
  {
   "cell_type": "code",
   "execution_count": null,
   "metadata": {},
   "outputs": [],
   "source": [
    "# Realtime\n",
    "# Mind that result_path is changed in local.py !!!\n",
    "dataset_name = 'esot500'\n",
    "trackers = []\n",
    "trackers.extend(trackerlist(name='atom', parameter_name='default',\n",
    "                            run_ids=0, display_name='atom'))\n",
    "trackers.extend(trackerlist(name='dimp', parameter_name='dimp18', \n",
    "                            run_ids=0, display_name='dimp18'))\n",
    "trackers.extend(trackerlist(name='dimp', parameter_name='prdimp18', \n",
    "                            run_ids=0, display_name='prdimp18'))\n",
    "trackers.extend(trackerlist(name='kys', parameter_name='default', \n",
    "                            run_ids=0, display_name='kys'))\n",
    "trackers.extend(trackerlist(name='rts', parameter_name='rts50', \n",
    "                            run_ids=0, display_name='rts50'))\n",
    "trackers.extend(trackerlist(name='keep_track', parameter_name='default', \n",
    "                            run_ids=0, display_name='keep_track'))\n",
    "# trackers.extend(trackerlist(name='atom', parameter_name='esot500',\n",
    "#                             run_ids=0, display_name='atom'))\n",
    "dataset = get_dataset(dataset_name)\n",
    "print_results(trackers, dataset, dataset_name, merge_results=True, plot_types=('success', 'prec', 'norm_prec'),force_evaluation=True)"
   ]
  },
  {
   "cell_type": "code",
   "execution_count": 10,
   "metadata": {},
   "outputs": [
    {
     "name": "stdout",
     "output_type": "stream",
     "text": [
      "Using subset:500 fps , 2 ms window for testing\n"
     ]
    },
    {
     "name": "stderr",
     "output_type": "stream",
     "text": [
      "100%|██████████| 32/32 [00:11<00:00,  2.69it/s]"
     ]
    },
    {
     "name": "stdout",
     "output_type": "stream",
     "text": [
      "\n",
      "\n",
      "Computed results over 32 / 32 sequences\n",
      "\n",
      "Reporting results over 32 / 32 sequences\n",
      "\n",
      "esot_500_2      | AUC        | OP50       | OP75       | Precision    | Norm Precision    |\n",
      "atom            | 18.36      | 15.99      | 4.51       | 19.47        | 16.85             |\n",
      "dimp18          | 25.74      | 20.52      | 5.66       | 28.63        | 21.81             |\n",
      "prdimp18        | 19.08      | 15.28      | 5.25       | 21.16        | 18.11             |\n",
      "kys             | 24.35      | 19.23      | 4.70       | 25.03        | 19.53             |\n",
      "rts50           | 21.63      | 19.31      | 6.55       | 24.82        | 21.68             |\n",
      "keep_track      | 22.63      | 18.92      | 6.28       | 23.77        | 19.69             |\n",
      "\n"
     ]
    },
    {
     "name": "stderr",
     "output_type": "stream",
     "text": [
      "\n"
     ]
    }
   ],
   "source": [
    "# Realtime postKF forecaste results\n",
    "# Mind that result_path is changed in local.py !!!\n",
    "dataset_name = 'esot_500_2'\n",
    "trackers = []\n",
    "trackers.extend(trackerlist(name='atom', parameter_name='default',\n",
    "                            run_ids=0, display_name='atom'))\n",
    "trackers.extend(trackerlist(name='dimp', parameter_name='dimp18', \n",
    "                            run_ids=0, display_name='dimp18'))\n",
    "trackers.extend(trackerlist(name='dimp', parameter_name='prdimp18', \n",
    "                            run_ids=0, display_name='prdimp18'))\n",
    "trackers.extend(trackerlist(name='kys', parameter_name='default', \n",
    "                            run_ids=0, display_name='kys'))\n",
    "trackers.extend(trackerlist(name='rts', parameter_name='rts50', \n",
    "                            run_ids=0, display_name='rts50'))\n",
    "trackers.extend(trackerlist(name='keep_track', parameter_name='default', \n",
    "                            run_ids=0, display_name='keep_track'))\n",
    "# trackers.extend(trackerlist(name='atom', parameter_name='esot500',\n",
    "#                             run_ids=0, display_name='atom'))\n",
    "dataset = get_dataset(dataset_name)\n",
    "print_results(trackers, dataset, dataset_name, merge_results=False, plot_types=('success', 'prec', 'norm_prec'),force_evaluation=True)"
   ]
  },
  {
   "cell_type": "code",
   "execution_count": null,
   "metadata": {},
   "outputs": [],
   "source": [
    "\n",
    "dataset_name = 'esoth'\n",
    "trackers = []\n",
    "trackers.extend(trackerlist(name='atom', parameter_name='default',\n",
    "                            run_ids=99, display_name='atom'))\n",
    "trackers.extend(trackerlist(name='dimp', parameter_name='dimp18', \n",
    "                            run_ids=99, display_name='dimp18'))\n",
    "trackers.extend(trackerlist(name='dimp', parameter_name='prdimp18', \n",
    "                            run_ids=99, display_name='prdimp18'))\n",
    "trackers.extend(trackerlist(name='kys', parameter_name='default', \n",
    "                            run_ids=99, display_name='kys'))\n",
    "trackers.extend(trackerlist(name='rts', parameter_name='rts50', \n",
    "                            run_ids=99, display_name='rts50'))\n",
    "trackers.extend(trackerlist(name='keep_track', parameter_name='default', \n",
    "                            run_ids=99, display_name='keep_track'))\n",
    "# trackers.extend(trackerlist(name='atom', parameter_name='esot500',\n",
    "#                             run_ids=0, display_name='atom'))\n",
    "dataset = get_dataset(dataset_name)\n",
    "print_results(trackers, dataset, dataset_name, merge_results=False, plot_types=('success', 'prec', 'norm_prec'),force_evaluation=True)"
   ]
  },
  {
   "cell_type": "code",
   "execution_count": null,
   "metadata": {},
   "outputs": [],
   "source": [
    "\n",
    "dataset_name = 'esotm'\n",
    "trackers = []\n",
    "trackers.extend(trackerlist(name='atom', parameter_name='default',\n",
    "                            run_ids=66, display_name='atom'))\n",
    "trackers.extend(trackerlist(name='dimp', parameter_name='dimp18', \n",
    "                            run_ids=66, display_name='dimp18'))\n",
    "trackers.extend(trackerlist(name='dimp', parameter_name='prdimp18', \n",
    "                            run_ids=66, display_name='prdimp18'))\n",
    "trackers.extend(trackerlist(name='kys', parameter_name='default', \n",
    "                            run_ids=66, display_name='kys'))\n",
    "trackers.extend(trackerlist(name='rts', parameter_name='rts50', \n",
    "                            run_ids=66, display_name='rts50'))\n",
    "trackers.extend(trackerlist(name='keep_track', parameter_name='default', \n",
    "                            run_ids=66, display_name='keep_track'))\n",
    "# trackers.extend(trackerlist(name='atom', parameter_name='esot500',\n",
    "#                             run_ids=0, display_name='atom'))\n",
    "dataset = get_dataset(dataset_name)\n",
    "print_results(trackers, dataset, dataset_name, merge_results=False, plot_types=('success', 'prec', 'norm_prec'),force_evaluation=True)"
   ]
  },
  {
   "cell_type": "code",
   "execution_count": null,
   "metadata": {},
   "outputs": [],
   "source": [
    "\n",
    "dataset_name = 'esotl'\n",
    "trackers = []\n",
    "trackers.extend(trackerlist(name='atom', parameter_name='default',\n",
    "                            run_ids=33, display_name='atom'))\n",
    "trackers.extend(trackerlist(name='dimp', parameter_name='dimp18', \n",
    "                            run_ids=33, display_name='dimp18'))\n",
    "trackers.extend(trackerlist(name='dimp', parameter_name='prdimp18', \n",
    "                            run_ids=33, display_name='prdimp18'))\n",
    "trackers.extend(trackerlist(name='kys', parameter_name='default', \n",
    "                            run_ids=33, display_name='kys'))\n",
    "trackers.extend(trackerlist(name='rts', parameter_name='rts50', \n",
    "                            run_ids=33, display_name='rts50'))\n",
    "trackers.extend(trackerlist(name='keep_track', parameter_name='default', \n",
    "                            run_ids=33, display_name='keep_track'))\n",
    "# trackers.extend(trackerlist(name='atom', parameter_name='esot500',\n",
    "#                             run_ids=0, display_name='atom'))\n",
    "dataset = get_dataset(dataset_name)\n",
    "print_results(trackers, dataset, dataset_name, merge_results=False, plot_types=('success', 'prec', 'norm_prec'),force_evaluation=True)"
   ]
  },
  {
   "attachments": {},
   "cell_type": "markdown",
   "metadata": {},
   "source": [
    "### FPS"
   ]
  },
  {
   "cell_type": "code",
   "execution_count": null,
   "metadata": {},
   "outputs": [],
   "source": [
    "# 2ms\n",
    "trackers = []\n",
    "trackers.extend(trackerlist(name='atom', parameter_name='default',\n",
    "                            run_ids=0, display_name='atom'))\n",
    "trackers.extend(trackerlist(name='dimp', parameter_name='dimp18', \n",
    "                            run_ids=0, display_name='dimp18'))\n",
    "trackers.extend(trackerlist(name='dimp', parameter_name='prdimp18', \n",
    "                            run_ids=0, display_name='prdimp18'))\n",
    "trackers.extend(trackerlist(name='kys', parameter_name='default', \n",
    "                            run_ids=0, display_name='kys'))\n",
    "trackers.extend(trackerlist(name='rts', parameter_name='rts50', \n",
    "                            run_ids=0, display_name='rts50'))\n",
    "trackers.extend(trackerlist(name='keep_track', parameter_name='default', \n",
    "                            run_ids=0, display_name='keep_track'))\n",
    "# trackers.extend(trackerlist(name='atom', parameter_name='esot500',\n",
    "#                             run_ids=0, display_name='atom'))\n",
    "dataset_name = ('esot_500_2')\n",
    "dataset = get_dataset(dataset_name)\n",
    "print_results(trackers, dataset, dataset_name, merge_results=False, plot_types=('success', 'prec', 'norm_prec'),force_evaluation=False)\n",
    "dataset_name = ('esot_250_2')\n",
    "dataset = get_dataset(dataset_name)\n",
    "print_results(trackers, dataset, dataset_name, merge_results=False, plot_types=('success', 'prec', 'norm_prec'),force_evaluation=False)\n",
    "dataset_name = ('esot_20_2')\n",
    "dataset = get_dataset(dataset_name)\n",
    "print_results(trackers, dataset, dataset_name, merge_results=False, plot_types=('success', 'prec', 'norm_prec'),force_evaluation=False)"
   ]
  },
  {
   "cell_type": "code",
   "execution_count": null,
   "metadata": {},
   "outputs": [],
   "source": [
    "# 8ms\n",
    "trackers = []\n",
    "trackers.extend(trackerlist(name='atom', parameter_name='default',\n",
    "                            run_ids=0, display_name='atom'))\n",
    "trackers.extend(trackerlist(name='dimp', parameter_name='dimp18', \n",
    "                            run_ids=0, display_name='dimp18'))\n",
    "trackers.extend(trackerlist(name='dimp', parameter_name='prdimp18', \n",
    "                            run_ids=0, display_name='prdimp18'))\n",
    "trackers.extend(trackerlist(name='kys', parameter_name='default', \n",
    "                            run_ids=0, display_name='kys'))\n",
    "trackers.extend(trackerlist(name='rts', parameter_name='rts50', \n",
    "                            run_ids=0, display_name='rts50'))\n",
    "trackers.extend(trackerlist(name='keep_track', parameter_name='default', \n",
    "                            run_ids=0, display_name='keep_track'))\n",
    "# trackers.extend(trackerlist(name='atom', parameter_name='esot500',\n",
    "#                             run_ids=0, display_name='atom'))\n",
    "dataset_name = ('esot_500_8')\n",
    "dataset = get_dataset(dataset_name)\n",
    "print_results(trackers, dataset, dataset_name, merge_results=False, plot_types=('success', 'prec', 'norm_prec'),force_evaluation=False)\n",
    "dataset_name = ('esot_250_8')\n",
    "dataset = get_dataset(dataset_name)\n",
    "print_results(trackers, dataset, dataset_name, merge_results=False, plot_types=('success', 'prec', 'norm_prec'),force_evaluation=False)\n",
    "dataset_name = ('esot_20_8')\n",
    "dataset = get_dataset(dataset_name)\n",
    "print_results(trackers, dataset, dataset_name, merge_results=False, plot_types=('success', 'prec', 'norm_prec'),force_evaluation=False)"
   ]
  },
  {
   "cell_type": "code",
   "execution_count": null,
   "metadata": {},
   "outputs": [],
   "source": [
    "# 20ms \n",
    "trackers = []\n",
    "trackers.extend(trackerlist(name='atom', parameter_name='default',\n",
    "                            run_ids=0, display_name='atom'))\n",
    "trackers.extend(trackerlist(name='dimp', parameter_name='dimp18', \n",
    "                            run_ids=0, display_name='dimp18'))\n",
    "trackers.extend(trackerlist(name='dimp', parameter_name='prdimp18', \n",
    "                            run_ids=0, display_name='prdimp18'))\n",
    "trackers.extend(trackerlist(name='kys', parameter_name='default', \n",
    "                            run_ids=0, display_name='kys'))\n",
    "trackers.extend(trackerlist(name='rts', parameter_name='rts50', \n",
    "                            run_ids=0, display_name='rts50'))\n",
    "trackers.extend(trackerlist(name='keep_track', parameter_name='default', \n",
    "                            run_ids=0, display_name='keep_track'))\n",
    "# trackers.extend(trackerlist(name='atom', parameter_name='esot500',\n",
    "#                             run_ids=0, display_name='atom'))\n",
    "dataset_name = ('esot_500_20')\n",
    "dataset = get_dataset(dataset_name)\n",
    "print_results(trackers, dataset, dataset_name, merge_results=False, plot_types=('success', 'prec', 'norm_prec'),force_evaluation=False)\n",
    "dataset_name = ('esot_250_20')\n",
    "dataset = get_dataset(dataset_name)\n",
    "print_results(trackers, dataset, dataset_name, merge_results=False, plot_types=('success', 'prec', 'norm_prec'),force_evaluation=False)\n",
    "dataset_name = ('esot_20_20')\n",
    "dataset = get_dataset(dataset_name)\n",
    "print_results(trackers, dataset, dataset_name, merge_results=False, plot_types=('success', 'prec', 'norm_prec'),force_evaluation=False)"
   ]
  },
  {
   "cell_type": "code",
   "execution_count": null,
   "metadata": {},
   "outputs": [],
   "source": [
    "# 20 FPS \n",
    "trackers = []\n",
    "trackers.extend(trackerlist(name='atom', parameter_name='default',\n",
    "                            run_ids=0, display_name='atom'))\n",
    "trackers.extend(trackerlist(name='dimp', parameter_name='dimp18', \n",
    "                            run_ids=0, display_name='dimp18'))\n",
    "trackers.extend(trackerlist(name='dimp', parameter_name='prdimp18', \n",
    "                            run_ids=0, display_name='prdimp18'))\n",
    "trackers.extend(trackerlist(name='kys', parameter_name='default', \n",
    "                            run_ids=0, display_name='kys'))\n",
    "trackers.extend(trackerlist(name='rts', parameter_name='rts50', \n",
    "                            run_ids=0, display_name='rts50'))\n",
    "trackers.extend(trackerlist(name='keep_track', parameter_name='default', \n",
    "                            run_ids=0, display_name='keep_track'))\n",
    "# trackers.extend(trackerlist(name='atom', parameter_name='esot500',\n",
    "#                             run_ids=0, display_name='atom'))\n",
    "dataset_name = ('esot_20_2')\n",
    "dataset = get_dataset(dataset_name)\n",
    "print_results(trackers, dataset, dataset_name, merge_results=False, plot_types=('success', 'prec', 'norm_prec'),force_evaluation=False)\n",
    "dataset_name = ('esot_20_8')\n",
    "dataset = get_dataset(dataset_name)\n",
    "print_results(trackers, dataset, dataset_name, merge_results=False, plot_types=('success', 'prec', 'norm_prec'),force_evaluation=False)\n",
    "dataset_name = ('esot_20_20')\n",
    "dataset = get_dataset(dataset_name)\n",
    "print_results(trackers, dataset, dataset_name, merge_results=False, plot_types=('success', 'prec', 'norm_prec'),force_evaluation=False)"
   ]
  },
  {
   "cell_type": "code",
   "execution_count": null,
   "metadata": {},
   "outputs": [],
   "source": [
    "# FE re-train\n",
    "# 8 ms, 2ms\n",
    "# 20 ms ongoing\n",
    "trackers = []\n",
    "trackers.extend(trackerlist(name='atom', parameter_name='fe240',\n",
    "                            run_ids=range(3), display_name='atom_fe'))\n",
    "trackers.extend(trackerlist(name='dimp', parameter_name='dimp18_fe240', \n",
    "                            run_ids=range(3), display_name='dimp18_fe'))\n",
    "trackers.extend(trackerlist(name='dimp', parameter_name='prdimp18_fe240', \n",
    "                            run_ids=range(3), display_name='prdimp18_fe'))\n",
    "trackers.extend(trackerlist(name='kys', parameter_name='fe240', \n",
    "                            run_ids=range(3), display_name='kys_fe'))\n",
    "# trackers.extend(trackerlist(name='tomp', parameter_name='tomp_fe240', \n",
    "#                             run_ids=0, display_name='tomp_fe'))\n",
    "# trackers.extend(trackerlist(name='atom', parameter_name='esot500',\n",
    "#                             run_ids=0, display_name='atom'))\n",
    "dataset_name = ('esot_500_8')\n",
    "dataset = get_dataset(dataset_name)\n",
    "print_results(trackers, dataset, dataset_name, merge_results=True, plot_types=('success', 'prec', 'norm_prec'),force_evaluation=False)\n",
    "dataset_name = ('esot_250_8')\n",
    "dataset = get_dataset(dataset_name)\n",
    "print_results(trackers, dataset, dataset_name, merge_results=True, plot_types=('success', 'prec', 'norm_prec'),force_evaluation=False)\n",
    "dataset_name = ('esot_20_8')\n",
    "dataset = get_dataset(dataset_name)\n",
    "print_results(trackers, dataset, dataset_name, merge_results=True, plot_types=('success', 'prec', 'norm_prec'),force_evaluation=False)\n",
    "dataset_name = ('esot_500_2')\n",
    "dataset = get_dataset(dataset_name)\n",
    "print_results(trackers, dataset, dataset_name, merge_results=True, plot_types=('success', 'prec', 'norm_prec'),force_evaluation=False)\n",
    "dataset_name = ('esot_250_2')\n",
    "dataset = get_dataset(dataset_name)\n",
    "print_results(trackers, dataset, dataset_name, merge_results=True, plot_types=('success', 'prec', 'norm_prec'),force_evaluation=False)\n",
    "dataset_name = ('esot_20_2')\n",
    "dataset = get_dataset(dataset_name)\n",
    "print_results(trackers, dataset, dataset_name, merge_results=True, plot_types=('success', 'prec', 'norm_prec'),force_evaluation=False)"
   ]
  },
  {
   "attachments": {},
   "cell_type": "markdown",
   "metadata": {},
   "source": [
    "### ESOT2\n"
   ]
  },
  {
   "cell_type": "code",
   "execution_count": null,
   "metadata": {},
   "outputs": [],
   "source": [
    "# Awaiting results\n",
    "trackers = []\n",
    "trackers.extend(trackerlist(name='atom', parameter_name='default',\n",
    "                            run_ids=0, display_name='atom'))\n",
    "trackers.extend(trackerlist(name='dimp', parameter_name='dimp18', \n",
    "                            run_ids=0, display_name='dimp18'))\n",
    "trackers.extend(trackerlist(name='dimp', parameter_name='prdimp18', \n",
    "                            run_ids=0, display_name='prdimp18'))\n",
    "trackers.extend(trackerlist(name='kys', parameter_name='default', \n",
    "                            run_ids=0, display_name='kys'))\n",
    "trackers.extend(trackerlist(name='rts', parameter_name='rts50', \n",
    "                            run_ids=0, display_name='rts50'))\n",
    "trackers.extend(trackerlist(name='keep_track', parameter_name='default', \n",
    "                            run_ids=0, display_name='keep_track'))\n",
    "# trackers.extend(trackerlist(name='atom', parameter_name='esot500',\n",
    "#                             run_ids=0, display_name='atom'))\n",
    "dataset_name = ('esot2_default')\n",
    "dataset = get_dataset(dataset_name)\n",
    "print_results(trackers, dataset, dataset_name, merge_results=False, plot_types=('success', 'prec', 'norm_prec'),force_evaluation=True, exclude_invalid_frames=True)\n",
    "dataset_name = ('esot2_2_20')\n",
    "dataset = get_dataset(dataset_name)\n",
    "print_results(trackers, dataset, dataset_name, merge_results=False, plot_types=('success', 'prec', 'norm_prec'),force_evaluation=True, exclude_invalid_frames=True)\n",
    "dataset_name = ('esot2_5_20')\n",
    "dataset = get_dataset(dataset_name)\n",
    "print_results(trackers, dataset, dataset_name, merge_results=False, plot_types=('success', 'prec', 'norm_prec'),force_evaluation=True, exclude_invalid_frames=True)\n",
    "dataset_name = ('esot2_10_20')\n",
    "dataset = get_dataset(dataset_name)\n",
    "print_results(trackers, dataset, dataset_name, merge_results=False, plot_types=('success', 'prec', 'norm_prec'),force_evaluation=True, exclude_invalid_frames=True)"
   ]
  },
  {
   "cell_type": "code",
   "execution_count": null,
   "metadata": {},
   "outputs": [],
   "source": [
    "import os\n",
    "os.path.exists('/home/test4/code/EventBenchmark/lib/pytracking/pytracking/tracking_results_rt_final/atom/default_000/airplane5.txt')\n",
    "import numpy as np\n",
    "txt = np.loadtxt('/home/test4/code/EventBenchmark/lib/pytracking/pytracking/tracking_results_rt_final/atom/default_000/airplane5.txt')"
   ]
  },
  {
   "cell_type": "code",
   "execution_count": null,
   "metadata": {},
   "outputs": [],
   "source": [
    "dataset_name = 'fe240'\n",
    "trackers = []\n",
    "trackers.extend(trackerlist(name='atom', parameter_name='default',\n",
    "                            run_ids=0, display_name='atom'))\n",
    "trackers.extend(trackerlist(name='dimp', parameter_name='dimp18', \n",
    "                            run_ids=0, display_name='dimp18'))\n",
    "trackers.extend(trackerlist(name='dimp', parameter_name='prdimp18', \n",
    "                            run_ids=0, display_name='prdimp18'))\n",
    "trackers.extend(trackerlist(name='kys', parameter_name='default', \n",
    "                            run_ids=0, display_name='kys'))\n",
    "trackers.extend(trackerlist(name='rts', parameter_name='rts50', \n",
    "                            run_ids=0, display_name='rts50'))\n",
    "trackers.extend(trackerlist(name='keep_track', parameter_name='default', \n",
    "                            run_ids=0, display_name='keep_track'))\n",
    "dataset = get_dataset(dataset_name)\n",
    "print_results(trackers, dataset, dataset_name, merge_results=True, plot_types=('success', 'prec', 'norm_prec'))"
   ]
  }
 ],
 "metadata": {
  "kernelspec": {
   "display_name": "ebench",
   "language": "python",
   "name": "python3"
  },
  "language_info": {
   "codemirror_mode": {
    "name": "ipython",
    "version": 3
   },
   "file_extension": ".py",
   "mimetype": "text/x-python",
   "name": "python",
   "nbconvert_exporter": "python",
   "pygments_lexer": "ipython3",
   "version": "3.8.13"
  },
  "orig_nbformat": 4,
  "vscode": {
   "interpreter": {
    "hash": "17f5b4477bd794ec570b380a01920209adc96d3aecac4e031f99f3d2b867f343"
   }
  }
 },
 "nbformat": 4,
 "nbformat_minor": 2
}
