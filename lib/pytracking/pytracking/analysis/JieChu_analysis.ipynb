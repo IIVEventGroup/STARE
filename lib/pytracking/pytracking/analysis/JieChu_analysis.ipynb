{
 "cells": [
  {
   "cell_type": "code",
   "execution_count": 2,
   "metadata": {},
   "outputs": [
    {
     "name": "stderr",
     "output_type": "stream",
     "text": [
      "/usr/local/anaconda3/envs/ebench/lib/python3.8/site-packages/tqdm/auto.py:22: TqdmWarning: IProgress not found. Please update jupyter and ipywidgets. See https://ipywidgets.readthedocs.io/en/stable/user_install.html\n",
      "  from .autonotebook import tqdm as notebook_tqdm\n"
     ]
    }
   ],
   "source": [
    "%load_ext autoreload\n",
    "%autoreload 2\n",
    "%matplotlib inline\n",
    "import os\n",
    "import sys\n",
    "import matplotlib.pyplot as plt\n",
    "plt.rcParams['figure.figsize'] = [14, 8]\n",
    "\n",
    "sys.path.append('/home/test4/code/EventBenchmark/lib/pytracking')\n",
    "from pytracking.analysis.plot_results import plot_results, print_results, print_per_sequence_results, plot_results_mod\n",
    "from pytracking.evaluation import get_dataset, trackerlist"
   ]
  },
  {
   "cell_type": "code",
   "execution_count": 4,
   "metadata": {},
   "outputs": [
    {
     "name": "stderr",
     "output_type": "stream",
     "text": [
      "100%|██████████| 32/32 [00:01<00:00, 20.17it/s]"
     ]
    },
    {
     "name": "stdout",
     "output_type": "stream",
     "text": [
      "\n",
      "\n",
      "Computed results over 32 / 32 sequences\n",
      "\n",
      "Reporting results over 32 / 32 sequences\n",
      "\n",
      "esot500s                   | AUC        | OP50       | OP75       | Precision    | Norm Precision    |\n",
      "JieChu_dimp50_esot500      | 23.68      | 17.13      | 2.47       | 22.19        | 20.02             |\n",
      "JieChu_tomp50_esot500      | 44.58      | 49.83      | 16.52      | 53.08        | 45.70             |\n",
      "\n"
     ]
    },
    {
     "name": "stderr",
     "output_type": "stream",
     "text": [
      "\n"
     ]
    }
   ],
   "source": [
    "trackers = []\n",
    "trackers.extend(trackerlist(name='dimp', parameter_name='JieChu_dimp50_esot500',\n",
    "                            run_ids=None, display_name='JieChu_dimp50_esot500'))\n",
    "trackers.extend(trackerlist(name='tomp', parameter_name='JieChu_tomp50_esot500',\n",
    "                            run_ids=None, display_name='JieChu_tomp50_esot500'))\n",
    "\n",
    "stream_setting_id = 15\n",
    "dataset_name = 'esot500s'\n",
    "dataset = get_dataset(dataset_name)\n",
    "print_results(trackers, dataset, dataset_name, merge_results=False, plot_types=('success', 'prec', 'norm_prec'),force_evaluation=True, stream_id=stream_setting_id)"
   ]
  },
  {
   "cell_type": "code",
   "execution_count": null,
   "metadata": {},
   "outputs": [],
   "source": [
    "trackers = []\n",
    "trackers.extend(trackerlist(name='dimp50', parameter_name='JieChu_dimp50_esot500',\n",
    "                            run_ids=None, display_name='JieChu_dimp50_esot500'))\n",
    "trackers.extend(trackerlist(name='tomp50', parameter_name='JieChu_tomp50_esot500',\n",
    "                            run_ids=None, display_name='JieChu_tomp50_esot500'))\n",
    "\n",
    "stream_setting_id = 31\n",
    "dataset_name = 'esot500s'\n",
    "dataset = get_dataset(dataset_name)\n",
    "print_results(trackers, dataset, dataset_name, merge_results=False, plot_types=('success', 'prec', 'norm_prec'),force_evaluation=True, stream_id=stream_setting_id)"
   ]
  },
  {
   "cell_type": "code",
   "execution_count": 3,
   "metadata": {},
   "outputs": [
    {
     "name": "stdout",
     "output_type": "stream",
     "text": [
      "Using subset:20 fps , 8 ms window for testing\n"
     ]
    },
    {
     "name": "stderr",
     "output_type": "stream",
     "text": [
      "100%|██████████| 32/32 [00:00<00:00, 115.10it/s]\n"
     ]
    },
    {
     "name": "stdout",
     "output_type": "stream",
     "text": [
      "\n",
      "\n",
      "Computed results over 32 / 32 sequences\n",
      "\n",
      "Reporting results over 32 / 32 sequences\n",
      "\n",
      "esot_20_8                   | AUC        | OP50       | OP75       | Precision    | Norm Precision    |\n",
      "atom_esot500                | 21.23      | 16.54      | 2.54       | 29.93        | 25.13             |\n",
      "dimp18_esot500              | 47.43      | 53.54      | 19.58      | 64.00        | 57.77             |\n",
      "prdimp18_esot500            | 28.38      | 28.97      | 10.66      | 33.44        | 31.94             |\n",
      "kys_esot500                 | 58.95      | 70.32      | 39.99      | 76.06        | 70.42             |\n",
      "JieChu_tomp50_esot500       | 54.24      | 64.73      | 34.08      | 69.46        | 63.77             |\n",
      "prdimp50                    | 53.29      | 60.36      | 33.95      | 66.84        | 61.13             |\n",
      "tomp101                     | 55.67      | 65.01      | 37.44      | 69.44        | 63.47             |\n",
      "JieChu_tomp101_esot500      | 49.56      | 56.97      | 30.29      | 62.87        | 58.82             |\n",
      "\n"
     ]
    }
   ],
   "source": [
    "# 8ms\n",
    "trackers = []\n",
    "trackers.extend(trackerlist(name='atom', parameter_name='esot500',\n",
    "                            display_name='atom_esot500'))\n",
    "trackers.extend(trackerlist(name='dimp', parameter_name='dimp18_esot500', \n",
    "                            display_name='dimp18_esot500'))\n",
    "trackers.extend(trackerlist(name='dimp', parameter_name='prdimp18_esot500', \n",
    "                            display_name='prdimp18_esot500'))\n",
    "trackers.extend(trackerlist(name='kys', parameter_name='esot500', \n",
    "                            display_name='kys_esot500'))\n",
    "trackers.extend(trackerlist(name='tomp', parameter_name='JieChu_tomp50_esot500', \n",
    "                            display_name='JieChu_tomp50_esot500'))\n",
    "trackers.extend(trackerlist(name='dimp', parameter_name='prdimp50', \n",
    "                            display_name='prdimp50'))\n",
    "trackers.extend(trackerlist(name='tomp', parameter_name='tomp101', \n",
    "                            display_name='tomp101'))\n",
    "trackers.extend(trackerlist(name='tomp', parameter_name='JieChu_tomp101_esot500', \n",
    "                            display_name='JieChu_tomp101_esot500'))\n",
    "\n",
    "dataset_name = ('esot_20_8')\n",
    "dataset = get_dataset(dataset_name)\n",
    "print_results(trackers, dataset, dataset_name, merge_results=False, plot_types=('success', 'prec', 'norm_prec'),force_evaluation=False)"
   ]
  }
 ],
 "metadata": {
  "kernelspec": {
   "display_name": "ebench",
   "language": "python",
   "name": "python3"
  },
  "language_info": {
   "codemirror_mode": {
    "name": "ipython",
    "version": 3
   },
   "file_extension": ".py",
   "mimetype": "text/x-python",
   "name": "python",
   "nbconvert_exporter": "python",
   "pygments_lexer": "ipython3",
   "version": "3.8.13"
  }
 },
 "nbformat": 4,
 "nbformat_minor": 2
}
