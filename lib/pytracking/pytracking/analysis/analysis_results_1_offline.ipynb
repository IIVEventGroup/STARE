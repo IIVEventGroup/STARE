{
 "cells": [
  {
   "cell_type": "code",
   "execution_count": 2,
   "metadata": {},
   "outputs": [
    {
     "name": "stderr",
     "output_type": "stream",
     "text": [
      "/usr/local/anaconda3/envs/ebench/lib/python3.8/site-packages/tqdm/auto.py:22: TqdmWarning: IProgress not found. Please update jupyter and ipywidgets. See https://ipywidgets.readthedocs.io/en/stable/user_install.html\n",
      "  from .autonotebook import tqdm as notebook_tqdm\n"
     ]
    }
   ],
   "source": [
    "%load_ext autoreload\n",
    "%autoreload 2\n",
    "%matplotlib inline\n",
    "import os\n",
    "import sys\n",
    "import matplotlib.pyplot as plt\n",
    "plt.rcParams['figure.figsize'] = [14, 8]\n",
    "\n",
    "sys.path.append('/home/test4/code/EventBenchmark/lib/pytracking')\n",
    "from pytracking.analysis.plot_results import plot_results, print_results, print_per_sequence_results\n",
    "from pytracking.evaluation import get_dataset, trackerlist"
   ]
  },
  {
   "cell_type": "code",
   "execution_count": null,
   "metadata": {},
   "outputs": [],
   "source": [
    "dataset_name = 'esot500'\n",
    "trackers = []\n",
    "trackers.extend(trackerlist(name='atom', parameter_name='default',\n",
    "                            run_ids=0, display_name='atom'))\n",
    "trackers.extend(trackerlist(name='dimp', parameter_name='dimp18', \n",
    "                            run_ids=0, display_name='dimp18'))\n",
    "trackers.extend(trackerlist(name='dimp', parameter_name='prdimp18', \n",
    "                            run_ids=0, display_name='prdimp18'))\n",
    "trackers.extend(trackerlist(name='kys', parameter_name='default', \n",
    "                            run_ids=0, display_name='kys'))\n",
    "trackers.extend(trackerlist(name='rts', parameter_name='rts50', \n",
    "                            run_ids=0, display_name='rts50'))\n",
    "trackers.extend(trackerlist(name='keep_track', parameter_name='default', \n",
    "                            run_ids=0, display_name='keep_track'))\n",
    "# trackers.extend(trackerlist(name='atom', parameter_name='esot500',\n",
    "#                             run_ids=0, display_name='atom'))\n",
    "dataset = get_dataset(dataset_name)\n",
    "print_results(trackers, dataset, dataset_name, merge_results=False, plot_types=('success', 'prec', 'norm_prec'),force_evaluation=True)"
   ]
  },
  {
   "cell_type": "code",
   "execution_count": null,
   "metadata": {},
   "outputs": [],
   "source": [
    "# Realtime\n",
    "# Mind that result_path is changed in local.py !!!\n",
    "dataset_name = 'esot500'\n",
    "trackers = []\n",
    "trackers.extend(trackerlist(name='atom', parameter_name='default',\n",
    "                            run_ids=0, display_name='atom'))\n",
    "trackers.extend(trackerlist(name='dimp', parameter_name='dimp18', \n",
    "                            run_ids=0, display_name='dimp18'))\n",
    "trackers.extend(trackerlist(name='dimp', parameter_name='prdimp18', \n",
    "                            run_ids=0, display_name='prdimp18'))\n",
    "trackers.extend(trackerlist(name='kys', parameter_name='default', \n",
    "                            run_ids=0, display_name='kys'))\n",
    "trackers.extend(trackerlist(name='rts', parameter_name='rts50', \n",
    "                            run_ids=0, display_name='rts50'))\n",
    "trackers.extend(trackerlist(name='keep_track', parameter_name='default', \n",
    "                            run_ids=0, display_name='keep_track'))\n",
    "# trackers.extend(trackerlist(name='atom', parameter_name='esot500',\n",
    "#                             run_ids=0, display_name='atom'))\n",
    "dataset = get_dataset(dataset_name)\n",
    "print_results(trackers, dataset, dataset_name, merge_results=True, plot_types=('success', 'prec', 'norm_prec'),force_evaluation=True)"
   ]
  },
  {
   "cell_type": "code",
   "execution_count": null,
   "metadata": {},
   "outputs": [],
   "source": [
    "# Realtime postKF forecaste results\n",
    "# Mind that result_path is changed in local.py !!!\n",
    "dataset_name = 'esot500'\n",
    "trackers = []\n",
    "# trackers.extend(trackerlist(name='atom', parameter_name='default',\n",
    "#                             run_ids=0, display_name='atom'))\n",
    "# trackers.extend(trackerlist(name='dimp', parameter_name='dimp18', \n",
    "#                             run_ids=0, display_name='dimp18'))\n",
    "# trackers.extend(trackerlist(name='dimp', parameter_name='prdimp18', \n",
    "#                             run_ids=0, display_name='prdimp18'))\n",
    "# trackers.extend(trackerlist(name='kys', parameter_name='default', \n",
    "#                             run_ids=0, display_name='kys'))\n",
    "# trackers.extend(trackerlist(name='rts', parameter_name='rts50', \n",
    "#                             run_ids=0, display_name='rts50'))\n",
    "trackers.extend(trackerlist(name='keep_track', parameter_name='default', \n",
    "                            run_ids=0, display_name='keep_track'))\n",
    "# trackers.extend(trackerlist(name='atom', parameter_name='esot500',\n",
    "#                             run_ids=0, display_name='atom'))\n",
    "dataset = get_dataset(dataset_name)\n",
    "print_results(trackers, dataset, dataset_name, merge_results=False, plot_types=('success', 'prec', 'norm_prec'),force_evaluation=True)"
   ]
  },
  {
   "cell_type": "code",
   "execution_count": null,
   "metadata": {},
   "outputs": [],
   "source": [
    "\n",
    "dataset_name = 'esoth'\n",
    "trackers = []\n",
    "trackers.extend(trackerlist(name='atom', parameter_name='default',\n",
    "                            run_ids=99, display_name='atom'))\n",
    "trackers.extend(trackerlist(name='dimp', parameter_name='dimp18', \n",
    "                            run_ids=99, display_name='dimp18'))\n",
    "trackers.extend(trackerlist(name='dimp', parameter_name='prdimp18', \n",
    "                            run_ids=99, display_name='prdimp18'))\n",
    "trackers.extend(trackerlist(name='kys', parameter_name='default', \n",
    "                            run_ids=99, display_name='kys'))\n",
    "trackers.extend(trackerlist(name='rts', parameter_name='rts50', \n",
    "                            run_ids=99, display_name='rts50'))\n",
    "trackers.extend(trackerlist(name='keep_track', parameter_name='default', \n",
    "                            run_ids=99, display_name='keep_track'))\n",
    "# trackers.extend(trackerlist(name='atom', parameter_name='esot500',\n",
    "#                             run_ids=0, display_name='atom'))\n",
    "dataset = get_dataset(dataset_name)\n",
    "print_results(trackers, dataset, dataset_name, merge_results=False, plot_types=('success', 'prec', 'norm_prec'),force_evaluation=True)"
   ]
  },
  {
   "cell_type": "code",
   "execution_count": null,
   "metadata": {},
   "outputs": [],
   "source": [
    "\n",
    "dataset_name = 'esotm'\n",
    "trackers = []\n",
    "trackers.extend(trackerlist(name='atom', parameter_name='default',\n",
    "                            run_ids=66, display_name='atom'))\n",
    "trackers.extend(trackerlist(name='dimp', parameter_name='dimp18', \n",
    "                            run_ids=66, display_name='dimp18'))\n",
    "trackers.extend(trackerlist(name='dimp', parameter_name='prdimp18', \n",
    "                            run_ids=66, display_name='prdimp18'))\n",
    "trackers.extend(trackerlist(name='kys', parameter_name='default', \n",
    "                            run_ids=66, display_name='kys'))\n",
    "trackers.extend(trackerlist(name='rts', parameter_name='rts50', \n",
    "                            run_ids=66, display_name='rts50'))\n",
    "trackers.extend(trackerlist(name='keep_track', parameter_name='default', \n",
    "                            run_ids=66, display_name='keep_track'))\n",
    "# trackers.extend(trackerlist(name='atom', parameter_name='esot500',\n",
    "#                             run_ids=0, display_name='atom'))\n",
    "dataset = get_dataset(dataset_name)\n",
    "print_results(trackers, dataset, dataset_name, merge_results=False, plot_types=('success', 'prec', 'norm_prec'),force_evaluation=True)"
   ]
  },
  {
   "cell_type": "code",
   "execution_count": null,
   "metadata": {},
   "outputs": [],
   "source": [
    "\n",
    "dataset_name = 'esotl'\n",
    "trackers = []\n",
    "trackers.extend(trackerlist(name='atom', parameter_name='default',\n",
    "                            run_ids=33, display_name='atom'))\n",
    "trackers.extend(trackerlist(name='dimp', parameter_name='dimp18', \n",
    "                            run_ids=33, display_name='dimp18'))\n",
    "trackers.extend(trackerlist(name='dimp', parameter_name='prdimp18', \n",
    "                            run_ids=33, display_name='prdimp18'))\n",
    "trackers.extend(trackerlist(name='kys', parameter_name='default', \n",
    "                            run_ids=33, display_name='kys'))\n",
    "trackers.extend(trackerlist(name='rts', parameter_name='rts50', \n",
    "                            run_ids=33, display_name='rts50'))\n",
    "trackers.extend(trackerlist(name='keep_track', parameter_name='default', \n",
    "                            run_ids=33, display_name='keep_track'))\n",
    "# trackers.extend(trackerlist(name='atom', parameter_name='esot500',\n",
    "#                             run_ids=0, display_name='atom'))\n",
    "dataset = get_dataset(dataset_name)\n",
    "print_results(trackers, dataset, dataset_name, merge_results=False, plot_types=('success', 'prec', 'norm_prec'),force_evaluation=True)"
   ]
  },
  {
   "attachments": {},
   "cell_type": "markdown",
   "metadata": {},
   "source": [
    "### FPS"
   ]
  },
  {
   "cell_type": "code",
   "execution_count": 4,
   "metadata": {},
   "outputs": [
    {
     "name": "stdout",
     "output_type": "stream",
     "text": [
      "Using subset:500 fps , 2 ms window for testing\n"
     ]
    },
    {
     "name": "stderr",
     "output_type": "stream",
     "text": [
      "100%|██████████| 32/32 [00:08<00:00,  3.73it/s]\n"
     ]
    },
    {
     "name": "stdout",
     "output_type": "stream",
     "text": [
      "\n",
      "\n",
      "Computed results over 32 / 32 sequences\n",
      "\n",
      "Reporting results over 32 / 32 sequences\n",
      "\n",
      "esot_500_2        | AUC        | OP50       | OP75       | Precision    | Norm Precision    |\n",
      "atom              | 35.84      | 39.43      | 22.68      | 43.62        | 41.19             |\n",
      "atom_fe240        | 39.03      | 44.77      | 20.54      | 48.24        | 44.56             |\n",
      "dimp18            | 45.07      | 50.60      | 26.22      | 56.87        | 50.93             |\n",
      "dimp18_fe240      | 23.97      | 21.25      | 5.56       | 20.83        | 19.23             |\n",
      "prdimp18          | 37.24      | 41.71      | 23.21      | 46.40        | 43.69             |\n",
      "dimp50            | 45.61      | 50.19      | 26.89      | 59.08        | 53.38             |\n",
      "kys               | 46.30      | 52.37      | 27.62      | 58.95        | 53.83             |\n",
      "kys_fe240         | 46.74      | 51.57      | 27.89      | 59.68        | 54.32             |\n",
      "rts50             | 40.38      | 44.40      | 21.79      | 50.41        | 43.96             |\n",
      "keep_track        | 47.05      | 53.39      | 26.32      | 59.05        | 53.45             |\n",
      "tomp50            | 47.48      | 53.98      | 23.40      | 57.71        | 51.38             |\n",
      "\n",
      "Using subset:250 fps , 2 ms window for testing\n"
     ]
    },
    {
     "name": "stderr",
     "output_type": "stream",
     "text": [
      "100%|██████████| 32/32 [00:04<00:00,  7.05it/s]\n"
     ]
    },
    {
     "name": "stdout",
     "output_type": "stream",
     "text": [
      "\n",
      "\n",
      "Computed results over 32 / 32 sequences\n",
      "\n",
      "Reporting results over 32 / 32 sequences\n",
      "\n",
      "esot_250_2        | AUC        | OP50       | OP75       | Precision    | Norm Precision    |\n",
      "atom              | 36.55      | 41.66      | 22.79      | 45.55        | 42.95             |\n",
      "atom_fe240        | 40.86      | 46.25      | 20.09      | 50.58        | 46.81             |\n",
      "dimp18            | 47.00      | 53.45      | 27.34      | 59.78        | 55.29             |\n",
      "dimp18_fe240      | 23.80      | 20.87      | 5.45       | 20.42        | 18.86             |\n",
      "prdimp18          | 38.60      | 42.75      | 22.98      | 48.09        | 44.70             |\n",
      "dimp50            | 47.30      | 52.69      | 29.17      | 58.96        | 54.98             |\n",
      "kys               | 48.22      | 53.86      | 28.59      | 61.57        | 56.09             |\n",
      "kys_fe240         | 49.78      | 55.38      | 30.17      | 63.54        | 58.16             |\n",
      "rts50             | 41.13      | 44.72      | 23.46      | 50.44        | 44.61             |\n",
      "keep_track        | 48.50      | 55.93      | 27.34      | 60.55        | 55.39             |\n",
      "tomp50            | 47.62      | 54.04      | 23.87      | 57.77        | 51.30             |\n",
      "\n",
      "Using subset:20 fps , 2 ms window for testing\n"
     ]
    },
    {
     "name": "stderr",
     "output_type": "stream",
     "text": [
      "100%|██████████| 32/32 [00:00<00:00, 64.69it/s]"
     ]
    },
    {
     "name": "stdout",
     "output_type": "stream",
     "text": [
      "\n",
      "\n",
      "Computed results over 32 / 32 sequences\n",
      "\n",
      "Reporting results over 32 / 32 sequences\n",
      "\n",
      "esot_20_2         | AUC        | OP50       | OP75       | Precision    | Norm Precision    |\n",
      "atom              | 42.26      | 47.37      | 24.70      | 52.80        | 47.84             |\n",
      "atom_fe240        | 42.03      | 48.34      | 20.90      | 52.26        | 47.45             |\n",
      "dimp18            | 48.19      | 56.04      | 27.65      | 61.29        | 56.15             |\n",
      "dimp18_fe240      | 23.86      | 20.82      | 5.41       | 20.14        | 18.43             |\n",
      "prdimp18          | 42.28      | 45.61      | 25.52      | 50.56        | 47.01             |\n",
      "dimp50            | 50.61      | 56.62      | 30.39      | 63.87        | 58.35             |\n",
      "kys               | 50.21      | 55.14      | 29.24      | 64.04        | 56.68             |\n",
      "kys_fe240         | 49.50      | 55.74      | 30.09      | 61.32        | 56.44             |\n",
      "rts50             | 43.44      | 47.02      | 24.83      | 50.79        | 45.22             |\n",
      "keep_track        | 45.22      | 49.76      | 25.31      | 55.66        | 50.19             |\n",
      "tomp50            | 47.72      | 54.01      | 24.38      | 57.31        | 51.05             |\n",
      "\n"
     ]
    },
    {
     "name": "stderr",
     "output_type": "stream",
     "text": [
      "\n"
     ]
    }
   ],
   "source": [
    "# 2ms\n",
    "dataset_name = ('esot_500_2')\n",
    "trackers = []\n",
    "trackers.extend(trackerlist(name='atom', parameter_name='default',\n",
    "                            run_ids=0, display_name='atom'))\n",
    "trackers.extend(trackerlist(name='atom', parameter_name='fe240',\n",
    "                            run_ids=0, display_name='atom_fe240'))\n",
    "trackers.extend(trackerlist(name='dimp', parameter_name='dimp18', \n",
    "                            run_ids=0, display_name='dimp18'))\n",
    "trackers.extend(trackerlist(name='dimp', parameter_name='dimp18_fe240', \n",
    "                            run_ids=0, display_name='dimp18_fe240'))\n",
    "trackers.extend(trackerlist(name='dimp', parameter_name='prdimp18', \n",
    "                            run_ids=0, display_name='prdimp18'))\n",
    "trackers.extend(trackerlist(name='dimp', parameter_name='dimp50', \n",
    "                            run_ids=0, display_name='dimp50'))\n",
    "trackers.extend(trackerlist(name='kys', parameter_name='default', \n",
    "                            run_ids=0, display_name='kys'))\n",
    "trackers.extend(trackerlist(name='kys', parameter_name='fe240', \n",
    "                            run_ids=0, display_name='kys_fe240'))\n",
    "trackers.extend(trackerlist(name='rts', parameter_name='rts50', \n",
    "                            run_ids=0, display_name='rts50'))\n",
    "trackers.extend(trackerlist(name='keep_track', parameter_name='default', \n",
    "                            run_ids=0, display_name='keep_track'))\n",
    "trackers.extend(trackerlist(name='tomp', parameter_name='tomp50', \n",
    "                            run_ids=0, display_name='tomp50'))\n",
    "\n",
    "\n",
    "dataset = get_dataset(dataset_name)\n",
    "print_results(trackers, dataset, dataset_name, merge_results=False, plot_types=('success', 'prec', 'norm_prec'),force_evaluation=False)\n",
    "dataset_name = ('esot_250_2')\n",
    "dataset = get_dataset(dataset_name)\n",
    "print_results(trackers, dataset, dataset_name, merge_results=False, plot_types=('success', 'prec', 'norm_prec'),force_evaluation=False)\n",
    "dataset_name = ('esot_20_2')\n",
    "dataset = get_dataset(dataset_name)\n",
    "print_results(trackers, dataset, dataset_name, merge_results=False, plot_types=('success', 'prec', 'norm_prec'),force_evaluation=False)"
   ]
  },
  {
   "cell_type": "code",
   "execution_count": 5,
   "metadata": {},
   "outputs": [
    {
     "name": "stdout",
     "output_type": "stream",
     "text": [
      "Using subset:500 fps , 8 ms window for testing\n"
     ]
    },
    {
     "name": "stderr",
     "output_type": "stream",
     "text": [
      "100%|██████████| 32/32 [00:08<00:00,  3.73it/s]\n"
     ]
    },
    {
     "name": "stdout",
     "output_type": "stream",
     "text": [
      "\n",
      "\n",
      "Computed results over 32 / 32 sequences\n",
      "\n",
      "Reporting results over 32 / 32 sequences\n",
      "\n",
      "esot_500_8        | AUC        | OP50       | OP75       | Precision    | Norm Precision    |\n",
      "atom              | 41.35      | 49.10      | 26.61      | 52.65        | 49.74             |\n",
      "atom_fe240        | 47.72      | 56.59      | 24.61      | 60.61        | 54.52             |\n",
      "dimp18            | 54.88      | 63.69      | 34.55      | 70.35        | 64.94             |\n",
      "dimp18_fe240      | 34.12      | 33.57      | 9.53       | 40.65        | 33.20             |\n",
      "prdimp18          | 47.86      | 54.42      | 34.90      | 60.41        | 56.73             |\n",
      "dimp50            | 56.23      | 66.28      | 37.91      | 73.05        | 66.74             |\n",
      "kys               | 53.89      | 62.86      | 36.65      | 68.18        | 63.79             |\n",
      "kys_fe240         | 52.78      | 62.07      | 36.60      | 67.00        | 62.95             |\n",
      "rts50             | 50.74      | 57.22      | 34.09      | 61.30        | 55.20             |\n",
      "keep_track        | 61.14      | 72.65      | 41.44      | 77.46        | 70.77             |\n",
      "tomp50            | 56.20      | 65.39      | 37.10      | 69.35        | 63.06             |\n",
      "\n",
      "Using subset:250 fps , 8 ms window for testing\n"
     ]
    },
    {
     "name": "stderr",
     "output_type": "stream",
     "text": [
      "100%|██████████| 32/32 [00:04<00:00,  7.01it/s]\n"
     ]
    },
    {
     "name": "stdout",
     "output_type": "stream",
     "text": [
      "\n",
      "\n",
      "Computed results over 32 / 32 sequences\n",
      "\n",
      "Reporting results over 32 / 32 sequences\n",
      "\n",
      "esot_250_8        | AUC        | OP50       | OP75       | Precision    | Norm Precision    |\n",
      "atom              | 44.97      | 52.18      | 28.85      | 55.71        | 52.65             |\n",
      "atom_fe240        | 44.98      | 53.02      | 23.42      | 57.11        | 51.75             |\n",
      "dimp18            | 52.64      | 60.58      | 33.32      | 67.31        | 61.76             |\n",
      "dimp18_fe240      | 37.07      | 37.39      | 11.03      | 43.32        | 36.35             |\n",
      "prdimp18          | 50.77      | 58.41      | 36.19      | 64.96        | 60.49             |\n",
      "dimp50            | 56.86      | 67.06      | 38.56      | 73.79        | 67.86             |\n",
      "kys               | 56.16      | 65.58      | 37.89      | 72.43        | 66.73             |\n",
      "kys_fe240         | 58.04      | 68.78      | 38.88      | 74.93        | 69.13             |\n",
      "rts50             | 50.48      | 56.32      | 34.03      | 60.91        | 54.75             |\n",
      "keep_track        | 61.14      | 72.44      | 41.75      | 77.43        | 70.44             |\n",
      "tomp50            | 56.30      | 65.53      | 37.05      | 69.43        | 63.05             |\n",
      "\n",
      "Using subset:20 fps , 8 ms window for testing\n"
     ]
    },
    {
     "name": "stderr",
     "output_type": "stream",
     "text": [
      "100%|██████████| 32/32 [00:00<00:00, 62.85it/s]"
     ]
    },
    {
     "name": "stdout",
     "output_type": "stream",
     "text": [
      "\n",
      "\n",
      "Computed results over 32 / 32 sequences\n",
      "\n",
      "Reporting results over 32 / 32 sequences\n",
      "\n",
      "esot_20_8         | AUC        | OP50       | OP75       | Precision    | Norm Precision    |\n",
      "atom              | 50.59      | 59.11      | 31.64      | 64.87        | 58.12             |\n",
      "atom_fe240        | 47.52      | 56.71      | 26.01      | 61.37        | 55.17             |\n",
      "dimp18            | 57.36      | 67.17      | 36.60      | 73.85        | 67.53             |\n",
      "dimp18_fe240      | 37.52      | 37.33      | 11.13      | 43.38        | 36.21             |\n",
      "prdimp18          | 51.49      | 59.02      | 37.36      | 63.84        | 59.47             |\n",
      "dimp50            | 59.06      | 69.81      | 39.76      | 77.10        | 70.19             |\n",
      "kys               | 59.84      | 71.13      | 40.76      | 78.39        | 72.25             |\n",
      "kys_fe240         | 58.89      | 70.40      | 39.63      | 76.27        | 70.51             |\n",
      "rts50             | 53.86      | 59.86      | 34.12      | 62.98        | 56.28             |\n",
      "keep_track        | 56.60      | 66.30      | 39.34      | 69.19        | 63.03             |\n",
      "tomp50            | 56.97      | 66.07      | 38.37      | 69.32        | 63.40             |\n",
      "\n"
     ]
    },
    {
     "name": "stderr",
     "output_type": "stream",
     "text": [
      "\n"
     ]
    }
   ],
   "source": [
    "# 8ms\n",
    "trackers = []\n",
    "trackers.extend(trackerlist(name='atom', parameter_name='default',\n",
    "                            run_ids=0, display_name='atom'))\n",
    "trackers.extend(trackerlist(name='atom', parameter_name='fe240',\n",
    "                            run_ids=0, display_name='atom_fe240'))\n",
    "trackers.extend(trackerlist(name='dimp', parameter_name='dimp18', \n",
    "                            run_ids=0, display_name='dimp18'))\n",
    "trackers.extend(trackerlist(name='dimp', parameter_name='dimp18_fe240', \n",
    "                            run_ids=0, display_name='dimp18_fe240'))\n",
    "trackers.extend(trackerlist(name='dimp', parameter_name='prdimp18', \n",
    "                            run_ids=0, display_name='prdimp18'))\n",
    "trackers.extend(trackerlist(name='dimp', parameter_name='dimp50', \n",
    "                            run_ids=0, display_name='dimp50'))\n",
    "trackers.extend(trackerlist(name='kys', parameter_name='default', \n",
    "                            run_ids=0, display_name='kys'))\n",
    "trackers.extend(trackerlist(name='kys', parameter_name='fe240', \n",
    "                            run_ids=0, display_name='kys_fe240'))\n",
    "trackers.extend(trackerlist(name='rts', parameter_name='rts50', \n",
    "                            run_ids=0, display_name='rts50'))\n",
    "trackers.extend(trackerlist(name='keep_track', parameter_name='default', \n",
    "                            run_ids=0, display_name='keep_track'))\n",
    "trackers.extend(trackerlist(name='tomp', parameter_name='tomp50', \n",
    "                            run_ids=0, display_name='tomp50'))\n",
    "\n",
    "dataset_name = ('esot_500_8')\n",
    "dataset = get_dataset(dataset_name)\n",
    "print_results(trackers, dataset, dataset_name, merge_results=False, plot_types=('success', 'prec', 'norm_prec'),force_evaluation=False)\n",
    "dataset_name = ('esot_250_8')\n",
    "dataset = get_dataset(dataset_name)\n",
    "print_results(trackers, dataset, dataset_name, merge_results=False, plot_types=('success', 'prec', 'norm_prec'),force_evaluation=False)\n",
    "dataset_name = ('esot_20_8')\n",
    "dataset = get_dataset(dataset_name)\n",
    "print_results(trackers, dataset, dataset_name, merge_results=False, plot_types=('success', 'prec', 'norm_prec'),force_evaluation=False)"
   ]
  },
  {
   "cell_type": "code",
   "execution_count": 6,
   "metadata": {},
   "outputs": [
    {
     "name": "stdout",
     "output_type": "stream",
     "text": [
      "Using subset:500 fps , 20 ms window for testing\n"
     ]
    },
    {
     "name": "stderr",
     "output_type": "stream",
     "text": [
      "100%|██████████| 32/32 [00:08<00:00,  3.70it/s]\n"
     ]
    },
    {
     "name": "stdout",
     "output_type": "stream",
     "text": [
      "\n",
      "\n",
      "Computed results over 32 / 32 sequences\n",
      "\n",
      "Reporting results over 32 / 32 sequences\n",
      "\n",
      "esot_500_20       | AUC        | OP50       | OP75       | Precision    | Norm Precision    |\n",
      "atom              | 40.00      | 47.19      | 23.66      | 51.35        | 47.79             |\n",
      "atom_fe240        | 45.55      | 52.40      | 20.20      | 54.84        | 49.02             |\n",
      "dimp18            | 57.13      | 69.73      | 36.89      | 74.33        | 70.44             |\n",
      "dimp18_fe240      | 42.63      | 43.21      | 11.31      | 50.82        | 42.63             |\n",
      "prdimp18          | 58.27      | 69.05      | 42.25      | 74.87        | 70.57             |\n",
      "dimp50            | 58.63      | 71.18      | 38.86      | 77.59        | 72.92             |\n",
      "kys               | 57.79      | 69.86      | 38.96      | 75.43        | 70.98             |\n",
      "kys_fe240         | 56.51      | 67.54      | 38.30      | 72.87        | 68.52             |\n",
      "rts50             | 52.43      | 58.69      | 32.22      | 62.19        | 56.73             |\n",
      "keep_track        | 65.03      | 79.20      | 45.42      | 86.42        | 80.41             |\n",
      "tomp50            | 63.57      | 77.24      | 45.74      | 79.94        | 74.23             |\n",
      "\n",
      "Using subset:250 fps , 20 ms window for testing\n"
     ]
    },
    {
     "name": "stderr",
     "output_type": "stream",
     "text": [
      "100%|██████████| 32/32 [00:04<00:00,  7.26it/s]\n"
     ]
    },
    {
     "name": "stdout",
     "output_type": "stream",
     "text": [
      "\n",
      "\n",
      "Computed results over 32 / 32 sequences\n",
      "\n",
      "Reporting results over 32 / 32 sequences\n",
      "\n",
      "esot_250_20       | AUC        | OP50       | OP75       | Precision    | Norm Precision    |\n",
      "atom              | 47.85      | 57.03      | 28.46      | 62.48        | 58.16             |\n",
      "atom_fe240        | 50.05      | 59.84      | 21.76      | 64.15        | 56.13             |\n",
      "dimp18            | 58.96      | 71.47      | 37.65      | 77.62        | 72.26             |\n",
      "dimp18_fe240      | 44.33      | 45.96      | 12.03      | 52.81        | 44.99             |\n",
      "prdimp18          | 59.92      | 71.12      | 42.67      | 77.40        | 72.17             |\n",
      "dimp50            | 60.46      | 73.74      | 40.65      | 79.74        | 74.26             |\n",
      "kys               | 60.99      | 74.53      | 41.61      | 80.71        | 75.54             |\n",
      "kys_fe240         | 61.26      | 75.36      | 40.82      | 81.64        | 75.94             |\n",
      "rts50             | 49.45      | 53.93      | 28.99      | 58.99        | 51.48             |\n",
      "keep_track        | 65.37      | 80.28      | 45.93      | 86.37        | 80.77             |\n",
      "tomp50            | 64.16      | 77.99      | 46.18      | 80.89        | 74.75             |\n",
      "\n",
      "Using subset:20 fps , 20 ms window for testing\n"
     ]
    },
    {
     "name": "stderr",
     "output_type": "stream",
     "text": [
      "100%|██████████| 32/32 [00:00<00:00, 63.91it/s]"
     ]
    },
    {
     "name": "stdout",
     "output_type": "stream",
     "text": [
      "\n",
      "\n",
      "Computed results over 32 / 32 sequences\n",
      "\n",
      "Reporting results over 32 / 32 sequences\n",
      "\n",
      "esot_20_20        | AUC        | OP50       | OP75       | Precision    | Norm Precision    |\n",
      "atom              | 54.98      | 66.15      | 33.07      | 71.45        | 65.56             |\n",
      "atom_fe240        | 53.22      | 64.56      | 25.08      | 69.26        | 60.17             |\n",
      "dimp18            | 60.70      | 75.08      | 38.21      | 79.66        | 73.90             |\n",
      "dimp18_fe240      | 41.56      | 43.50      | 13.32      | 50.27        | 44.13             |\n",
      "prdimp18          | 58.78      | 68.58      | 42.78      | 75.02        | 69.49             |\n",
      "dimp50            | 63.65      | 78.29      | 42.85      | 83.80        | 77.06             |\n",
      "kys               | 60.79      | 73.87      | 40.45      | 80.08        | 73.52             |\n",
      "kys_fe240         | 61.27      | 73.80      | 42.53      | 79.25        | 74.68             |\n",
      "rts50             | 50.67      | 56.45      | 31.48      | 58.94        | 52.67             |\n",
      "keep_track        | 62.87      | 76.27      | 46.34      | 80.35        | 74.36             |\n",
      "tomp50            | 63.20      | 76.23      | 46.28      | 79.05        | 73.13             |\n",
      "\n"
     ]
    },
    {
     "name": "stderr",
     "output_type": "stream",
     "text": [
      "\n"
     ]
    }
   ],
   "source": [
    "# 20ms \n",
    "trackers = []\n",
    "trackers.extend(trackerlist(name='atom', parameter_name='default',\n",
    "                            run_ids=0, display_name='atom'))\n",
    "trackers.extend(trackerlist(name='atom', parameter_name='fe240',\n",
    "                            run_ids=0, display_name='atom_fe240'))\n",
    "trackers.extend(trackerlist(name='dimp', parameter_name='dimp18', \n",
    "                            run_ids=0, display_name='dimp18'))\n",
    "trackers.extend(trackerlist(name='dimp', parameter_name='dimp18_fe240', \n",
    "                            run_ids=0, display_name='dimp18_fe240'))\n",
    "trackers.extend(trackerlist(name='dimp', parameter_name='prdimp18', \n",
    "                            run_ids=0, display_name='prdimp18'))\n",
    "trackers.extend(trackerlist(name='dimp', parameter_name='dimp50', \n",
    "                            run_ids=0, display_name='dimp50'))\n",
    "trackers.extend(trackerlist(name='kys', parameter_name='default', \n",
    "                            run_ids=0, display_name='kys'))\n",
    "trackers.extend(trackerlist(name='kys', parameter_name='fe240', \n",
    "                            run_ids=0, display_name='kys_fe240'))\n",
    "trackers.extend(trackerlist(name='rts', parameter_name='rts50', \n",
    "                            run_ids=0, display_name='rts50'))\n",
    "trackers.extend(trackerlist(name='keep_track', parameter_name='default', \n",
    "                            run_ids=0, display_name='keep_track'))\n",
    "trackers.extend(trackerlist(name='tomp', parameter_name='tomp50', \n",
    "                            run_ids=0, display_name='tomp50'))\n",
    "dataset_name = ('esot_500_20')\n",
    "dataset = get_dataset(dataset_name)\n",
    "print_results(trackers, dataset, dataset_name, merge_results=False, plot_types=('success', 'prec', 'norm_prec'),force_evaluation=False)\n",
    "dataset_name = ('esot_250_20')\n",
    "dataset = get_dataset(dataset_name)\n",
    "print_results(trackers, dataset, dataset_name, merge_results=False, plot_types=('success', 'prec', 'norm_prec'),force_evaluation=False)\n",
    "dataset_name = ('esot_20_20')\n",
    "dataset = get_dataset(dataset_name)\n",
    "print_results(trackers, dataset, dataset_name, merge_results=False, plot_types=('success', 'prec', 'norm_prec'),force_evaluation=False)"
   ]
  },
  {
   "cell_type": "code",
   "execution_count": 12,
   "metadata": {},
   "outputs": [
    {
     "name": "stdout",
     "output_type": "stream",
     "text": [
      "Using subset:20 fps , 2 ms window for testing\n",
      "\n",
      "Reporting results over 32 / 32 sequences\n",
      "\n",
      "esot_20_2       | AUC        | OP50       | OP75       | Precision    | Norm Precision    |\n",
      "atom            | 42.26      | 47.37      | 24.70      | 52.80        | 47.84             |\n",
      "dimp18          | 48.19      | 56.04      | 27.65      | 61.29        | 56.15             |\n",
      "prdimp18        | 42.28      | 45.61      | 25.52      | 50.56        | 47.01             |\n",
      "kys             | 50.21      | 55.14      | 29.24      | 64.04        | 56.68             |\n",
      "rts50           | 43.44      | 47.02      | 24.83      | 50.79        | 45.22             |\n",
      "keep_track      | 45.22      | 49.76      | 25.31      | 55.66        | 50.19             |\n",
      "\n",
      "Using subset:20 fps , 8 ms window for testing\n"
     ]
    },
    {
     "name": "stderr",
     "output_type": "stream",
     "text": [
      "100%|██████████| 32/32 [00:00<00:00, 101.80it/s]"
     ]
    },
    {
     "name": "stdout",
     "output_type": "stream",
     "text": [
      "\n",
      "\n",
      "Computed results over 32 / 32 sequences\n",
      "\n",
      "Reporting results over 32 / 32 sequences\n",
      "\n",
      "esot_20_8       | AUC        | OP50       | OP75       | Precision    | Norm Precision    |\n",
      "atom            | 50.59      | 59.11      | 31.64      | 64.87        | 58.12             |\n",
      "dimp18          | 57.36      | 67.17      | 36.60      | 73.85        | 67.53             |\n",
      "prdimp18        | 51.49      | 59.02      | 37.36      | 63.84        | 59.47             |\n",
      "kys             | 59.84      | 71.13      | 40.76      | 78.39        | 72.25             |\n",
      "rts50           | 53.86      | 59.86      | 34.12      | 62.98        | 56.28             |\n",
      "keep_track      | 56.60      | 66.30      | 39.34      | 69.19        | 63.03             |\n",
      "\n",
      "Using subset:20 fps , 20 ms window for testing\n",
      "\n",
      "Reporting results over 32 / 32 sequences\n",
      "\n",
      "esot_20_20      | AUC        | OP50       | OP75       | Precision    | Norm Precision    |\n",
      "atom            | 54.98      | 66.15      | 33.07      | 71.45        | 65.56             |\n",
      "dimp18          | 60.70      | 75.08      | 38.21      | 79.66        | 73.90             |\n",
      "prdimp18        | 58.78      | 68.58      | 42.78      | 75.02        | 69.49             |\n",
      "kys             | 60.79      | 73.87      | 40.45      | 80.08        | 73.52             |\n",
      "rts50           | 50.67      | 56.45      | 31.48      | 58.94        | 52.67             |\n",
      "keep_track      | 62.87      | 76.27      | 46.34      | 80.35        | 74.36             |\n",
      "\n"
     ]
    },
    {
     "name": "stderr",
     "output_type": "stream",
     "text": [
      "\n"
     ]
    }
   ],
   "source": [
    "# 20 FPS \n",
    "trackers = []\n",
    "trackers.extend(trackerlist(name='atom', parameter_name='default',\n",
    "                            run_ids=0, display_name='atom'))\n",
    "trackers.extend(trackerlist(name='dimp', parameter_name='dimp18', \n",
    "                            run_ids=0, display_name='dimp18'))\n",
    "trackers.extend(trackerlist(name='dimp', parameter_name='prdimp18', \n",
    "                            run_ids=0, display_name='prdimp18'))\n",
    "trackers.extend(trackerlist(name='kys', parameter_name='default', \n",
    "                            run_ids=0, display_name='kys'))\n",
    "trackers.extend(trackerlist(name='rts', parameter_name='rts50', \n",
    "                            run_ids=0, display_name='rts50'))\n",
    "trackers.extend(trackerlist(name='keep_track', parameter_name='default', \n",
    "                            run_ids=0, display_name='keep_track'))\n",
    "# trackers.extend(trackerlist(name='atom', parameter_name='esot500',\n",
    "#                             run_ids=0, display_name='atom'))\n",
    "dataset_name = ('esot_20_2')\n",
    "dataset = get_dataset(dataset_name)\n",
    "print_results(trackers, dataset, dataset_name, merge_results=False, plot_types=('success', 'prec', 'norm_prec'),force_evaluation=False)\n",
    "dataset_name = ('esot_20_8')\n",
    "dataset = get_dataset(dataset_name)\n",
    "print_results(trackers, dataset, dataset_name, merge_results=False, plot_types=('success', 'prec', 'norm_prec'),force_evaluation=False)\n",
    "dataset_name = ('esot_20_20')\n",
    "dataset = get_dataset(dataset_name)\n",
    "print_results(trackers, dataset, dataset_name, merge_results=False, plot_types=('success', 'prec', 'norm_prec'),force_evaluation=False)"
   ]
  },
  {
   "cell_type": "code",
   "execution_count": 10,
   "metadata": {},
   "outputs": [
    {
     "name": "stdout",
     "output_type": "stream",
     "text": [
      "Using subset:500 fps , 8 ms window for testing\n"
     ]
    },
    {
     "name": "stderr",
     "output_type": "stream",
     "text": [
      "100%|██████████| 32/32 [00:25<00:00,  1.27it/s]\n"
     ]
    },
    {
     "name": "stdout",
     "output_type": "stream",
     "text": [
      "\n",
      "\n",
      "Computed results over 32 / 32 sequences\n",
      "\n",
      "Reporting results over 32 / 32 sequences\n",
      "\n",
      "esot_500_8       | AUC        | OP50       | OP75       | Precision    | Norm Precision    |\n",
      "atom_fe          | 46.36      | 55.07      | 24.05      | 58.82        | 53.32             |\n",
      "dimp18_fe        | 35.32      | 35.22      | 10.31      | 41.91        | 35.04             |\n",
      "prdimp18_fe      | 26.14      | 21.30      | 4.21       | 29.51        | 25.13             |\n",
      "kys_fe           | 54.16      | 63.74      | 37.25      | 68.80        | 64.69             |\n",
      "\n",
      "Using subset:250 fps , 8 ms window for testing\n"
     ]
    },
    {
     "name": "stderr",
     "output_type": "stream",
     "text": [
      "100%|██████████| 32/32 [00:15<00:00,  2.08it/s]\n"
     ]
    },
    {
     "name": "stdout",
     "output_type": "stream",
     "text": [
      "\n",
      "\n",
      "Computed results over 32 / 32 sequences\n",
      "\n",
      "Reporting results over 32 / 32 sequences\n",
      "\n",
      "esot_250_8       | AUC        | OP50       | OP75       | Precision    | Norm Precision    |\n",
      "atom_fe          | 45.59      | 54.31      | 24.10      | 58.22        | 52.87             |\n",
      "dimp18_fe        | 37.42      | 37.79      | 11.13      | 44.09        | 36.79             |\n",
      "prdimp18_fe      | 26.97      | 21.52      | 4.12       | 30.40        | 25.17             |\n",
      "kys_fe           | 55.65      | 65.67      | 38.00      | 71.25        | 66.38             |\n",
      "\n",
      "Using subset:20 fps , 8 ms window for testing\n"
     ]
    },
    {
     "name": "stderr",
     "output_type": "stream",
     "text": [
      "100%|██████████| 32/32 [00:00<00:00, 53.94it/s]\n"
     ]
    },
    {
     "name": "stdout",
     "output_type": "stream",
     "text": [
      "\n",
      "\n",
      "Computed results over 32 / 32 sequences\n",
      "\n",
      "Reporting results over 32 / 32 sequences\n",
      "\n",
      "esot_20_8        | AUC        | OP50       | OP75       | Precision    | Norm Precision    |\n",
      "atom_fe          | 49.40      | 58.94      | 26.54      | 63.24        | 57.00             |\n",
      "dimp18_fe        | 38.22      | 39.08      | 11.36      | 43.89        | 38.02             |\n",
      "prdimp18_fe      | 24.45      | 19.52      | 3.78       | 24.70        | 20.93             |\n",
      "kys_fe           | 59.19      | 71.02      | 39.85      | 76.89        | 70.80             |\n",
      "\n"
     ]
    }
   ],
   "source": [
    "# FE re-train\n",
    "# 8 ms\n",
    "trackers = []\n",
    "trackers.extend(trackerlist(name='atom', parameter_name='fe240',\n",
    "                            run_ids=range(3), display_name='atom_fe'))\n",
    "trackers.extend(trackerlist(name='dimp', parameter_name='dimp18_fe240', \n",
    "                            run_ids=range(3), display_name='dimp18_fe'))\n",
    "trackers.extend(trackerlist(name='dimp', parameter_name='prdimp18_fe240', \n",
    "                            run_ids=range(3), display_name='prdimp18_fe'))\n",
    "trackers.extend(trackerlist(name='kys', parameter_name='fe240', \n",
    "                            run_ids=range(3), display_name='kys_fe'))\n",
    "# trackers.extend(trackerlist(name='tomp', parameter_name='tomp_fe240', \n",
    "#                             run_ids=0, display_name='tomp_fe'))\n",
    "# trackers.extend(trackerlist(name='atom', parameter_name='esot500',\n",
    "#                             run_ids=0, display_name='atom'))\n",
    "dataset_name = ('esot_500_8')\n",
    "dataset = get_dataset(dataset_name)\n",
    "print_results(trackers, dataset, dataset_name, merge_results=True, plot_types=('success', 'prec', 'norm_prec'),force_evaluation=False)\n",
    "dataset_name = ('esot_250_8')\n",
    "dataset = get_dataset(dataset_name)\n",
    "print_results(trackers, dataset, dataset_name, merge_results=True, plot_types=('success', 'prec', 'norm_prec'),force_evaluation=False)\n",
    "dataset_name = ('esot_20_8')\n",
    "dataset = get_dataset(dataset_name)\n",
    "print_results(trackers, dataset, dataset_name, merge_results=True, plot_types=('success', 'prec', 'norm_prec'),force_evaluation=False)"
   ]
  },
  {
   "cell_type": "code",
   "execution_count": 15,
   "metadata": {},
   "outputs": [
    {
     "name": "stdout",
     "output_type": "stream",
     "text": [
      "Using subset:500 fps , 2 ms window for testing\n"
     ]
    },
    {
     "name": "stderr",
     "output_type": "stream",
     "text": [
      "100%|██████████| 32/32 [00:26<00:00,  1.23it/s]\n"
     ]
    },
    {
     "name": "stdout",
     "output_type": "stream",
     "text": [
      "\n",
      "\n",
      "Computed results over 32 / 32 sequences\n",
      "\n",
      "Reporting results over 32 / 32 sequences\n",
      "\n",
      "esot_500_2       | AUC        | OP50       | OP75       | Precision    | Norm Precision    |\n",
      "atom_fe          | 40.64      | 46.02      | 21.06      | 49.77        | 46.62             |\n",
      "dimp18_fe        | 23.60      | 20.95      | 5.48       | 20.44        | 18.86             |\n",
      "prdimp18_fe      | 20.28      | 16.98      | 3.97       | 14.87        | 14.80             |\n",
      "kys_fe           | 46.81      | 51.40      | 27.95      | 59.58        | 54.34             |\n",
      "\n",
      "Using subset:250 fps , 2 ms window for testing\n"
     ]
    },
    {
     "name": "stderr",
     "output_type": "stream",
     "text": [
      "100%|██████████| 32/32 [00:18<00:00,  1.77it/s]\n"
     ]
    },
    {
     "name": "stdout",
     "output_type": "stream",
     "text": [
      "\n",
      "\n",
      "Computed results over 32 / 32 sequences\n",
      "\n",
      "Reporting results over 32 / 32 sequences\n",
      "\n",
      "esot_250_2       | AUC        | OP50       | OP75       | Precision    | Norm Precision    |\n",
      "atom_fe          | 40.71      | 45.92      | 19.97      | 50.85        | 46.26             |\n",
      "dimp18_fe        | 23.93      | 21.04      | 5.46       | 20.68        | 18.95             |\n",
      "prdimp18_fe      | 20.27      | 16.95      | 3.98       | 14.94        | 14.85             |\n",
      "kys_fe           | 49.85      | 55.77      | 30.02      | 64.33        | 58.52             |\n",
      "\n",
      "Using subset:20 fps , 2 ms window for testing\n"
     ]
    },
    {
     "name": "stderr",
     "output_type": "stream",
     "text": [
      "100%|██████████| 32/32 [00:00<00:00, 45.74it/s]"
     ]
    },
    {
     "name": "stdout",
     "output_type": "stream",
     "text": [
      "\n",
      "\n",
      "Computed results over 32 / 32 sequences\n",
      "\n",
      "Reporting results over 32 / 32 sequences\n",
      "\n",
      "esot_20_2        | AUC        | OP50       | OP75       | Precision    | Norm Precision    |\n",
      "atom_fe          | 41.82      | 46.81      | 20.74      | 51.06        | 46.22             |\n",
      "dimp18_fe        | 23.72      | 20.60      | 5.32       | 19.94        | 18.35             |\n",
      "prdimp18_fe      | 20.34      | 16.80      | 4.07       | 14.45        | 14.35             |\n",
      "kys_fe           | 49.69      | 56.63      | 30.15      | 63.11        | 57.60             |\n",
      "\n"
     ]
    },
    {
     "name": "stderr",
     "output_type": "stream",
     "text": [
      "\n"
     ]
    }
   ],
   "source": [
    "# FE re-train\n",
    "# 2 ms\n",
    "trackers = []\n",
    "trackers.extend(trackerlist(name='atom', parameter_name='fe240',\n",
    "                            run_ids=range(3), display_name='atom_fe'))\n",
    "trackers.extend(trackerlist(name='dimp', parameter_name='dimp18_fe240', \n",
    "                            run_ids=range(3), display_name='dimp18_fe'))\n",
    "trackers.extend(trackerlist(name='dimp', parameter_name='prdimp18_fe240', \n",
    "                            run_ids=range(3), display_name='prdimp18_fe'))\n",
    "trackers.extend(trackerlist(name='kys', parameter_name='fe240', \n",
    "                            run_ids=range(3), display_name='kys_fe'))\n",
    "# trackers.extend(trackerlist(name='tomp', parameter_name='tomp_fe240', \n",
    "#                             run_ids=0, display_name='tomp_fe'))\n",
    "# trackers.extend(trackerlist(name='atom', parameter_name='esot500',\n",
    "#                             run_ids=0, display_name='atom'))\n",
    "dataset_name = ('esot_500_2')\n",
    "dataset = get_dataset(dataset_name)\n",
    "print_results(trackers, dataset, dataset_name, merge_results=True, plot_types=('success', 'prec', 'norm_prec'),force_evaluation=False)\n",
    "dataset_name = ('esot_250_2')\n",
    "dataset = get_dataset(dataset_name)\n",
    "print_results(trackers, dataset, dataset_name, merge_results=True, plot_types=('success', 'prec', 'norm_prec'),force_evaluation=False)\n",
    "dataset_name = ('esot_20_2')\n",
    "dataset = get_dataset(dataset_name)\n",
    "print_results(trackers, dataset, dataset_name, merge_results=True, plot_types=('success', 'prec', 'norm_prec'),force_evaluation=False)"
   ]
  },
  {
   "cell_type": "code",
   "execution_count": 17,
   "metadata": {},
   "outputs": [
    {
     "name": "stdout",
     "output_type": "stream",
     "text": [
      "Using subset:500 fps , 20 ms window for testing\n"
     ]
    },
    {
     "name": "stderr",
     "output_type": "stream",
     "text": [
      " 38%|███▊      | 12/32 [00:09<00:16,  1.23it/s]\n"
     ]
    },
    {
     "ename": "Exception",
     "evalue": "Result not found. /home/test4/code/EventBenchmark/lib/pytracking/pytracking/tracking_results//atom/fe240_000/car40_500_w20ms.txt",
     "output_type": "error",
     "traceback": [
      "\u001b[0;31m---------------------------------------------------------------------------\u001b[0m",
      "\u001b[0;31mException\u001b[0m                                 Traceback (most recent call last)",
      "\u001b[1;32m/home/test4/code/EventBenchmark/lib/pytracking/pytracking/analysis/analysis_results.ipynb Cell 15\u001b[0m in \u001b[0;36m1\n\u001b[1;32m     <a href='vscode-notebook-cell://ssh-remote%2Bxijing/home/test4/code/EventBenchmark/lib/pytracking/pytracking/analysis/analysis_results.ipynb#X25sdnNjb2RlLXJlbW90ZQ%3D%3D?line=15'>16</a>\u001b[0m dataset_name \u001b[39m=\u001b[39m (\u001b[39m'\u001b[39m\u001b[39mesot_500_20\u001b[39m\u001b[39m'\u001b[39m)\n\u001b[1;32m     <a href='vscode-notebook-cell://ssh-remote%2Bxijing/home/test4/code/EventBenchmark/lib/pytracking/pytracking/analysis/analysis_results.ipynb#X25sdnNjb2RlLXJlbW90ZQ%3D%3D?line=16'>17</a>\u001b[0m dataset \u001b[39m=\u001b[39m get_dataset(dataset_name)\n\u001b[0;32m---> <a href='vscode-notebook-cell://ssh-remote%2Bxijing/home/test4/code/EventBenchmark/lib/pytracking/pytracking/analysis/analysis_results.ipynb#X25sdnNjb2RlLXJlbW90ZQ%3D%3D?line=17'>18</a>\u001b[0m print_results(trackers, dataset, dataset_name, merge_results\u001b[39m=\u001b[39m\u001b[39mTrue\u001b[39;00m, plot_types\u001b[39m=\u001b[39m(\u001b[39m'\u001b[39m\u001b[39msuccess\u001b[39m\u001b[39m'\u001b[39m, \u001b[39m'\u001b[39m\u001b[39mprec\u001b[39m\u001b[39m'\u001b[39m, \u001b[39m'\u001b[39m\u001b[39mnorm_prec\u001b[39m\u001b[39m'\u001b[39m),force_evaluation\u001b[39m=\u001b[39m\u001b[39mFalse\u001b[39;00m)\n\u001b[1;32m     <a href='vscode-notebook-cell://ssh-remote%2Bxijing/home/test4/code/EventBenchmark/lib/pytracking/pytracking/analysis/analysis_results.ipynb#X25sdnNjb2RlLXJlbW90ZQ%3D%3D?line=18'>19</a>\u001b[0m dataset_name \u001b[39m=\u001b[39m (\u001b[39m'\u001b[39m\u001b[39mesot_250_20\u001b[39m\u001b[39m'\u001b[39m)\n\u001b[1;32m     <a href='vscode-notebook-cell://ssh-remote%2Bxijing/home/test4/code/EventBenchmark/lib/pytracking/pytracking/analysis/analysis_results.ipynb#X25sdnNjb2RlLXJlbW90ZQ%3D%3D?line=19'>20</a>\u001b[0m dataset \u001b[39m=\u001b[39m get_dataset(dataset_name)\n",
      "File \u001b[0;32m~/code/EventBenchmark/lib/pytracking/pytracking/analysis/plot_results.py:325\u001b[0m, in \u001b[0;36mprint_results\u001b[0;34m(trackers, dataset, report_name, merge_results, plot_types, **kwargs)\u001b[0m\n\u001b[1;32m    315\u001b[0m \u001b[39m\"\"\" Print the results for the given trackers in a formatted table\u001b[39;00m\n\u001b[1;32m    316\u001b[0m \u001b[39margs:\u001b[39;00m\n\u001b[1;32m    317\u001b[0m \u001b[39m    trackers - List of trackers to evaluate\u001b[39;00m\n\u001b[0;32m   (...)\u001b[0m\n\u001b[1;32m    322\u001b[0m \u001b[39m                'prec' (prints precision score), and 'norm_prec' (prints normalized precision score)\u001b[39;00m\n\u001b[1;32m    323\u001b[0m \u001b[39m\"\"\"\u001b[39;00m\n\u001b[1;32m    324\u001b[0m \u001b[39m# Load pre-computed results\u001b[39;00m\n\u001b[0;32m--> 325\u001b[0m eval_data \u001b[39m=\u001b[39m check_and_load_precomputed_results(trackers, dataset, report_name, \u001b[39m*\u001b[39;49m\u001b[39m*\u001b[39;49mkwargs)\n\u001b[1;32m    327\u001b[0m \u001b[39m# Merge results from multiple runs\u001b[39;00m\n\u001b[1;32m    328\u001b[0m \u001b[39mif\u001b[39;00m merge_results:\n",
      "File \u001b[0;32m~/code/EventBenchmark/lib/pytracking/pytracking/analysis/plot_results.py:184\u001b[0m, in \u001b[0;36mcheck_and_load_precomputed_results\u001b[0;34m(trackers, dataset, report_name, force_evaluation, **kwargs)\u001b[0m\n\u001b[1;32m    180\u001b[0m     eval_data \u001b[39m=\u001b[39m extract_results(trackers, dataset, report_name, \u001b[39m*\u001b[39m\u001b[39m*\u001b[39mkwargs)\n\u001b[1;32m    182\u001b[0m \u001b[39mif\u001b[39;00m \u001b[39mnot\u001b[39;00m check_eval_data_is_valid(eval_data, trackers, dataset):\n\u001b[1;32m    183\u001b[0m     \u001b[39m# print('Pre-computed evaluation data invalid. Re-computing results!')\u001b[39;00m\n\u001b[0;32m--> 184\u001b[0m     eval_data \u001b[39m=\u001b[39m extract_results(trackers, dataset, report_name, \u001b[39m*\u001b[39;49m\u001b[39m*\u001b[39;49mkwargs)\n\u001b[1;32m    185\u001b[0m \u001b[39melse\u001b[39;00m:\n\u001b[1;32m    186\u001b[0m     \u001b[39m# Update display names\u001b[39;00m\n\u001b[1;32m    187\u001b[0m     tracker_names \u001b[39m=\u001b[39m [{\u001b[39m'\u001b[39m\u001b[39mname\u001b[39m\u001b[39m'\u001b[39m: t\u001b[39m.\u001b[39mname, \u001b[39m'\u001b[39m\u001b[39mparam\u001b[39m\u001b[39m'\u001b[39m: t\u001b[39m.\u001b[39mparameter_name, \u001b[39m'\u001b[39m\u001b[39mrun_id\u001b[39m\u001b[39m'\u001b[39m: t\u001b[39m.\u001b[39mrun_id, \u001b[39m'\u001b[39m\u001b[39mdisp_name\u001b[39m\u001b[39m'\u001b[39m: t\u001b[39m.\u001b[39mdisplay_name}\n\u001b[1;32m    188\u001b[0m                      \u001b[39mfor\u001b[39;00m t \u001b[39min\u001b[39;00m trackers]\n",
      "File \u001b[0;32m~/code/EventBenchmark/lib/pytracking/pytracking/analysis/extract_results.py:144\u001b[0m, in \u001b[0;36mextract_results\u001b[0;34m(trackers, dataset, report_name, skip_missing_seq, plot_bin_gap, exclude_invalid_frames, verbose)\u001b[0m\n\u001b[1;32m    142\u001b[0m         \u001b[39mbreak\u001b[39;00m\n\u001b[1;32m    143\u001b[0m     \u001b[39melse\u001b[39;00m:\n\u001b[0;32m--> 144\u001b[0m         \u001b[39mraise\u001b[39;00m \u001b[39mException\u001b[39;00m(\u001b[39m'\u001b[39m\u001b[39mResult not found. \u001b[39m\u001b[39m{}\u001b[39;00m\u001b[39m'\u001b[39m\u001b[39m.\u001b[39mformat(results_path))\n\u001b[1;32m    146\u001b[0m \u001b[39m# Calculate measures\u001b[39;00m\n\u001b[1;32m    147\u001b[0m err_overlap, err_center, err_center_normalized, valid_frame \u001b[39m=\u001b[39m calc_seq_err_robust(\n\u001b[1;32m    148\u001b[0m     pred_bb, anno_bb, seq\u001b[39m.\u001b[39mdataset, target_visible)\n",
      "\u001b[0;31mException\u001b[0m: Result not found. /home/test4/code/EventBenchmark/lib/pytracking/pytracking/tracking_results//atom/fe240_000/car40_500_w20ms.txt"
     ]
    }
   ],
   "source": [
    "# FE re-train\n",
    "# 20 ms\n",
    "trackers = []\n",
    "trackers.extend(trackerlist(name='atom', parameter_name='fe240',\n",
    "                            run_ids=range(3), display_name='atom_fe'))\n",
    "trackers.extend(trackerlist(name='dimp', parameter_name='dimp18_fe240', \n",
    "                            run_ids=range(3), display_name='dimp18_fe'))\n",
    "trackers.extend(trackerlist(name='dimp', parameter_name='prdimp18_fe240', \n",
    "                            run_ids=range(3), display_name='prdimp18_fe'))\n",
    "trackers.extend(trackerlist(name='kys', parameter_name='fe240', \n",
    "                            run_ids=range(3), display_name='kys_fe'))\n",
    "# trackers.extend(trackerlist(name='tomp', parameter_name='tomp_fe240', \n",
    "#                             run_ids=0, display_name='tomp_fe'))\n",
    "# trackers.extend(trackerlist(name='atom', parameter_name='esot500',\n",
    "#                             run_ids=0, display_name='atom'))\n",
    "dataset_name = ('esot_500_20')\n",
    "dataset = get_dataset(dataset_name)\n",
    "print_results(trackers, dataset, dataset_name, merge_results=True, plot_types=('success', 'prec', 'norm_prec'),force_evaluation=False)\n",
    "dataset_name = ('esot_250_20')\n",
    "dataset = get_dataset(dataset_name)\n",
    "print_results(trackers, dataset, dataset_name, merge_results=True, plot_types=('success', 'prec', 'norm_prec'),force_evaluation=False)\n",
    "dataset_name = ('esot_20_20')\n",
    "dataset = get_dataset(dataset_name)\n",
    "print_results(trackers, dataset, dataset_name, merge_results=True, plot_types=('success', 'prec', 'norm_prec'),force_evaluation=False)"
   ]
  },
  {
   "attachments": {},
   "cell_type": "markdown",
   "metadata": {},
   "source": [
    "### ESOT2\n"
   ]
  },
  {
   "cell_type": "code",
   "execution_count": 3,
   "metadata": {},
   "outputs": [
    {
     "name": "stderr",
     "output_type": "stream",
     "text": [
      "100%|██████████| 21/21 [00:00<00:00, 49.07it/s]"
     ]
    },
    {
     "name": "stdout",
     "output_type": "stream",
     "text": [
      "\n",
      "\n",
      "Computed results over 21 / 21 sequences\n",
      "\n",
      "Reporting results over 21 / 21 sequences\n",
      "\n",
      "esot2_default      | AUC        | OP50       | OP75       | Precision    | Norm Precision    |\n",
      "atom               | 39.42      | 45.48      | 19.07      | 67.18        | 48.63             |\n",
      "atom_fe240         | 37.94      | 43.77      | 13.92      | 60.05        | 44.20             |\n",
      "dimp18             | 39.88      | 47.90      | 21.54      | 63.04        | 49.15             |\n",
      "dimp18_fe240       | 29.04      | 30.43      | 9.30       | 49.83        | 31.05             |\n",
      "prdimp18           | 38.90      | 44.32      | 19.45      | 64.43        | 48.67             |\n",
      "dimp50             | 46.06      | 56.82      | 27.84      | 67.45        | 56.79             |\n",
      "kys                | 49.27      | 59.70      | 25.98      | 76.44        | 60.45             |\n",
      "kys_fe240          | 47.99      | 56.93      | 27.21      | 75.24        | 59.50             |\n",
      "rts50              | 41.93      | 46.91      | 26.66      | 60.16        | 46.74             |\n",
      "keep_track         | 43.21      | 52.60      | 26.36      | 62.97        | 53.75             |\n",
      "tomp50             | 50.40      | 61.44      | 34.69      | 73.91        | 58.34             |\n",
      "\n"
     ]
    },
    {
     "name": "stderr",
     "output_type": "stream",
     "text": [
      "\n"
     ]
    }
   ],
   "source": [
    "# Awaiting results\n",
    "trackers = []\n",
    "trackers.extend(trackerlist(name='atom', parameter_name='default',\n",
    "                            run_ids=0, display_name='atom'))\n",
    "trackers.extend(trackerlist(name='atom', parameter_name='fe240',\n",
    "                            run_ids=0, display_name='atom_fe240'))\n",
    "trackers.extend(trackerlist(name='dimp', parameter_name='dimp18', \n",
    "                            run_ids=0, display_name='dimp18'))\n",
    "trackers.extend(trackerlist(name='dimp', parameter_name='dimp18_fe240', \n",
    "                            run_ids=0, display_name='dimp18_fe240'))\n",
    "trackers.extend(trackerlist(name='dimp', parameter_name='prdimp18', \n",
    "                            run_ids=0, display_name='prdimp18'))\n",
    "trackers.extend(trackerlist(name='dimp', parameter_name='dimp50', \n",
    "                            run_ids=0, display_name='dimp50'))\n",
    "trackers.extend(trackerlist(name='kys', parameter_name='default', \n",
    "                            run_ids=0, display_name='kys'))\n",
    "trackers.extend(trackerlist(name='kys', parameter_name='fe240', \n",
    "                            run_ids=0, display_name='kys_fe240'))\n",
    "trackers.extend(trackerlist(name='rts', parameter_name='rts50', \n",
    "                            run_ids=0, display_name='rts50'))\n",
    "trackers.extend(trackerlist(name='keep_track', parameter_name='default', \n",
    "                            run_ids=0, display_name='keep_track'))\n",
    "trackers.extend(trackerlist(name='tomp', parameter_name='tomp50', \n",
    "                            run_ids=0, display_name='tomp50'))\n",
    "# trackers.extend(trackerlist(name='atom', parameter_name='esot500',\n",
    "#                             run_ids=0, display_name='atom'))\n",
    "dataset_name = ('esot2_default')\n",
    "dataset = get_dataset(dataset_name)\n",
    "print_results(trackers, dataset, dataset_name, merge_results=False, plot_types=('success', 'prec', 'norm_prec'),force_evaluation=True, exclude_invalid_frames=True)\n",
    "# dataset_name = ('esot2_2_20')\n",
    "# dataset = get_dataset(dataset_name)\n",
    "# print_results(trackers, dataset, dataset_name, merge_results=False, plot_types=('success', 'prec', 'norm_prec'),force_evaluation=True, exclude_invalid_frames=True)\n",
    "# dataset_name = ('esot2_5_20')\n",
    "# dataset = get_dataset(dataset_name)\n",
    "# print_results(trackers, dataset, dataset_name, merge_results=False, plot_types=('success', 'prec', 'norm_prec'),force_evaluation=True, exclude_invalid_frames=True)\n",
    "# dataset_name = ('esot2_10_20')\n",
    "# dataset = get_dataset(dataset_name)\n",
    "# print_results(trackers, dataset, dataset_name, merge_results=False, plot_types=('success', 'prec', 'norm_prec'),force_evaluation=True, exclude_invalid_frames=True)"
   ]
  },
  {
   "cell_type": "code",
   "execution_count": null,
   "metadata": {},
   "outputs": [],
   "source": [
    "import os\n",
    "os.path.exists('/home/test4/code/EventBenchmark/lib/pytracking/pytracking/tracking_results_rt_final/atom/default_000/airplane5.txt')\n",
    "import numpy as np\n",
    "txt = np.loadtxt('/home/test4/code/EventBenchmark/lib/pytracking/pytracking/tracking_results_rt_final/atom/default_000/airplane5.txt')"
   ]
  },
  {
   "cell_type": "code",
   "execution_count": null,
   "metadata": {},
   "outputs": [],
   "source": [
    "dataset_name = 'fe240'\n",
    "trackers = []\n",
    "trackers.extend(trackerlist(name='atom', parameter_name='default',\n",
    "                            run_ids=0, display_name='atom'))\n",
    "trackers.extend(trackerlist(name='dimp', parameter_name='dimp18', \n",
    "                            run_ids=0, display_name='dimp18'))\n",
    "trackers.extend(trackerlist(name='dimp', parameter_name='prdimp18', \n",
    "                            run_ids=0, display_name='prdimp18'))\n",
    "trackers.extend(trackerlist(name='kys', parameter_name='default', \n",
    "                            run_ids=0, display_name='kys'))\n",
    "trackers.extend(trackerlist(name='rts', parameter_name='rts50', \n",
    "                            run_ids=0, display_name='rts50'))\n",
    "trackers.extend(trackerlist(name='keep_track', parameter_name='default', \n",
    "                            run_ids=0, display_name='keep_track'))\n",
    "dataset = get_dataset(dataset_name)\n",
    "print_results(trackers, dataset, dataset_name, merge_results=True, plot_types=('success', 'prec', 'norm_prec'))"
   ]
  }
 ],
 "metadata": {
  "kernelspec": {
   "display_name": "ebench",
   "language": "python",
   "name": "python3"
  },
  "language_info": {
   "codemirror_mode": {
    "name": "ipython",
    "version": 3
   },
   "file_extension": ".py",
   "mimetype": "text/x-python",
   "name": "python",
   "nbconvert_exporter": "python",
   "pygments_lexer": "ipython3",
   "version": "3.8.13"
  },
  "orig_nbformat": 4,
  "vscode": {
   "interpreter": {
    "hash": "17f5b4477bd794ec570b380a01920209adc96d3aecac4e031f99f3d2b867f343"
   }
  }
 },
 "nbformat": 4,
 "nbformat_minor": 2
}
