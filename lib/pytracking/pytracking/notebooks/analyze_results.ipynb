{
 "cells": [
  {
   "cell_type": "markdown",
   "metadata": {},
   "source": [
    "# Generating Results on Datasets"
   ]
  },
  {
   "cell_type": "code",
   "execution_count": 1,
   "metadata": {},
   "outputs": [
    {
     "name": "stderr",
     "output_type": "stream",
     "text": [
      "/usr/local/anaconda3/envs/ebench/lib/python3.8/site-packages/tqdm/auto.py:22: TqdmWarning: IProgress not found. Please update jupyter and ipywidgets. See https://ipywidgets.readthedocs.io/en/stable/user_install.html\n",
      "  from .autonotebook import tqdm as notebook_tqdm\n"
     ]
    }
   ],
   "source": [
    "%load_ext autoreload\n",
    "%autoreload 2\n",
    "%matplotlib inline\n",
    "import os\n",
    "import sys\n",
    "import matplotlib.pyplot as plt\n",
    "plt.rcParams['figure.figsize'] = [14, 8]\n",
    "\n",
    "sys.path.append('../..')\n",
    "from pytracking.analysis.plot_results import plot_results, print_results, print_per_sequence_results\n",
    "from pytracking.evaluation import Tracker, get_dataset, trackerlist"
   ]
  },
  {
   "cell_type": "markdown",
   "metadata": {},
   "source": [
    "## Plots for OTB, NFS and UAV"
   ]
  },
  {
   "cell_type": "code",
   "execution_count": 2,
   "metadata": {},
   "outputs": [
    {
     "ename": "Exception",
     "evalue": "Could not read file /Basketball/groundtruth_rect.txt",
     "output_type": "error",
     "traceback": [
      "\u001b[0;31m---------------------------------------------------------------------------\u001b[0m",
      "\u001b[0;31mException\u001b[0m                                 Traceback (most recent call last)",
      "\u001b[1;32m/home/test4/code/EventBenchmark/lib/pytracking/pytracking/notebooks/analyze_results.ipynb Cell 4\u001b[0m line \u001b[0;36m8\n\u001b[1;32m      <a href='vscode-notebook-cell://ssh-remote%2B10.102.3.54/home/test4/code/EventBenchmark/lib/pytracking/pytracking/notebooks/analyze_results.ipynb#W3sdnNjb2RlLXJlbW90ZQ%3D%3D?line=4'>5</a>\u001b[0m trackers\u001b[39m.\u001b[39mextend(trackerlist(\u001b[39m'\u001b[39m\u001b[39mdimp\u001b[39m\u001b[39m'\u001b[39m, \u001b[39m'\u001b[39m\u001b[39mprdimp18\u001b[39m\u001b[39m'\u001b[39m, \u001b[39mrange\u001b[39m(\u001b[39m0\u001b[39m,\u001b[39m5\u001b[39m), \u001b[39m'\u001b[39m\u001b[39mPrDiMP18\u001b[39m\u001b[39m'\u001b[39m))\n\u001b[1;32m      <a href='vscode-notebook-cell://ssh-remote%2B10.102.3.54/home/test4/code/EventBenchmark/lib/pytracking/pytracking/notebooks/analyze_results.ipynb#W3sdnNjb2RlLXJlbW90ZQ%3D%3D?line=5'>6</a>\u001b[0m trackers\u001b[39m.\u001b[39mextend(trackerlist(\u001b[39m'\u001b[39m\u001b[39mdimp\u001b[39m\u001b[39m'\u001b[39m, \u001b[39m'\u001b[39m\u001b[39mprdimp50\u001b[39m\u001b[39m'\u001b[39m, \u001b[39mrange\u001b[39m(\u001b[39m0\u001b[39m,\u001b[39m5\u001b[39m), \u001b[39m'\u001b[39m\u001b[39mPrDiMP50\u001b[39m\u001b[39m'\u001b[39m))\n\u001b[0;32m----> <a href='vscode-notebook-cell://ssh-remote%2B10.102.3.54/home/test4/code/EventBenchmark/lib/pytracking/pytracking/notebooks/analyze_results.ipynb#W3sdnNjb2RlLXJlbW90ZQ%3D%3D?line=7'>8</a>\u001b[0m dataset \u001b[39m=\u001b[39m get_dataset(\u001b[39m'\u001b[39m\u001b[39motb\u001b[39m\u001b[39m'\u001b[39m)\n\u001b[1;32m      <a href='vscode-notebook-cell://ssh-remote%2B10.102.3.54/home/test4/code/EventBenchmark/lib/pytracking/pytracking/notebooks/analyze_results.ipynb#W3sdnNjb2RlLXJlbW90ZQ%3D%3D?line=8'>9</a>\u001b[0m plot_results(trackers, dataset, \u001b[39m'\u001b[39m\u001b[39mOTB\u001b[39m\u001b[39m'\u001b[39m, merge_results\u001b[39m=\u001b[39m\u001b[39mTrue\u001b[39;00m, plot_types\u001b[39m=\u001b[39m(\u001b[39m'\u001b[39m\u001b[39msuccess\u001b[39m\u001b[39m'\u001b[39m, \u001b[39m'\u001b[39m\u001b[39mprec\u001b[39m\u001b[39m'\u001b[39m), \n\u001b[1;32m     <a href='vscode-notebook-cell://ssh-remote%2B10.102.3.54/home/test4/code/EventBenchmark/lib/pytracking/pytracking/notebooks/analyze_results.ipynb#W3sdnNjb2RlLXJlbW90ZQ%3D%3D?line=9'>10</a>\u001b[0m              skip_missing_seq\u001b[39m=\u001b[39m\u001b[39mFalse\u001b[39;00m, force_evaluation\u001b[39m=\u001b[39m\u001b[39mTrue\u001b[39;00m, plot_bin_gap\u001b[39m=\u001b[39m\u001b[39m0.05\u001b[39m, exclude_invalid_frames\u001b[39m=\u001b[39m\u001b[39mFalse\u001b[39;00m)\n\u001b[1;32m     <a href='vscode-notebook-cell://ssh-remote%2B10.102.3.54/home/test4/code/EventBenchmark/lib/pytracking/pytracking/notebooks/analyze_results.ipynb#W3sdnNjb2RlLXJlbW90ZQ%3D%3D?line=11'>12</a>\u001b[0m dataset \u001b[39m=\u001b[39m get_dataset(\u001b[39m'\u001b[39m\u001b[39mnfs\u001b[39m\u001b[39m'\u001b[39m)\n",
      "File \u001b[0;32m~/code/EventBenchmark/lib/pytracking/pytracking/notebooks/../../pytracking/evaluation/datasets.py:133\u001b[0m, in \u001b[0;36mget_dataset\u001b[0;34m(*args, **kwargs)\u001b[0m\n\u001b[1;32m    131\u001b[0m dset \u001b[39m=\u001b[39m SequenceList()\n\u001b[1;32m    132\u001b[0m \u001b[39mfor\u001b[39;00m name \u001b[39min\u001b[39;00m args:\n\u001b[0;32m--> 133\u001b[0m     dset\u001b[39m.\u001b[39mextend(load_dataset(name, \u001b[39m*\u001b[39;49m\u001b[39m*\u001b[39;49mkwargs)\u001b[39m.\u001b[39;49mget_sequence_list())\n\u001b[1;32m    134\u001b[0m \u001b[39mreturn\u001b[39;00m dset\n",
      "File \u001b[0;32m~/code/EventBenchmark/lib/pytracking/pytracking/notebooks/../../pytracking/evaluation/otbdataset.py:29\u001b[0m, in \u001b[0;36mOTBDataset.get_sequence_list\u001b[0;34m(self)\u001b[0m\n\u001b[1;32m     28\u001b[0m \u001b[39mdef\u001b[39;00m \u001b[39mget_sequence_list\u001b[39m(\u001b[39mself\u001b[39m):\n\u001b[0;32m---> 29\u001b[0m     \u001b[39mreturn\u001b[39;00m SequenceList([\u001b[39mself\u001b[39m\u001b[39m.\u001b[39m_construct_sequence(s) \u001b[39mfor\u001b[39;00m s \u001b[39min\u001b[39;00m \u001b[39mself\u001b[39m\u001b[39m.\u001b[39msequence_info_list])\n",
      "File \u001b[0;32m~/code/EventBenchmark/lib/pytracking/pytracking/notebooks/../../pytracking/evaluation/otbdataset.py:29\u001b[0m, in \u001b[0;36m<listcomp>\u001b[0;34m(.0)\u001b[0m\n\u001b[1;32m     28\u001b[0m \u001b[39mdef\u001b[39;00m \u001b[39mget_sequence_list\u001b[39m(\u001b[39mself\u001b[39m):\n\u001b[0;32m---> 29\u001b[0m     \u001b[39mreturn\u001b[39;00m SequenceList([\u001b[39mself\u001b[39;49m\u001b[39m.\u001b[39;49m_construct_sequence(s) \u001b[39mfor\u001b[39;00m s \u001b[39min\u001b[39;00m \u001b[39mself\u001b[39m\u001b[39m.\u001b[39msequence_info_list])\n",
      "File \u001b[0;32m~/code/EventBenchmark/lib/pytracking/pytracking/notebooks/../../pytracking/evaluation/otbdataset.py:48\u001b[0m, in \u001b[0;36mOTBDataset._construct_sequence\u001b[0;34m(self, sequence_info)\u001b[0m\n\u001b[1;32m     45\u001b[0m anno_path \u001b[39m=\u001b[39m \u001b[39m'\u001b[39m\u001b[39m{}\u001b[39;00m\u001b[39m/\u001b[39m\u001b[39m{}\u001b[39;00m\u001b[39m'\u001b[39m\u001b[39m.\u001b[39mformat(\u001b[39mself\u001b[39m\u001b[39m.\u001b[39mbase_path, sequence_info[\u001b[39m'\u001b[39m\u001b[39manno_path\u001b[39m\u001b[39m'\u001b[39m])\n\u001b[1;32m     47\u001b[0m \u001b[39m# NOTE: OTB has some weird annos which panda cannot handle\u001b[39;00m\n\u001b[0;32m---> 48\u001b[0m ground_truth_rect \u001b[39m=\u001b[39m load_text(\u001b[39mstr\u001b[39;49m(anno_path), delimiter\u001b[39m=\u001b[39;49m(\u001b[39m'\u001b[39;49m\u001b[39m,\u001b[39;49m\u001b[39m'\u001b[39;49m, \u001b[39mNone\u001b[39;49;00m), dtype\u001b[39m=\u001b[39;49mnp\u001b[39m.\u001b[39;49mfloat64, backend\u001b[39m=\u001b[39;49m\u001b[39m'\u001b[39;49m\u001b[39mnumpy\u001b[39;49m\u001b[39m'\u001b[39;49m)\n\u001b[1;32m     50\u001b[0m \u001b[39mreturn\u001b[39;00m Sequence(sequence_info[\u001b[39m'\u001b[39m\u001b[39mname\u001b[39m\u001b[39m'\u001b[39m], frames, \u001b[39m'\u001b[39m\u001b[39motb\u001b[39m\u001b[39m'\u001b[39m, ground_truth_rect[init_omit:,:],\n\u001b[1;32m     51\u001b[0m                 object_class\u001b[39m=\u001b[39msequence_info[\u001b[39m'\u001b[39m\u001b[39mobject_class\u001b[39m\u001b[39m'\u001b[39m])\n",
      "File \u001b[0;32m~/code/EventBenchmark/lib/pytracking/pytracking/notebooks/../../pytracking/utils/load_text.py:39\u001b[0m, in \u001b[0;36mload_text\u001b[0;34m(path, delimiter, dtype, backend)\u001b[0m\n\u001b[1;32m     37\u001b[0m \u001b[39mdef\u001b[39;00m \u001b[39mload_text\u001b[39m(path, delimiter\u001b[39m=\u001b[39m\u001b[39m'\u001b[39m\u001b[39m \u001b[39m\u001b[39m'\u001b[39m, dtype\u001b[39m=\u001b[39mnp\u001b[39m.\u001b[39mfloat32, backend\u001b[39m=\u001b[39m\u001b[39m'\u001b[39m\u001b[39mnumpy\u001b[39m\u001b[39m'\u001b[39m):\n\u001b[1;32m     38\u001b[0m     \u001b[39mif\u001b[39;00m backend \u001b[39m==\u001b[39m \u001b[39m'\u001b[39m\u001b[39mnumpy\u001b[39m\u001b[39m'\u001b[39m:\n\u001b[0;32m---> 39\u001b[0m         \u001b[39mreturn\u001b[39;00m load_text_numpy(path, delimiter, dtype)\n\u001b[1;32m     40\u001b[0m     \u001b[39melif\u001b[39;00m backend \u001b[39m==\u001b[39m \u001b[39m'\u001b[39m\u001b[39mpandas\u001b[39m\u001b[39m'\u001b[39m:\n\u001b[1;32m     41\u001b[0m         \u001b[39mreturn\u001b[39;00m load_text_pandas(path, delimiter, dtype)\n",
      "File \u001b[0;32m~/code/EventBenchmark/lib/pytracking/pytracking/notebooks/../../pytracking/utils/load_text.py:14\u001b[0m, in \u001b[0;36mload_text_numpy\u001b[0;34m(path, delimiter, dtype)\u001b[0m\n\u001b[1;32m     11\u001b[0m         \u001b[39mexcept\u001b[39;00m:\n\u001b[1;32m     12\u001b[0m             \u001b[39mpass\u001b[39;00m\n\u001b[0;32m---> 14\u001b[0m     \u001b[39mraise\u001b[39;00m \u001b[39mException\u001b[39;00m(\u001b[39m'\u001b[39m\u001b[39mCould not read file \u001b[39m\u001b[39m{}\u001b[39;00m\u001b[39m'\u001b[39m\u001b[39m.\u001b[39mformat(path))\n\u001b[1;32m     15\u001b[0m \u001b[39melse\u001b[39;00m:\n\u001b[1;32m     16\u001b[0m     ground_truth_rect \u001b[39m=\u001b[39m np\u001b[39m.\u001b[39mloadtxt(path, delimiter\u001b[39m=\u001b[39mdelimiter, dtype\u001b[39m=\u001b[39mdtype)\n",
      "\u001b[0;31mException\u001b[0m: Could not read file /Basketball/groundtruth_rect.txt"
     ]
    }
   ],
   "source": [
    "trackers = []\n",
    "trackers.extend(trackerlist('atom', 'default', range(0,5), 'ATOM'))\n",
    "trackers.extend(trackerlist('dimp', 'dimp18', range(0,5), 'DiMP18'))\n",
    "trackers.extend(trackerlist('dimp', 'dimp50', range(0,5), 'DiMP50'))\n",
    "trackers.extend(trackerlist('dimp', 'prdimp18', range(0,5), 'PrDiMP18'))\n",
    "trackers.extend(trackerlist('dimp', 'prdimp50', range(0,5), 'PrDiMP50'))\n",
    "\n",
    "dataset = get_dataset('otb')\n",
    "plot_results(trackers, dataset, 'OTB', merge_results=True, plot_types=('success', 'prec'), \n",
    "             skip_missing_seq=False, force_evaluation=True, plot_bin_gap=0.05, exclude_invalid_frames=False)\n",
    "\n",
    "dataset = get_dataset('nfs')\n",
    "plot_results(trackers, dataset, 'NFS', merge_results=True, plot_types=('success', 'prec'), \n",
    "             skip_missing_seq=False, force_evaluation=True, plot_bin_gap=0.05, exclude_invalid_frames=False)\n",
    "\n",
    "dataset = get_dataset('uav')\n",
    "plot_results(trackers, dataset, 'UAV', merge_results=True, plot_types=('success', 'prec'), \n",
    "             skip_missing_seq=False, force_evaluation=True, plot_bin_gap=0.05, exclude_invalid_frames=False)\n",
    "\n",
    "dataset = get_dataset('otb', 'nfs', 'uav')\n",
    "plot_results(trackers, dataset, 'OTB+NFS+UAV', merge_results=True, plot_types=('success', 'prec'), \n",
    "             skip_missing_seq=False, force_evaluation=True, plot_bin_gap=0.05, exclude_invalid_frames=False)"
   ]
  },
  {
   "cell_type": "markdown",
   "metadata": {},
   "source": [
    "## Plots for LaSOT"
   ]
  },
  {
   "cell_type": "code",
   "execution_count": null,
   "metadata": {},
   "outputs": [],
   "source": [
    "trackers = []\n",
    "trackers.extend(trackerlist('atom', 'default', range(0,5), 'ATOM'))\n",
    "trackers.extend(trackerlist('dimp', 'dimp18', range(0,5), 'DiMP18'))\n",
    "trackers.extend(trackerlist('dimp', 'dimp50', range(0,5), 'DiMP50'))\n",
    "trackers.extend(trackerlist('dimp', 'prdimp18', range(0,5), 'PrDiMP18'))\n",
    "trackers.extend(trackerlist('dimp', 'prdimp50', range(0,5), 'PrDiMP50'))\n",
    "\n",
    "dataset = get_dataset('lasot')\n",
    "plot_results(trackers, dataset, 'LaSOT', merge_results=True, plot_types=('success'), \n",
    "             skip_missing_seq=False, force_evaluation=True, plot_bin_gap=0.05)"
   ]
  },
  {
   "cell_type": "markdown",
   "metadata": {},
   "source": [
    "## Tables for OTB, NFS, UAV and LaSOT"
   ]
  },
  {
   "cell_type": "code",
   "execution_count": null,
   "metadata": {},
   "outputs": [],
   "source": [
    "trackers = []\n",
    "trackers.extend(trackerlist('atom', 'default', range(0,5), 'ATOM'))\n",
    "trackers.extend(trackerlist('dimp', 'dimp18', range(0,5), 'DiMP18'))\n",
    "trackers.extend(trackerlist('dimp', 'dimp50', range(0,5), 'DiMP50'))\n",
    "trackers.extend(trackerlist('dimp', 'prdimp18', range(0,5), 'PrDiMP18'))\n",
    "trackers.extend(trackerlist('dimp', 'prdimp50', range(0,5), 'PrDiMP50'))\n",
    "\n",
    "dataset = get_dataset('otb')\n",
    "print_results(trackers, dataset, 'OTB', merge_results=True, plot_types=('success', 'prec', 'norm_prec'))\n",
    "\n",
    "dataset = get_dataset('nfs')\n",
    "print_results(trackers, dataset, 'NFS', merge_results=True, plot_types=('success', 'prec', 'norm_prec'))\n",
    "\n",
    "dataset = get_dataset('uav')\n",
    "print_results(trackers, dataset, 'UAV', merge_results=True, plot_types=('success', 'prec', 'norm_prec'))\n",
    "\n",
    "dataset = get_dataset('otb', 'nfs', 'uav')\n",
    "print_results(trackers, dataset, 'OTB+NFS+UAV', merge_results=True, plot_types=('success', 'prec', 'norm_prec'))\n",
    "\n",
    "dataset = get_dataset('lasot')\n",
    "print_results(trackers, dataset, 'LaSOT', merge_results=True, plot_types=('success', 'prec', 'norm_prec'))"
   ]
  },
  {
   "cell_type": "markdown",
   "metadata": {},
   "source": [
    "## Filtered per-sequence results"
   ]
  },
  {
   "cell_type": "code",
   "execution_count": null,
   "metadata": {},
   "outputs": [],
   "source": [
    "# Print per sequence results for sequences where all trackers fail, i.e. all trackers have average overlap in percentage of less than 10.0\n",
    "filter_criteria = {'mode': 'ao_max', 'threshold': 10.0}\n",
    "dataset = get_dataset('otb', 'nfs', 'uav')\n",
    "print_per_sequence_results(trackers, dataset, 'OTB+NFS+UAV', merge_results=True, filter_criteria=filter_criteria, force_evaluation=False)"
   ]
  },
  {
   "cell_type": "code",
   "execution_count": null,
   "metadata": {},
   "outputs": [],
   "source": [
    "# Print per sequence results for sequences where at least one tracker fails, i.e. a tracker has average overlap in percentage of less than 10.0\n",
    "filter_criteria = {'mode': 'ao_min', 'threshold': 10.0}\n",
    "dataset = get_dataset('otb', 'nfs', 'uav')\n",
    "print_per_sequence_results(trackers, dataset, 'OTB+NFS+UAV', merge_results=True, filter_criteria=filter_criteria, force_evaluation=False)"
   ]
  },
  {
   "cell_type": "code",
   "execution_count": null,
   "metadata": {},
   "outputs": [],
   "source": [
    "# Print per sequence results for sequences where the trackers have differing behavior.\n",
    "# i.e. average overlap in percentage for different trackers on a sequence differ by at least 40.0\n",
    "filter_criteria = {'mode': 'delta_ao', 'threshold': 40.0}\n",
    "dataset = get_dataset('otb', 'nfs', 'uav')\n",
    "print_per_sequence_results(trackers, dataset, 'OTB+NFS+UAV', merge_results=True, filter_criteria=filter_criteria, force_evaluation=False)"
   ]
  },
  {
   "cell_type": "code",
   "execution_count": null,
   "metadata": {},
   "outputs": [],
   "source": [
    "# Print per sequence results for all sequences\n",
    "filter_criteria = None\n",
    "dataset = get_dataset('otb', 'nfs', 'uav')\n",
    "print_per_sequence_results(trackers, dataset, 'OTB+NFS+UAV', merge_results=True, filter_criteria=filter_criteria, force_evaluation=False)"
   ]
  }
 ],
 "metadata": {
  "kernelspec": {
   "display_name": "Python 3 (ipykernel)",
   "language": "python",
   "name": "python3"
  },
  "language_info": {
   "codemirror_mode": {
    "name": "ipython",
    "version": 3
   },
   "file_extension": ".py",
   "mimetype": "text/x-python",
   "name": "python",
   "nbconvert_exporter": "python",
   "pygments_lexer": "ipython3",
   "version": "3.8.13"
  }
 },
 "nbformat": 4,
 "nbformat_minor": 4
}
